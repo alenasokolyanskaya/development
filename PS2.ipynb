{
 "cells": [
  {
   "cell_type": "markdown",
   "metadata": {},
   "source": [
    "# Problem set 2"
   ]
  },
  {
   "cell_type": "markdown",
   "metadata": {},
   "source": [
    "## Question 1.1 a)"
   ]
  },
  {
   "cell_type": "markdown",
   "metadata": {},
   "source": [
    "Welfare gain is defined as $ g $ such that:\n",
    "$$ W((1+g)c_a) = W(c_b) $$\n",
    "In this the case of eta = 1 (logarithmic utility function), gain is such that:\n",
    "$$ E{ \\sum^{40}_{t=1} \\beta^{12(t-1)} [ \\sum^{12}_{m=1} \\beta^{m-1}[\\log(1+g)c_{m,t}^{Risk}]] }= \\sum^{40}_{t=1} \\beta^{12(t-1)} [ \\sum^{12}_{m=1} \\beta^{m-1}[\\log c_{m,t}^{No Risk}]] $$\n",
    "thus,\n",
    "$$ \\sum^{40}_{t=1} \\beta^{12(t-1)} \\sum^{12}_{m=1} \\beta^{m-1} \\log (1+g) + E\\sum^{40}_{t=1} \\beta^{12(t-1)} \\sum^{12}_{m=1} \\beta^{m-1} \\log c_{m,t}^{Risk} = \\sum^{40}_{t=1} \\beta^{12(t-1)} [ \\sum^{12}_{m=1} \\beta^{m-1}[\\log c_{m,t}^{No Risk}]]$$\n",
    "\n",
    "and,\n",
    "$$  \\log(1+g) = \\frac{\\sum^{40}_{t=1} \\beta^{12(t-1)} [ \\sum^{12}_{m=1} \\beta^{m-1}[\\log c_{m,t}^{No Risk}]] - E\\sum^{40}_{t=1} \\beta^{12(t-1)} \\sum^{12}_{m=1} \\beta^{m-1} \\log c_{m,t}^{Risk}}{\\sum^{40}_{t=1} \\beta^{12(t-1)} \\sum^{12}_{m=1} \\beta^{m-1}} $$\n",
    "\n",
    "so, \n",
    "\n",
    "$$ g = \\exp({\\frac{\\sum^{40}_{t=1} \\beta^{12(t-1)} [ \\sum^{12}_{m=1} \\beta^{m-1}[\\log c_{m,t}^{No Risk}]] - E\\sum^{40}_{t=1} \\beta^{12(t-1)} \\sum^{12}_{m=1} \\beta^{m-1} \\log c_{m,t}^{Risk}}{\\sum^{40}_{t=1} \\beta^{12(t-1)} \\sum^{12}_{m=1} \\beta^{m-1}}}) - 1$$"
   ]
  },
  {
   "cell_type": "code",
   "execution_count": 1,
   "metadata": {},
   "outputs": [],
   "source": [
    "import pandas as pd\n",
    "import numpy as np\n",
    "import math\n",
    "import matplotlib.pyplot as plt"
   ]
  },
  {
   "cell_type": "code",
   "execution_count": 2,
   "metadata": {},
   "outputs": [],
   "source": [
    "var_e = 0.2\n",
    "var_u = 0.2\n",
    "\n",
    "ln_e = np.random.normal(0,var_e, size=(1000,40,12))\n",
    "ln_z = np.random.normal(0,var_u, size=(1000))\n",
    "\n",
    "\n",
    "\n",
    "def g(level):\n",
    "    g = pd.DataFrame({'middle': [0.863, 0.691, 1.151, 1.14, 1.094, 1.06, 1.037, 1.037, 1.037, 1.002, 0.968, 0.921],\n",
    "                  'high': [0.727, 0.381, 1.303, 1.28, 1.188, 1.119, 1.073, 1.073, 1.073, 1.004, 0.935, 0.843],\n",
    "                  'low': [0.932, 0.845, 1.076, 1.07, 1.047, 1.03, 1.018, 1.018, 1.018, 1.001, 0.984, 0.961]})[level]\n",
    "    return g\n",
    "\n",
    "def var_m(level):\n",
    "    var_m = pd.DataFrame({'middle': [0.085, 0.068, 0.29, 0.283, 0.273, 0.273, 0.239, 0.205, 0.188, 0.188, 0.171, 0.137],\n",
    "                       'high': [0.171, 0.137, 0.58, 0.567, 0.546, 0.546, 0.478, 0.41, 0.376, 0.376, 0.341, 0.273],\n",
    "                       'low': [0.043, 0.034, 0.145, 0.142, 0.137, 0.137, 0.119, 0.102, 0.094, 0.094, 0.085, 0.068],\n",
    "                       'none': [0,0,0,0,0,0,0,0,0,0,0,0]})[level]\n",
    "    return var_m"
   ]
  },
  {
   "cell_type": "code",
   "execution_count": 3,
   "metadata": {},
   "outputs": [],
   "source": [
    "# Q1 eta 1 = log consumption    \n",
    "def c_1_a(g_level):\n",
    "    c_no_risk = np.zeros(shape=(1000, 40*12))\n",
    "    c_risk = np.zeros(shape=(1000, 40*12))\n",
    "    g_deter = g(g_level)\n",
    "    for i in range(1000):\n",
    "        for o in range(40*12):\n",
    "            c_no_risk[i][o] = np.exp(-var_u/2)*np.exp(ln_z[i])*np.exp(-var_e/2)*np.exp(ln_e[i][math.floor(o/12)][o%12])\n",
    "            c_risk[i][o] = np.exp(-var_u/2)*np.exp(ln_z[i])*(g_deter[o%12])*np.exp(-var_e/2)*np.exp(ln_e[i][math.floor(o/12)][o%12]) \n",
    "    return c_no_risk, c_risk\n",
    "\n",
    "def gain_1_a(c_1_a_no_risk, c_1_a_risk):\n",
    "    gain = np.zeros(1000)\n",
    "    for i in range(1000):\n",
    "        gain[i] = np.exp((sum(np.power(0.99, range(1,481))*np.log(c_1_a_no_risk[i]))-sum(np.power(0.99, range(1,481))*np.log(c_1_a_risk[i])))/sum(np.power(0.99, range(1,481))))-1\n",
    "    return gain"
   ]
  },
  {
   "cell_type": "code",
   "execution_count": 4,
   "metadata": {},
   "outputs": [],
   "source": [
    "# high \n",
    "c_1_a_no_risk_high, c_1_a_risk_high = c_1_a('high')         \n",
    "gain_1_a_high = gain_1_a(c_1_a_no_risk_high, c_1_a_risk_high)\n",
    "\n",
    "# middle \n",
    "c_1_a_no_risk_middle, c_1_a_risk_middle = c_1_a('middle')               \n",
    "gain_1_a_middle = gain_1_a(c_1_a_no_risk_middle, c_1_a_risk_middle)\n",
    "\n",
    "# low\n",
    "c_1_a_no_risk_low, c_1_a_risk_low = c_1_a('low')          \n",
    "gain_1_a_low = gain_1_a(c_1_a_no_risk_low, c_1_a_risk_low)"
   ]
  },
  {
   "cell_type": "code",
   "execution_count": 5,
   "metadata": {},
   "outputs": [
    {
     "data": {
      "text/plain": [
       "<matplotlib.legend.Legend at 0x24543584c88>"
      ]
     },
     "execution_count": 5,
     "metadata": {},
     "output_type": "execute_result"
    },
    {
     "data": {
      "image/png": "[encoded data removed]",
      "text/plain": [
       "<Figure size 432x288 with 1 Axes>"
      ]
     },
     "metadata": {},
     "output_type": "display_data"
    }
   ],
   "source": [
    "plt.hist(gain_1_a_high, label=\"high degree\")\n",
    "plt.title(\"Q1.a)\")\n",
    "plt.legend()\n",
    "\n",
    "#Actually all HHs get the same welfare gain which is negligible"
   ]
  },
  {
   "cell_type": "markdown",
   "metadata": {},
   "source": [
    "All individuals got gain that is exactly the same. This is logical because U function is: log(a*b*c) = log a + log b + log c and we remove log b for everyone. (with help of Pau)"
   ]
  },
  {
   "cell_type": "markdown",
   "metadata": {},
   "source": [
    "## Question 1.1. b)"
   ]
  },
  {
   "cell_type": "code",
   "execution_count": 6,
   "metadata": {},
   "outputs": [],
   "source": [
    "def c_1_b(g_level):\n",
    "    c_no_risk = np.zeros(shape=(1000, 40*12))\n",
    "    c_risk = np.zeros(shape=(1000, 40*12))\n",
    "    g_deter = g(g_level)\n",
    "    for i in range(1000):\n",
    "        for o in range(40*12):\n",
    "            c_no_risk[i][o] = np.exp(-var_u/2)*np.exp(ln_z[i])*(g_deter[o%12])\n",
    "            c_risk[i][o] = np.exp(-var_u/2)*np.exp(ln_z[i])*(g_deter[o%12])*np.exp(-var_e/2)*np.exp(ln_e[i][math.floor(o/12)][o%12]) \n",
    "    return c_no_risk, c_risk\n",
    "            \n",
    "def gain_1_b(c_1_no_risk, c_1_risk):\n",
    "    gain = np.zeros(1000)\n",
    "    for i in range(1000):\n",
    "        gain[i] = np.exp((sum(np.power(0.99, range(1,481))*np.log(c_1_no_risk[i]))-sum(np.power(0.99, range(1,481))*np.log(c_1_risk[i])))/sum(np.power(0.99, range(1,481))))-1\n",
    "    return gain"
   ]
  },
  {
   "cell_type": "code",
   "execution_count": 7,
   "metadata": {},
   "outputs": [],
   "source": [
    "c_1_b_no_risk, c_1_b_risk = c_1_b('middle')         \n",
    "gain_1_b_middle = gain_1_b(c_1_b_no_risk, c_1_b_risk)"
   ]
  },
  {
   "cell_type": "code",
   "execution_count": 8,
   "metadata": {},
   "outputs": [
    {
     "data": {
      "text/plain": [
       "<function matplotlib.pyplot.show>"
      ]
     },
     "execution_count": 8,
     "metadata": {},
     "output_type": "execute_result"
    },
    {
     "data": {
      "image/png": "[encoded data removed]",
      "text/plain": [
       "<Figure size 432x288 with 1 Axes>"
      ]
     },
     "metadata": {},
     "output_type": "display_data"
    }
   ],
   "source": [
    "plt.hist(gain_1_b_middle, bins = 60)\n",
    "plt.title(\"Q1.b) Welfare gain of removing nonseasonal stochastic component\")\n",
    "plt.show"
   ]
  },
  {
   "cell_type": "markdown",
   "metadata": {},
   "source": [
    "## Question 1.1. c)"
   ]
  },
  {
   "cell_type": "markdown",
   "metadata": {},
   "source": [
    "Removal of stochastic nonseasonal (individual specific) componend diversified the gains for individuals."
   ]
  },
  {
   "cell_type": "markdown",
   "metadata": {},
   "source": [
    "## Question 1.1. d)"
   ]
  },
  {
   "cell_type": "markdown",
   "metadata": {},
   "source": [
    "### eta = 2\n",
    "\n",
    "$$ E{ \\sum^{40}_{t=1} \\beta^{12(t-1)} [ \\sum^{12}_{m=1} \\beta^{m-1}[\\frac{[(1+g)c_{m,t}^{Risk}]^{(1-\\eta)}}{1-\\eta}]] }= \\sum^{40}_{t=1} \\beta^{12(t-1)} [ \\sum^{12}_{m=1} \\beta^{m-1}[\\frac{c_{m,t}^{No Risk^{(1-\\eta)}}}{1-\\eta}]] $$\n",
    "thus,\n",
    "\n",
    "$$ g = [\\frac{\\sum^{40}_{t=1} \\beta^{t-1} \\sum^{12}_{m=1} \\beta^{m-1} \\frac{(c_{m,t}^{No Risk})^{1-\\eta}}{1-\\eta}}{ E\\sum^{40}_{t=1} \\beta^{t-1} \\sum^{12}_{m=1} \\beta^{m-1} \\frac{(c_{m,t}^{Risk})^{1-\\eta}}{1-\\eta}}]^{\\frac{1}{1-\\eta}} - 1$$"
   ]
  },
  {
   "cell_type": "markdown",
   "metadata": {},
   "source": [
    "### Removing seasonal component"
   ]
  },
  {
   "cell_type": "code",
   "execution_count": 9,
   "metadata": {},
   "outputs": [],
   "source": [
    "def gain_1_da_eta2(c_1_da_eta2_no_risk, c_1_da_eta2_risk):\n",
    "    eta = 2\n",
    "    gain = np.zeros(1000)\n",
    "    for i in range(1000):\n",
    "        gain[i] = (sum(np.power(0.99, range(1,481))*np.power(c_1_da_eta2_no_risk[i],(1-eta))/(1-eta))/  sum(np.power(0.99, range(1,481))*np.power(c_1_da_eta2_risk[i],(1-eta))/(1-eta))) **(1/(1-eta))-1 #-sum(np.power(0.99, range(1,481))*(c_1_da_eta2risk[i])**(1-eta)/(1-eta))/sum(np.power(0.99, range(1,481))))-1\n",
    "    return gain"
   ]
  },
  {
   "cell_type": "code",
   "execution_count": 10,
   "metadata": {},
   "outputs": [],
   "source": [
    "#high   \n",
    "gain_1_da_eta2_high = gain_1_da_eta2(c_1_a_no_risk_high, c_1_a_risk_high)\n",
    "\n",
    "# middle            \n",
    "gain_1_da_eta2_middle = gain_1_da_eta2(c_1_a_no_risk_middle, c_1_a_risk_middle)\n",
    "\n",
    "# low      \n",
    "gain_1_da_eta2_low = gain_1_da_eta2(c_1_a_no_risk_low, c_1_a_risk_low)"
   ]
  },
  {
   "cell_type": "code",
   "execution_count": 11,
   "metadata": {},
   "outputs": [
    {
     "data": {
      "text/plain": [
       "Text(0.5,1,'Q1.d) Welfare gains of removing the seasonal component by degree of seasonality, eta = 2')"
      ]
     },
     "execution_count": 11,
     "metadata": {},
     "output_type": "execute_result"
    },
    {
     "data": {
      "image/png": "[encoded data removed]",
      "text/plain": [
       "<Figure size 432x288 with 1 Axes>"
      ]
     },
     "metadata": {},
     "output_type": "display_data"
    }
   ],
   "source": [
    "# plot histograms\n",
    "plt.hist(gain_1_da_eta2_high, label=\"high degree\")\n",
    "plt.hist(gain_1_da_eta2_middle, label=\"middle degree\")\n",
    "plt.hist(gain_1_da_eta2_low, label=\"low degree\")\n",
    "plt.legend()\n",
    "plt.title(\"Q1.d) Welfare gains of removing the seasonal component by degree of seasonality, eta = 2\")"
   ]
  },
  {
   "cell_type": "markdown",
   "metadata": {},
   "source": [
    "Unilike in the case of log utility function, here removal of seasonal deterministic component resulted in different welfare gains for individual. Moreover we can observe that the higher degree of seasonality, the higher gain of removing the component."
   ]
  },
  {
   "cell_type": "markdown",
   "metadata": {},
   "source": [
    "### Removing nonseasonal stochastic component"
   ]
  },
  {
   "cell_type": "code",
   "execution_count": 12,
   "metadata": {},
   "outputs": [],
   "source": [
    "def gain_1_db(c_1_no_risk, c_1_risk):\n",
    "    eta = 2\n",
    "    gain = np.zeros(1000)\n",
    "    for i in range(1000):\n",
    "        gain[i] = (sum(np.power(0.99, range(1,481))*np.power(c_1_no_risk[i],(1-eta))/(1-eta))/  sum(np.power(0.99, range(1,481))*np.power(c_1_risk[i],(1-eta))/(1-eta))) **(1/(1-eta))-1 #-sum(np.power(0.99, range(1,481))*(c_1_da_eta2risk[i])**(1-eta)/(1-eta))/sum(np.power(0.99, range(1,481))))-1\n",
    "    return gain"
   ]
  },
  {
   "cell_type": "code",
   "execution_count": 13,
   "metadata": {},
   "outputs": [],
   "source": [
    "# removal of nonseasonal risk \n",
    "gain_1_db_eta2 = gain_1_db(c_1_b_no_risk, c_1_b_risk)"
   ]
  },
  {
   "cell_type": "code",
   "execution_count": 14,
   "metadata": {},
   "outputs": [
    {
     "data": {
      "image/png": "[encoded data removed]",
      "text/plain": [
       "<Figure size 432x288 with 1 Axes>"
      ]
     },
     "metadata": {},
     "output_type": "display_data"
    }
   ],
   "source": [
    "# plot histograms\n",
    "plt.hist(gain_1_db_eta2)\n",
    "plt.title(\"Q1.d) Welfare gains of removing the nonseasonal component, eta = 2\")\n",
    "plt.show()"
   ]
  },
  {
   "cell_type": "markdown",
   "metadata": {},
   "source": [
    "### eta = 4"
   ]
  },
  {
   "cell_type": "markdown",
   "metadata": {},
   "source": [
    "### Removing seasonal component"
   ]
  },
  {
   "cell_type": "code",
   "execution_count": 15,
   "metadata": {},
   "outputs": [],
   "source": [
    "def gain_1_da_eta4(c_1_da_no_risk, c_1_da_risk):\n",
    "    eta = 4\n",
    "    gain = np.zeros(1000)\n",
    "    for i in range(1000):\n",
    "        gain[i] = (sum(np.power(0.99, range(1,481))*np.power(c_1_da_no_risk[i],(1-eta))/(1-eta))/  sum(np.power(0.99, range(1,481))*np.power(c_1_da_risk[i],(1-eta))/(1-eta))) **(1/(1-eta))-1 #-sum(np.power(0.99, range(1,481))*(c_1_da_eta2risk[i])**(1-eta)/(1-eta))/sum(np.power(0.99, range(1,481))))-1\n",
    "    return gain"
   ]
  },
  {
   "cell_type": "code",
   "execution_count": 16,
   "metadata": {},
   "outputs": [],
   "source": [
    "#high   \n",
    "gain_1_da_eta4_high = gain_1_da_eta4(c_1_a_no_risk_high, c_1_a_risk_high)\n",
    "\n",
    "# middle            \n",
    "gain_1_da_eta4_middle = gain_1_da_eta4(c_1_a_no_risk_middle, c_1_a_risk_middle)\n",
    "\n",
    "# low      \n",
    "gain_1_da_eta4_low = gain_1_da_eta4(c_1_a_no_risk_low, c_1_a_risk_low)"
   ]
  },
  {
   "cell_type": "code",
   "execution_count": 17,
   "metadata": {},
   "outputs": [
    {
     "data": {
      "image/png": "[encoded data removed]",
      "text/plain": [
       "<Figure size 432x288 with 1 Axes>"
      ]
     },
     "metadata": {},
     "output_type": "display_data"
    }
   ],
   "source": [
    "# plot histograms\n",
    "plt.hist(gain_1_da_eta4_high, label=\"high degree\", bins=30)\n",
    "plt.hist(gain_1_da_eta4_middle, label=\"middle degree\",bins=30)\n",
    "plt.hist(gain_1_da_eta4_low, label=\"low degree\",bins=30)\n",
    "plt.legend()\n",
    "plt.title(\"Q1.d) Welfare gains of removing the seasonal component by degree of seasonality, eta = 4\")\n",
    "plt.show()"
   ]
  },
  {
   "cell_type": "markdown",
   "metadata": {},
   "source": [
    "The higher eta the higher welfer gains"
   ]
  },
  {
   "cell_type": "markdown",
   "metadata": {},
   "source": [
    "### Removing nonseasonal component"
   ]
  },
  {
   "cell_type": "code",
   "execution_count": 18,
   "metadata": {},
   "outputs": [],
   "source": [
    "def gain_1_db_eta4(c_1_no_risk, c_1_risk):\n",
    "    eta=4\n",
    "    gain = np.zeros(1000)\n",
    "    for i in range(1000):\n",
    "        gain[i] = np.exp(((sum(np.power(0.99, range(1,481))*(c_1_no_risk[i])**(1-eta)/(1-eta)))-sum(np.power(0.99, range(1,481))*(c_1_risk[i])**(1-eta)/(1-eta)))/sum(np.power(0.99, range(1,481))))-1\n",
    "    return gain"
   ]
  },
  {
   "cell_type": "code",
   "execution_count": 19,
   "metadata": {},
   "outputs": [],
   "source": [
    "# middle \n",
    "gain_1_db_eta4 = gain_1_db_eta4(c_1_b_no_risk, c_1_b_risk)"
   ]
  },
  {
   "cell_type": "code",
   "execution_count": 20,
   "metadata": {},
   "outputs": [
    {
     "data": {
      "image/png": "[encoded data removed]",
      "text/plain": [
       "<Figure size 432x288 with 1 Axes>"
      ]
     },
     "metadata": {},
     "output_type": "display_data"
    }
   ],
   "source": [
    "# plot histograms\n",
    "plt.hist(gain_1_db_eta4, bins=60)\n",
    "plt.title(\"Q1.d) Welfare gains of removing the nonseasonal component eta = 4\")\n",
    "plt.show()"
   ]
  },
  {
   "cell_type": "markdown",
   "metadata": {},
   "source": [
    "## Compare eta 1, 2, 4"
   ]
  },
  {
   "cell_type": "code",
   "execution_count": 21,
   "metadata": {},
   "outputs": [
    {
     "data": {
      "text/plain": [
       "<matplotlib.legend.Legend at 0x24545303a58>"
      ]
     },
     "execution_count": 21,
     "metadata": {},
     "output_type": "execute_result"
    },
    {
     "data": {
      "image/png": "[encoded data removed]",
      "text/plain": [
       "<Figure size 432x288 with 1 Axes>"
      ]
     },
     "metadata": {},
     "output_type": "display_data"
    }
   ],
   "source": [
    "plt.hist(gain_1_a_high, label=\"eta 1\")\n",
    "plt.hist(gain_1_da_eta2_high, label=\"eta 2\")\n",
    "plt.hist(gain_1_da_eta4_high, label=\"eta 4\")\n",
    "#plt.xlim(0.01, 0.025)\n",
    "plt.legend()"
   ]
  },
  {
   "cell_type": "code",
   "execution_count": 22,
   "metadata": {},
   "outputs": [
    {
     "data": {
      "image/png": "[encoded data removed]",
      "text/plain": [
       "<Figure size 432x288 with 1 Axes>"
      ]
     },
     "metadata": {},
     "output_type": "display_data"
    }
   ],
   "source": [
    "plt.hist(gain_1_a_high, label=\"eta 1\", bins=4)\n",
    "plt.show()"
   ]
  },
  {
   "cell_type": "code",
   "execution_count": 23,
   "metadata": {},
   "outputs": [
    {
     "data": {
      "text/plain": [
       "0.04644733018111912"
      ]
     },
     "execution_count": 23,
     "metadata": {},
     "output_type": "execute_result"
    }
   ],
   "source": [
    "np.mean(gain_1_a_high)"
   ]
  },
  {
   "cell_type": "markdown",
   "metadata": {},
   "source": [
    "## Question 1.2. a)"
   ]
  },
  {
   "cell_type": "markdown",
   "metadata": {},
   "source": [
    "### removing Stochastic Seasonal Component"
   ]
  },
  {
   "cell_type": "code",
   "execution_count": 24,
   "metadata": {},
   "outputs": [],
   "source": [
    "def c_1_2_a(g_level, var_m_level):\n",
    "    c_no_risk = np.zeros(shape=(1000, 40*12))\n",
    "    c_risk = np.zeros(shape=(1000, 40*12))\n",
    "    g_deter = g(g_level)\n",
    "    var_m_stoch = var_m(var_m_level)\n",
    "    ln_em = np.random.normal(0,var_m_stoch, size=(1000,40,12))\n",
    "    \n",
    "    for i in range(1000):\n",
    "        for o in range(40*12):\n",
    "            c_no_risk[i][o] = np.exp(-var_u/2)*np.exp(ln_z[i])*np.exp(-var_e/2)*np.exp(ln_e[i][math.floor(o/12)][o%12])\n",
    "            c_risk[i][o] = np.exp(-var_u/2)*np.exp(ln_z[i])*g_deter[o%12]*np.exp(-var_e/2)*np.exp(ln_e[i][math.floor(o/12)][o%12])*np.exp(-var_m_stoch[o%12]/2)*np.exp(ln_em[i][math.floor(o/12)][o%12]) \n",
    "    return c_no_risk, c_risk\n",
    "\n",
    "def gain_1_2_a(c_1_a_no_risk, c_1_a_risk):\n",
    "    gain = np.zeros(1000)\n",
    "    for i in range(1000):\n",
    "        gain[i] = np.exp((sum(np.power(0.99, range(1,481))*np.log(c_1_a_no_risk[i]))-sum(np.power(0.99, range(1,481))*np.log(c_1_a_risk[i])))/sum(np.power(0.99, range(1,481))))-1\n",
    "    return gain"
   ]
  },
  {
   "cell_type": "markdown",
   "metadata": {},
   "source": [
    "#### for Deterministic Seasonal Component on high degree"
   ]
  },
  {
   "cell_type": "code",
   "execution_count": 25,
   "metadata": {},
   "outputs": [],
   "source": [
    "# high seasonal deterministic, high stochastic seasonas component\n",
    "c_1_2_a_no_risk_high_high, c_1_2_a_risk_high_high = c_1_2_a('high', 'high')         \n",
    "gain_1_2_a_high_high = gain_1_2_a(c_1_2_a_no_risk_high_high, c_1_2_a_risk_high_high)\n",
    "\n",
    "# high seasonal deterministic, middle stochastic seasonas component\n",
    "c_1_2_a_no_risk_high_middle, c_1_2_a_risk_high_middle = c_1_2_a('high', 'middle')               \n",
    "gain_1_2_a_high_middle = gain_1_2_a(c_1_2_a_no_risk_high_middle, c_1_2_a_risk_high_middle)\n",
    "\n",
    "# high seasonal deterministic, low stochastic seasonas component\n",
    "c_1_2_a_no_risk_high_low, c_1_2_a_risk_high_low = c_1_2_a('high', 'low')          \n",
    "gain_1_2_a_high_low = gain_1_2_a(c_1_2_a_no_risk_high_low, c_1_2_a_risk_high_low)"
   ]
  },
  {
   "cell_type": "code",
   "execution_count": 26,
   "metadata": {
    "scrolled": true
   },
   "outputs": [
    {
     "data": {
      "text/plain": [
       "Text(0.5,1,'Gain of removal of seasonal components. Deterministic seasonal component fixed at high degree')"
      ]
     },
     "execution_count": 26,
     "metadata": {},
     "output_type": "execute_result"
    },
    {
     "data": {
      "image/png": "[encoded data removed]",
      "text/plain": [
       "<Figure size 432x288 with 1 Axes>"
      ]
     },
     "metadata": {},
     "output_type": "display_data"
    }
   ],
   "source": [
    "plt.hist(gain_1_2_a_high_high, label=\"high - stochastic seasonal\")\n",
    "plt.hist(gain_1_2_a_high_middle, label=\"middle - stochastic seasonal\")\n",
    "plt.hist(gain_1_2_a_high_low, label=\"low - stochastic seasonal\")\n",
    "#plt.xlim(0.01, 0.025)\n",
    "plt.legend()\n",
    "plt.title(\"Gain of removal of seasonal components. Deterministic seasonal component fixed at high degree\")"
   ]
  },
  {
   "cell_type": "markdown",
   "metadata": {},
   "source": [
    "#### for Deterministic Seasonal Component on middle degree"
   ]
  },
  {
   "cell_type": "code",
   "execution_count": 27,
   "metadata": {},
   "outputs": [],
   "source": [
    "# middle seasonal deterministic, high stochastic seasonas component\n",
    "c_1_2_a_no_risk_middle_high, c_1_2_a_risk_middle_high = c_1_2_a('middle', 'high')         \n",
    "gain_1_2_a_middle_high = gain_1_2_a(c_1_2_a_no_risk_middle_high, c_1_2_a_risk_middle_high)\n",
    "\n",
    "# middle seasonal deterministic, middle stochastic seasonas component\n",
    "c_1_2_a_no_risk_middle_middle, c_1_2_a_risk_middle_middle = c_1_2_a('middle', 'middle')               \n",
    "gain_1_2_a_middle_middle = gain_1_2_a(c_1_2_a_no_risk_middle_middle, c_1_2_a_risk_middle_middle)\n",
    "\n",
    "# middle seasonal deterministic, low stochastic seasonas component\n",
    "c_1_2_a_no_risk_middle_low, c_1_2_a_risk_middle_low = c_1_2_a('middle', 'low')          \n",
    "gain_1_2_a_middle_low = gain_1_2_a(c_1_2_a_no_risk_middle_low, c_1_2_a_risk_middle_low)"
   ]
  },
  {
   "cell_type": "code",
   "execution_count": 28,
   "metadata": {},
   "outputs": [
    {
     "data": {
      "text/plain": [
       "Text(0.5,1,'Gain of removal of seasonal components. Deterministic component fixed at middle degree')"
      ]
     },
     "execution_count": 28,
     "metadata": {},
     "output_type": "execute_result"
    },
    {
     "data": {
      "image/png": "[encoded data removed]",
      "text/plain": [
       "<Figure size 432x288 with 1 Axes>"
      ]
     },
     "metadata": {},
     "output_type": "display_data"
    }
   ],
   "source": [
    "plt.hist(gain_1_2_a_middle_high, label=\"high - stochastic seasonal\")\n",
    "plt.hist(gain_1_2_a_middle_middle, label=\"middle - stochastic seasonal\")\n",
    "plt.hist(gain_1_2_a_middle_low, label=\"low - stochastic seasonal\")\n",
    "plt.legend()\n",
    "plt.title(\"Gain of removal of seasonal components. Deterministic component fixed at middle degree\")"
   ]
  },
  {
   "cell_type": "markdown",
   "metadata": {},
   "source": [
    "The higher degree of seasonal "
   ]
  },
  {
   "cell_type": "markdown",
   "metadata": {},
   "source": [
    "#### for Deterministic Seasonal Component on low degree"
   ]
  },
  {
   "cell_type": "code",
   "execution_count": 29,
   "metadata": {},
   "outputs": [],
   "source": [
    "# low seasonal deterministic, high stochastic seasonas component\n",
    "c_1_2_a_no_risk_low_high, c_1_2_a_risk_low_high = c_1_2_a('low', 'high')         \n",
    "gain_1_2_a_low_high = gain_1_2_a(c_1_2_a_no_risk_low_high, c_1_2_a_risk_low_high)\n",
    "\n",
    "# low seasonal deterministic, middle stochastic seasonas component\n",
    "c_1_2_a_no_risk_low_middle, c_1_2_a_risk_low_middle = c_1_2_a('low', 'middle')               \n",
    "gain_1_2_a_low_middle = gain_1_2_a(c_1_2_a_no_risk_low_middle, c_1_2_a_risk_low_middle)\n",
    "\n",
    "# low seasonal deterministic, low stochastic seasonas component\n",
    "c_1_2_a_no_risk_low_low, c_1_2_a_risk_low_low = c_1_2_a('low', 'low')          \n",
    "gain_1_2_a_low_low = gain_1_2_a(c_1_2_a_no_risk_low_low, c_1_2_a_risk_low_low)"
   ]
  },
  {
   "cell_type": "code",
   "execution_count": 30,
   "metadata": {},
   "outputs": [
    {
     "data": {
      "text/plain": [
       "Text(0.5,1,'Gain of removal of stochastic seasonal component. Deterministic seasonal component has low degree')"
      ]
     },
     "execution_count": 30,
     "metadata": {},
     "output_type": "execute_result"
    },
    {
     "data": {
      "image/png": "[encoded data removed]",
      "text/plain": [
       "<Figure size 432x288 with 1 Axes>"
      ]
     },
     "metadata": {},
     "output_type": "display_data"
    }
   ],
   "source": [
    "plt.hist(gain_1_2_a_low_high, label=\"high stochastic seasonal\")\n",
    "plt.hist(gain_1_2_a_low_middle, label=\"middle stochastic seasonal\")\n",
    "plt.hist(gain_1_2_a_low_low, label=\"low stochastic seasonal\")\n",
    "plt.legend()\n",
    "plt.title(\"Gain of removal of stochastic seasonal component. Deterministic seasonal component has low degree\")"
   ]
  },
  {
   "cell_type": "markdown",
   "metadata": {},
   "source": [
    "#### Compare pairs (deterministic, stochastic): (high, high), (middle, middle), (low, low)"
   ]
  },
  {
   "cell_type": "code",
   "execution_count": 31,
   "metadata": {},
   "outputs": [
    {
     "data": {
      "text/plain": [
       "Text(0.5,1,'Gain of removal of stochastic seasonal component. Deterministic seasonal component has low degree')"
      ]
     },
     "execution_count": 31,
     "metadata": {},
     "output_type": "execute_result"
    },
    {
     "data": {
      "image/png": "[encoded data removed]",
      "text/plain": [
       "<Figure size 432x288 with 1 Axes>"
      ]
     },
     "metadata": {},
     "output_type": "display_data"
    }
   ],
   "source": [
    "plt.hist(gain_1_2_a_high_high, label=\"high-high\")\n",
    "plt.hist(gain_1_2_a_middle_middle, label=\"middle-middle\")\n",
    "plt.hist(gain_1_2_a_low_low, label=\"low-low\")\n",
    "plt.legend()\n",
    "plt.title(\"Gain of removal of stochastic seasonal component. Deterministic seasonal component has low degree\")"
   ]
  },
  {
   "cell_type": "markdown",
   "metadata": {},
   "source": [
    "## Question 1.2. b) Removing nonseasonal stochastic component"
   ]
  },
  {
   "cell_type": "markdown",
   "metadata": {},
   "source": [
    "### eta = 1"
   ]
  },
  {
   "cell_type": "code",
   "execution_count": 32,
   "metadata": {},
   "outputs": [],
   "source": [
    "def c_1_2_b(g_level, var_m_level):\n",
    "    c_no_risk = np.zeros(shape=(1000, 40*12))\n",
    "    c_risk = np.zeros(shape=(1000, 40*12))\n",
    "    g_deter = g(g_level)\n",
    "    var_m_stoch = var_m(var_m_level)\n",
    "    ln_em = np.random.normal(0,var_m_stoch, size=(1000,40,12))\n",
    "    for i in range(1000):\n",
    "        for o in range(40*12):\n",
    "            c_no_risk[i][o] = np.exp(-var_u/2)*np.exp(ln_z[i])*g_deter[o%12]*np.exp(-var_m_stoch[o%12]/2)*np.exp(ln_em[i][math.floor(o/12)][o%12])\n",
    "            c_risk[i][o] = np.exp(-var_u/2)*np.exp(ln_z[i])*g_deter[o%12]*np.exp(-var_e/2)*np.exp(ln_e[i][math.floor(o/12)][o%12])*np.exp(-var_m_stoch[o%12]/2)*np.exp(ln_em[i][math.floor(o/12)][o%12]) \n",
    "    return c_no_risk, c_risk\n",
    "\n",
    "def gain_1_2_b(c_1_a_no_risk, c_1_a_risk):\n",
    "    gain = np.zeros(1000)\n",
    "    for i in range(1000):\n",
    "        gain[i] = np.exp((sum(np.power(0.99, range(1,481))*np.log(c_1_a_no_risk[i]))-sum(np.power(0.99, range(1,481))*np.log(c_1_a_risk[i])))/sum(np.power(0.99, range(1,481))))-1\n",
    "    return gain"
   ]
  },
  {
   "cell_type": "code",
   "execution_count": 33,
   "metadata": {},
   "outputs": [],
   "source": [
    "# middle seasonal deterministic, middle stochastic seasonas component\n",
    "c_1_2_b_no_risk_middle_middle, c_1_2_b_risk_middle_middle = c_1_2_b('middle', 'middle')               \n",
    "gain_1_2_b_middle_middle = gain_1_2_b(c_1_2_b_no_risk_middle_middle, c_1_2_b_risk_middle_middle)"
   ]
  },
  {
   "cell_type": "code",
   "execution_count": 34,
   "metadata": {},
   "outputs": [
    {
     "data": {
      "text/plain": [
       "Text(0.5,1,'Gain of removal of stochastic nonseasonal component. Seasonal components on middle degree')"
      ]
     },
     "execution_count": 34,
     "metadata": {},
     "output_type": "execute_result"
    },
    {
     "data": {
      "image/png": "[encoded data removed]",
      "text/plain": [
       "<Figure size 432x288 with 1 Axes>"
      ]
     },
     "metadata": {},
     "output_type": "display_data"
    }
   ],
   "source": [
    "plt.hist(gain_1_2_b_middle_middle, label=\"middle-middle\")\n",
    "plt.legend()\n",
    "plt.title(\"Gain of removal of stochastic nonseasonal component. Seasonal components on middle degree\")"
   ]
  },
  {
   "cell_type": "markdown",
   "metadata": {},
   "source": [
    "### Compare 1.1. b) and 1.2. b)"
   ]
  },
  {
   "cell_type": "code",
   "execution_count": 35,
   "metadata": {},
   "outputs": [
    {
     "data": {
      "text/plain": [
       "Text(0.5,1,'Gain of removal of stochastic nonseasonal component. Seasonal components on middle degree')"
      ]
     },
     "execution_count": 35,
     "metadata": {},
     "output_type": "execute_result"
    },
    {
     "data": {
      "image/png": "[encoded data removed]",
      "text/plain": [
       "<Figure size 432x288 with 1 Axes>"
      ]
     },
     "metadata": {},
     "output_type": "display_data"
    }
   ],
   "source": [
    "plt.hist(gain_1_b_middle, bins = 60, label=\"middle 1.1. b)\")\n",
    "plt.hist(gain_1_2_b_middle_middle, bins=60, label=\"middle-middle 1.2. b)\")\n",
    "plt.legend()\n",
    "plt.title(\"Gain of removal of stochastic nonseasonal component. Seasonal components on middle degree\")"
   ]
  },
  {
   "cell_type": "markdown",
   "metadata": {},
   "source": [
    "# Question 1.2. d) "
   ]
  },
  {
   "cell_type": "markdown",
   "metadata": {},
   "source": [
    "## eta = 4"
   ]
  },
  {
   "cell_type": "code",
   "execution_count": 40,
   "metadata": {},
   "outputs": [],
   "source": [
    "def gain_1_2_d(c_1_a_no_risk, c_1_a_risk):\n",
    "    eta = 4\n",
    "    gain = np.zeros(1000)\n",
    "    for i in range(1000):\n",
    "        gain[i] = (sum(np.power(0.99, range(1,481))*np.power(c_1_a_no_risk[i],(1-eta))/(1-eta))/  sum(np.power(0.99, range(1,481))*np.power(c_1_a_risk[i],(1-eta))/(1-eta)))**(1/(1-eta))-1 #-sum(np.power(0.99, range(1,481))*(c_1_da_eta2risk[i])**(1-eta)/(1-eta))/sum(np.power(0.99, range(1,481))))-1\n",
    "    return gain"
   ]
  },
  {
   "cell_type": "markdown",
   "metadata": {},
   "source": [
    "#### for Deterministic Seasonal Component on high degree"
   ]
  },
  {
   "cell_type": "code",
   "execution_count": 42,
   "metadata": {},
   "outputs": [],
   "source": [
    "# high seasonal deterministic, high stochastic seasonas component\n",
    "c_1_2_d_no_risk_high_high, c_1_2_d_risk_high_high = c_1_2_a('high', 'high')         \n",
    "gain_1_2_d_high_high = gain_1_2_d(c_1_2_d_no_risk_high_high, c_1_2_d_risk_high_high)\n",
    "\n",
    "# high seasonal deterministic, middle stochastic seasonas component\n",
    "c_1_2_d_no_risk_high_middle, c_1_2_d_risk_high_middle = c_1_2_a('high', 'middle')               \n",
    "gain_1_2_d_high_middle = gain_1_2_d(c_1_2_d_no_risk_high_middle, c_1_2_d_risk_high_middle)\n",
    "\n",
    "# high seasonal deterministic, low stochastic seasonas component\n",
    "c_1_2_d_no_risk_high_low, c_1_2_d_risk_high_low = c_1_2_a('high', 'low')          \n",
    "gain_1_2_d_high_low = gain_1_2_d(c_1_2_d_no_risk_high_low, c_1_2_d_risk_high_low)"
   ]
  },
  {
   "cell_type": "code",
   "execution_count": 43,
   "metadata": {
    "scrolled": true
   },
   "outputs": [
    {
     "data": {
      "text/plain": [
       "Text(0.5,1,'Gain of removal of seasonal components. Deterministic seasonal component fixed at high degree')"
      ]
     },
     "execution_count": 43,
     "metadata": {},
     "output_type": "execute_result"
    },
    {
     "data": {
      "image/png": "[encoded data removed]",
      "text/plain": [
       "<Figure size 432x288 with 1 Axes>"
      ]
     },
     "metadata": {},
     "output_type": "display_data"
    }
   ],
   "source": [
    "plt.hist(gain_1_2_d_high_high, label=\"high - stochastic seasonal\")\n",
    "plt.hist(gain_1_2_d_high_middle, label=\"middle - stochastic seasonal\")\n",
    "plt.hist(gain_1_2_d_high_low, label=\"low - stochastic seasonal\")\n",
    "#plt.xlim(0.01, 0.025)\n",
    "plt.legend()\n",
    "plt.title(\"Gain of removal of seasonal components. Deterministic seasonal component fixed at high degree\")"
   ]
  },
  {
   "cell_type": "markdown",
   "metadata": {},
   "source": [
    "#### for Deterministic Seasonal Component on middle degree"
   ]
  },
  {
   "cell_type": "code",
   "execution_count": null,
   "metadata": {},
   "outputs": [],
   "source": [
    "# middle seasonal deterministic, high stochastic seasonas component\n",
    "c_1_2_d_no_risk_middle_high, c_1_2_d_risk_middle_high = c_1_2_d('middle', 'high')         \n",
    "gain_1_2_d_middle_high = gain_1_2_d(c_1_2_d_no_risk_middle_high, c_1_2_d_risk_middle_high)\n",
    "\n",
    "# middle seasonal deterministic, middle stochastic seasonas component\n",
    "c_1_2_d_no_risk_middle_middle, c_1_2_d_risk_middle_middle = c_1_2_d('middle', 'middle')               \n",
    "gain_1_2_d_middle_middle = gain_1_2_d(c_1_2_d_no_risk_middle_middle, c_1_2_d_risk_middle_middle)\n",
    "\n",
    "# middle seasonal deterministic, low stochastic seasonas component\n",
    "c_1_2_d_no_risk_middle_low, c_1_2_d_risk_middle_low = c_1_2_d('middle', 'low')          \n",
    "gain_1_2_d_middle_low = gain_1_2_d(c_1_2_d_no_risk_middle_low, c_1_2_d_risk_middle_low)"
   ]
  },
  {
   "cell_type": "code",
   "execution_count": null,
   "metadata": {},
   "outputs": [],
   "source": [
    "plt.hist(gain_1_2_d_middle_high, label=\"high - stochastic seasonal\")\n",
    "plt.hist(gain_1_2_d_middle_middle, label=\"middle - stochastic seasonal\")\n",
    "plt.hist(gain_1_2_d_middle_low, label=\"low - stochastic seasonal\")\n",
    "plt.legend()\n",
    "plt.title(\"Gain of removal of seasonal components. Deterministic component fixed at middle degree\")"
   ]
  },
  {
   "cell_type": "markdown",
   "metadata": {},
   "source": [
    "#### for Deterministic Seasonal Component on low degree"
   ]
  },
  {
   "cell_type": "code",
   "execution_count": null,
   "metadata": {},
   "outputs": [],
   "source": [
    "# low seasonal deterministic, high stochastic seasonas component\n",
    "c_1_2_d_no_risk_low_high, c_1_2_d_risk_low_high = c_1_2_d('low', 'high')         \n",
    "gain_1_2_d_low_high = gain_1_2_d(c_1_2_d_no_risk_low_high, c_1_2_d_risk_low_high)\n",
    "\n",
    "# low seasonal deterministic, middle stochastic seasonas component\n",
    "c_1_2_d_no_risk_low_middle, c_1_2_d_risk_low_middle = c_1_2_d('low', 'middle')               \n",
    "gain_1_2_d_low_middle = gain_1_2_d(c_1_2_d_no_risk_low_middle, c_1_2_d_risk_low_middle)\n",
    "\n",
    "# low seasonal deterministic, low stochastic seasonas component\n",
    "c_1_2_d_no_risk_low_low, c_1_2_d_risk_low_low = c_1_2_d('low', 'low')          \n",
    "gain_1_2_d_low_low = gain_1_2_d(c_1_2_d_no_risk_low_low, c_1_2_d_risk_low_low)"
   ]
  },
  {
   "cell_type": "code",
   "execution_count": null,
   "metadata": {},
   "outputs": [],
   "source": [
    "plt.hist(gain_1_2_d_low_high, label=\"high stochastic seasonal\")\n",
    "plt.hist(gain_1_2_d_low_middle, label=\"middle stochastic seasonal\")\n",
    "plt.hist(gain_1_2_d_low_low, label=\"low stochastic seasonal\")\n",
    "plt.legend()\n",
    "plt.title(\"Gain of removal of stochastic seasonal component. Deterministic seasonal component has low degree\")"
   ]
  },
  {
   "cell_type": "markdown",
   "metadata": {},
   "source": [
    "#### Compare pairs (deterministic, stochastic): (high, high), (middle, middle), (low, low)"
   ]
  },
  {
   "cell_type": "code",
   "execution_count": null,
   "metadata": {},
   "outputs": [],
   "source": [
    "plt.hist(gain_1_2_d_high_high, label=\"high-high\")\n",
    "plt.hist(gain_1_2_d_middle_middle, label=\"middle-middle\")\n",
    "plt.hist(gain_1_2_d_low_low, label=\"low-low\")\n",
    "plt.legend()\n",
    "plt.title(\"Gain of removal of stochastic seasonal component. Deterministic seasonal component has low degree\")"
   ]
  },
  {
   "cell_type": "markdown",
   "metadata": {},
   "source": [
    "## Question 1.2. d) (b) Removing nonseasonal stochastic component"
   ]
  },
  {
   "cell_type": "markdown",
   "metadata": {},
   "source": [
    "### eta = 4"
   ]
  },
  {
   "cell_type": "code",
   "execution_count": null,
   "metadata": {},
   "outputs": [],
   "source": [
    "def gain_1_2_d(c_1_a_no_risk, c_1_a_risk):\n",
    "    eta = 4\n",
    "    gain = np.zeros(1000)\n",
    "    for i in range(1000):\n",
    "        gain[i] = (sum(np.power(0.99, range(1,481))*np.power(c_1_a_no_risk[i],(1-eta)/(1-eta)))/  sum(np.power(0.99, range(1,481))*np.power(c_1_a_risk[i],(1-eta)/(1-eta))) )**(1/(1-eta))-1 #-sum(np.power(0.99, range(1,481))*(c_1_da_eta2risk[i])**(1-eta)/(1-eta))/sum(np.power(0.99, range(1,481))))-1\n",
    "    return gain"
   ]
  },
  {
   "cell_type": "code",
   "execution_count": null,
   "metadata": {},
   "outputs": [],
   "source": [
    "# middle seasonal deterministic, middle stochastic seasonas component\n",
    "c_1_2_d_no_risk_middle_middle, c_1_2_d_risk_middle_middle = c_1_2_b('middle', 'middle')               \n",
    "gain_1_2_d_middle_middle = gain_1_2_d(c_1_2_d_no_risk_middle_middle, c_1_2_d_risk_middle_middle)"
   ]
  },
  {
   "cell_type": "code",
   "execution_count": null,
   "metadata": {},
   "outputs": [],
   "source": [
    "plt.hist(gain_1_2_d_middle_middle, label=\"middle-middle\")\n",
    "plt.legend()\n",
    "plt.title(\"Gain of removal of stochastic nonseasonal component. Seasonal components on middle degree\")"
   ]
  },
  {
   "cell_type": "code",
   "execution_count": null,
   "metadata": {},
   "outputs": [],
   "source": [
    "plt.plot(c_1_2_d_risk_low_low)"
   ]
  },
  {
   "cell_type": "code",
   "execution_count": null,
   "metadata": {},
   "outputs": [],
   "source": []
  },
  {
   "cell_type": "markdown",
   "metadata": {},
   "source": [
    "# Question 2."
   ]
  },
  {
   "cell_type": "markdown",
   "metadata": {},
   "source": [
    "Assume model:\n",
    "$$ max_{c_t, h_t} E_0 ( \\sum_{t=0}^{\\inf} \\beta^t  \\frac{c_t^{1-\\eta}}{1-\\eta}  - \\kappa \\frac{h_t^{1+\\frac{1}{v}}}{1+\\frac{1}{v}}    )  $$\n",
    "such that:\n",
    "$$ c_t + a_{t+1} = w_t h_t + (1+r_t - \\delta) a_{t} $$\n",
    "\n",
    "moreover assuming cobb - douglas production function ( $ \\alpha = 0.66 $) and perfect competition\n",
    "$$ w_t = 0.66 \\frac{c_t}{h_t} $$\n"
   ]
  },
  {
   "cell_type": "markdown",
   "metadata": {},
   "source": [
    "Welfare gain is defined as $ g $ such that:\n",
    "$$ W((1+g)c_a) = W(c_b) $$\n",
    "In this the case of eta = 1 (logarithmic utility function), gain is such that:\n",
    "$$ E{ \\sum^{40}_{t=1} \\beta^{12(t-1)} [ \\sum^{12}_{m=1} \\beta^{m-1}[\\log(1+g)c_{m,t}^{Risk} - \\kappa \\frac{(h_t^{Risk})^{1+\\frac{1}{v}}}{1+\\frac{1}{v}} ]] }= \\sum^{40}_{t=1} \\beta^{12(t-1)} [ \\sum^{12}_{m=1} \\beta^{m-1}[\\log c_{m,t}^{No Risk}- \\kappa \\frac{(h_t^{No Risk})^{1+\\frac{1}{v}}}{1+\\frac{1}{v}}]] $$\n",
    "thus,\n",
    "$$ \\sum^{40}_{t=1} \\beta^{12(t-1)} \\sum^{12}_{m=1} \\beta^{m-1} \\log (1+g) + E\\sum^{40}_{t=1} \\beta^{12(t-1)} \\sum^{12}_{m=1} \\beta^{m-1}( \\log c_{m,t}^{Risk}- \\kappa \\frac{(h_t^{Risk})^{1+\\frac{1}{v}}}{1+\\frac{1}{v}}) = \\sum^{40}_{t=1} \\beta^{12(t-1)} [ \\sum^{12}_{m=1} \\beta^{m-1}[\\log c_{m,t}^{No Risk}- \\kappa \\frac{(h_t^{No Risk})^{1+\\frac{1}{v}}}{1+\\frac{1}{v}}]]$$\n",
    "\n",
    "and,\n",
    "$$  \\log(1+g) = \\frac{\\sum^{40}_{t=1} \\beta^{12(t-1)} [ \\sum^{12}_{m=1} \\beta^{m-1}[\\log c_{m,t}^{No Risk}- \\kappa \\frac{(h_t^{No Risk})^{1+\\frac{1}{v}}}{1+\\frac{1}{v}}]] - E\\sum^{40}_{t=1} \\beta^{12(t-1)} \\sum^{12}_{m=1} \\beta^{m-1} \\log c_{m,t}^{Risk} - \\kappa \\frac{(h_t^{Risk})^{1+\\frac{1}{v}}}{1+\\frac{1}{v}}}{\\sum^{40}_{t=1} \\beta^{12(t-1)} \\sum^{12}_{m=1} \\beta^{m-1}} $$\n",
    "\n",
    "so, \n",
    "\n",
    "$$ g = \\exp({\\frac{\\sum^{40}_{t=1} \\beta^{12(t-1)} [ \\sum^{12}_{m=1} \\beta^{m-1}[\\log c_{m,t}^{No Risk}- \\kappa \\frac{(h_t^{No Risk})^{1+\\frac{1}{v}}}{1+\\frac{1}{v}}]] - E\\sum^{40}_{t=1} \\beta^{12(t-1)} \\sum^{12}_{m=1} \\beta^{m-1} \\log c_{m,t}^{Risk}- \\kappa \\frac{(h_t^{Risk})^{1+\\frac{1}{v}}}{1+\\frac{1}{v}}}{\\sum^{40}_{t=1} \\beta^{12(t-1)} \\sum^{12}_{m=1} \\beta^{m-1}}}) - 1$$"
   ]
  },
  {
   "cell_type": "markdown",
   "metadata": {},
   "source": [
    "# $ \\alpha = 1 $"
   ]
  },
  {
   "cell_type": "code",
   "execution_count": 59,
   "metadata": {},
   "outputs": [],
   "source": [
    "def ch_2_a(g_level, var_m_level):\n",
    "    alpha = 1\n",
    "    c_no_risk = np.zeros(shape=(1000, 40*12))\n",
    "    c_risk = np.zeros(shape=(1000, 40*12))\n",
    "    h_no_risk = np.zeros(shape=(1000, 40*12))\n",
    "    h_risk = np.zeros(shape=(1000, 40*12))\n",
    "    g_deter = g(g_level)\n",
    "    var_m_stoch = var_m(var_m_level)\n",
    "    ln_em = np.random.normal(0,var_m_stoch, size=(1000,40,12))\n",
    "    #create stochastic seasonal component for labor that is correlated with its counterpart from consumption\n",
    "    ln_em_h = alpha*ln_em #+ (1-alpha)*np.random.normal(0,var_m_stoch, size=(1000,40,12))\n",
    "    \n",
    "    for i in range(1000):\n",
    "        for o in range(40*12):\n",
    "            c_no_risk[i][o] = np.exp(-var_u/2)*np.exp(ln_z[i])*np.exp(-var_e/2)*np.exp(ln_e[i][math.floor(o/12)][o%12])\n",
    "            c_risk[i][o] = np.exp(-var_u/2)*np.exp(ln_z[i])*g_deter[o%12]*np.exp(-var_e/2)*np.exp(ln_e[i][math.floor(o/12)][o%12])*np.exp(-var_m_stoch[o%12]/2)*np.exp(ln_em[i][math.floor(o/12)][o%12]) \n",
    "            h_no_risk[i][o] = np.exp(-var_u/2)*np.exp(ln_z[i])*np.exp(-var_e/2)*np.exp(ln_e[i][math.floor(o/12)][o%12])\n",
    "            h_risk[i][o] = np.exp(-var_u/2)*np.exp(ln_z[i])*g_deter[o%12]*np.exp(-var_e/2)*np.exp(ln_e[i][math.floor(o/12)][o%12])*np.exp(-var_m_stoch[o%12]/2)*np.exp(ln_em_h[i][math.floor(o/12)][o%12]) \n",
    "    return c_no_risk, c_risk, h_no_risk, h_risk\n",
    "\n",
    "def gain_2_a(c_no_risk, c_risk, h_no_risk, h_risk):\n",
    "    kappa=1\n",
    "    gain = np.zeros(1000)\n",
    "    for i in range(1000):\n",
    "        gain[i] = np.exp((sum(np.power(0.99, range(1,481))*(np.log(c_no_risk[i])-kappa*h_no_risk[i]**(2)/2))-sum(np.power(0.99, range(1,481))*(np.log(c_risk[i])-kappa*h_no_risk[i]**(2)/2)))/sum(np.power(0.99, range(1,481))))-1\n",
    "    return gain"
   ]
  },
  {
   "cell_type": "code",
   "execution_count": null,
   "metadata": {},
   "outputs": [],
   "source": [
    "# high seasonal deterministic, high stochastic seasonas component\n",
    "c_2_a_no_risk_low_high, c_2_a_risk_low_high, h_2_a_no_risk_low_high, h_2_a_risk_low_high = ch_2_a('high', 'high')         \n",
    "gain_2_a_low_high = gain_2_a(c_2_a_no_risk_low_high, c_2_a_risk_low_high, h_2_a_no_risk_low_high, h_2_a_risk_low_high)\n",
    "\n",
    "# middle seasonal deterministic, middle stochastic seasonas component\n",
    "c_2_a_no_risk_low_middle, c_2_a_risk_low_middle, h_2_a_no_risk_low_middle, h_2_a_risk_low_middle = ch_2_a('middle', 'middle')               \n",
    "gain_2_a_low_middle = gain_2_a(c_2_a_no_risk_low_middle, c_2_a_risk_low_middle, h_2_a_no_risk_low_middle, h_2_a_risk_low_middle)\n",
    "\n",
    "# low seasonal deterministic, low stochastic seasonas component\n",
    "c_2_a_no_risk_low_low, c_2_a_risk_low_low, h_2_a_no_risk_low_low, h_2_a_risk_low_low = ch_2_a('low', 'low')          \n",
    "gain_2_a_low_low = gain_2_a(c_2_a_no_risk_low_low, c_2_a_risk_low_low, h_2_a_no_risk_low_low, h_2_a_risk_low_low)"
   ]
  },
  {
   "cell_type": "code",
   "execution_count": null,
   "metadata": {},
   "outputs": [],
   "source": [
    "plt.hist(gain_2_a_low_high, label=\"high-high\")\n",
    "plt.hist(gain_2_a_low_middle, label=\"middle-middle\")\n",
    "plt.hist(gain_2_a_low_low, label=\"low-low\")\n",
    "plt.legend()\n",
    "plt.title(\"Gain of removal of stochastic seasonal components. Deterministic seasonal component has low degree\")"
   ]
  },
  {
   "cell_type": "code",
   "execution_count": null,
   "metadata": {},
   "outputs": [],
   "source": []
  },
  {
   "cell_type": "code",
   "execution_count": null,
   "metadata": {},
   "outputs": [],
   "source": []
  },
  {
   "cell_type": "markdown",
   "metadata": {},
   "source": [
    "# $ \\alpha = -1 $"
   ]
  },
  {
   "cell_type": "code",
   "execution_count": null,
   "metadata": {},
   "outputs": [],
   "source": [
    "def ch_2_b(g_level, var_m_level):\n",
    "    alpha = -0.7\n",
    "    c_no_risk = np.zeros(shape=(1000, 40*12))\n",
    "    c_risk = np.zeros(shape=(1000, 40*12))\n",
    "    h_no_risk = np.zeros(shape=(1000, 40*12))\n",
    "    h_risk = np.zeros(shape=(1000, 40*12))\n",
    "    g_deter = g(g_level)\n",
    "    var_m_stoch = var_m(var_m_level)\n",
    "    ln_em = np.random.normal(0,var_m_stoch, size=(1000,40,12))\n",
    "    #create stochastic seasonal component for labor that is correlated with its counterpart from consumption\n",
    "    ln_em_h = alpha*ln_em #+ (1-alpha)*np.random.normal(0,var_m_stoch, size=(1000,40,12))\n",
    "    \n",
    "    for i in range(1000):\n",
    "        for o in range(40*12):\n",
    "            c_no_risk[i][o] = np.exp(-var_u/2)*np.exp(ln_z[i])*np.exp(-var_e/2)*np.exp(ln_e[i][math.floor(o/12)][o%12])\n",
    "            c_risk[i][o] = np.exp(-var_u/2)*np.exp(ln_z[i])*g_deter[o%12]*np.exp(-var_e/2)*np.exp(ln_e[i][math.floor(o/12)][o%12])*np.exp(-var_m_stoch[o%12]/2)*np.exp(ln_em[i][math.floor(o/12)][o%12]) \n",
    "            h_no_risk[i][o] = np.exp(-var_u/2)*np.exp(ln_z[i])*np.exp(-var_e/2)*np.exp(ln_e[i][math.floor(o/12)][o%12])\n",
    "            h_risk[i][o] = np.exp(-var_u/2)*np.exp(ln_z[i])*g_deter[o%12]*np.exp(-var_e/2)*np.exp(ln_e[i][math.floor(o/12)][o%12])*np.exp(-var_m_stoch[o%12]/2)*np.exp(ln_em_h[i][math.floor(o/12)][o%12]) \n",
    "    return c_no_risk, c_risk, h_no_risk, h_risk\n",
    "\n",
    "def gain_2_b(c_no_risk, c_risk, h_no_risk, h_risk):\n",
    "    kappa=1\n",
    "    gain = np.zeros(1000)\n",
    "    for i in range(1000):\n",
    "        gain[i] = np.exp((sum(np.power(0.99, range(1,481))*(np.log(c_no_risk[i])-kappa*h_no_risk[i]**(2)/2))-sum(np.power(0.99, range(1,481))*(np.log(c_risk[i])-kappa*h_no_risk[i]**(2)/2)))/sum(np.power(0.99, range(1,481))))-1\n",
    "    return gain"
   ]
  },
  {
   "cell_type": "code",
   "execution_count": null,
   "metadata": {},
   "outputs": [],
   "source": [
    "# high seasonal deterministic, high stochastic seasonas component\n",
    "c_2_b_no_risk_low_high, c_2_b_risk_low_high, h_2_b_no_risk_low_high, h_2_b_risk_low_high = ch_2_b('high', 'high')         \n",
    "gain_2_b_low_high = gain_2_b(c_2_b_no_risk_low_high, c_2_b_risk_low_high, h_2_b_no_risk_low_high, h_2_b_risk_low_high)\n",
    "\n",
    "# middle seasonal deterministic, middle stochastic seasonas component\n",
    "c_2_b_no_risk_low_middle, c_2_b_risk_low_middle, h_2_b_no_risk_low_middle, h_2_b_risk_low_middle = ch_2_b('middle', 'middle')               \n",
    "gain_2_b_low_middle = gain_2_b(c_2_b_no_risk_low_middle, c_2_b_risk_low_middle, h_2_b_no_risk_low_middle, h_2_b_risk_low_middle)\n",
    "\n",
    "# low seasonal deterministic, low stochastic seasonas component\n",
    "c_2_b_no_risk_low_low, c_2_b_risk_low_low, h_2_b_no_risk_low_low, h_2_b_risk_low_low = ch_2_b('low', 'low')          \n",
    "gain_2_b_low_low = gain_2_b(c_2_b_no_risk_low_low, c_2_b_risk_low_low, h_2_b_no_risk_low_low, h_2_b_risk_low_low)"
   ]
  },
  {
   "cell_type": "code",
   "execution_count": null,
   "metadata": {},
   "outputs": [],
   "source": [
    "plt.hist(gain_2_b_low_high, label=\"high-high\")\n",
    "plt.hist(gain_2_b_low_middle, label=\"middle-middle\")\n",
    "plt.hist(gain_2_b_low_low, label=\"low-low\")\n",
    "plt.legend()\n",
    "plt.title('Removal of seasonal components. Deterministic seasonal component fixed at low degree. Labor-Cons has negative correlation')"
   ]
  },
  {
   "cell_type": "code",
   "execution_count": null,
   "metadata": {},
   "outputs": [],
   "source": []
  },
  {
   "cell_type": "markdown",
   "metadata": {},
   "source": [
    "# Question 3."
   ]
  },
  {
   "cell_type": "code",
   "execution_count": 33,
   "metadata": {},
   "outputs": [],
   "source": [
    "#import pandas as pd\n",
    "#import numpy as np\n",
    "import statsmodels.formula.api as sm"
   ]
  },
  {
   "cell_type": "code",
   "execution_count": 46,
   "metadata": {},
   "outputs": [
    {
     "name": "stderr",
     "output_type": "stream",
     "text": [
      "C:\\Users\\adamw\\Anaconda3\\lib\\site-packages\\ipykernel_launcher.py:3: RuntimeWarning: divide by zero encountered in log\n",
      "  This is separate from the ipykernel package so we can avoid doing imports until\n"
     ]
    }
   ],
   "source": [
    "data = pd.read_stata('C:/Users/adamw/Desktop/Development/PS2/dataUGA.dta')\n",
    "\n",
    "data['log_consum'] = np.log(data[\"ctotal\"])"
   ]
  },
  {
   "cell_type": "code",
   "execution_count": 47,
   "metadata": {},
   "outputs": [
    {
     "data": {
      "text/plain": [
       "Index(['age', 'age_sq', '_aggregate', 'agr_share', 'bednet', 'bs_profit',\n",
       "       'bus_share', 'businessman', 'cfood', 'classeduc', 'climate', 'cnodur',\n",
       "       'ctotal', 'ctotal_dur', 'ctotal_gift', 'd_aggregate', 'd_climate',\n",
       "       'd_health', 'd_idiosyn', 'd_job', 'd_pests', 'd_prices', 'd_shock',\n",
       "       'ethnic', 'familysize', 'farmer', 'father_educ', 'father_ocup',\n",
       "       'female', 'health', 'hh', 'idiosyn', 'illdays', 'inctotal',\n",
       "       'inctotal_trans', 'index', 'inflation', 'job', 'lnbs_profit', 'lnc',\n",
       "       'lncfood', 'lncnodur', 'lnctotal_dur', 'lnctotal_gift',\n",
       "       'lninctotal_trans', 'lnother_net', 'lnprofit_agr', 'lnprofit_agrb',\n",
       "       'lnprofit_ls', 'lntotal_agrls', 'lnwage_total', 'lny', 'month',\n",
       "       'ocupation', 'other_inc', 'other_net', 'pests', 'prices', 'profit_agr',\n",
       "       'profit_agrb', 'profit_ls', 'region', 'region2', 'region3', 'region4',\n",
       "       'sex', 'shock', 'sregion', 'total_agrls', 'u_c', 'u_y', 'urban',\n",
       "       'w_share', 'wage_total', 'wave', 'worker', 'writeread', 'year', 'avgc',\n",
       "       'counthh', 'lnc_nogift', 'log_consum'],\n",
       "      dtype='object')"
      ]
     },
     "execution_count": 47,
     "metadata": {},
     "output_type": "execute_result"
    }
   ],
   "source": [
    "data.columns"
   ]
  },
  {
   "cell_type": "markdown",
   "metadata": {},
   "source": [
    "# MEAN"
   ]
  },
  {
   "cell_type": "code",
   "execution_count": 51,
   "metadata": {},
   "outputs": [],
   "source": [
    "data_grouped = data#.groupby(['age', 'year', 'month'])[['log_consum', 'age', 'year', 'month']].mean()\n",
    "\n",
    "# creating dummies for age 15-25, 26-45, 46-99\n",
    "data_grouped['age15_25'] = ((data_grouped[\"age\"] >=15) & (data_grouped[\"age\"] <=25)).astype(int)\n",
    "data_grouped['age26_35'] = ((data_grouped[\"age\"] >=26) & (data_grouped[\"age\"] <=35)).astype(int)\n",
    "data_grouped['age36_45'] = ((data_grouped[\"age\"] >=46) & (data_grouped[\"age\"] <=45)).astype(int)\n",
    "data_grouped['age46_55'] = ((data_grouped[\"age\"] >=46) & (data_grouped[\"age\"] <=55)).astype(int)\n",
    "data_grouped['age56_69'] = ((data_grouped[\"age\"] >=56) & (data_grouped[\"age\"] <=69)).astype(int)\n",
    "data_grouped['age70_99'] = ((data_grouped[\"age\"] >=70) & (data_grouped[\"age\"] <=99)).astype(int)\n",
    "\n",
    "# creating dummies for months 1-3, 4-6, 7-9, 10-12\n",
    "data_grouped['month1_2'] = ((data_grouped[\"month\"] >=1) & (data_grouped[\"month\"] <=2)).astype(int)\n",
    "data_grouped['month3_4'] = ((data_grouped[\"month\"] >=3) & (data_grouped[\"month\"] <=4)).astype(int)\n",
    "data_grouped['month5_6'] = ((data_grouped[\"month\"] >=5) & (data_grouped[\"month\"] <=6)).astype(int)\n",
    "data_grouped['month7_8'] = ((data_grouped[\"month\"] >=7) & (data_grouped[\"month\"] <=8)).astype(int)\n",
    "data_grouped['month9_10'] = ((data_grouped[\"month\"] >=9) & (data_grouped[\"month\"] <=10)).astype(int)\n",
    "data_grouped['month11_12'] = ((data_grouped[\"month\"] >=11) & (data_grouped[\"month\"] <=12)).astype(int)\n",
    "\n",
    "# creating dummies for years 2009-2014\n",
    "data_grouped['year2009'] = ((data_grouped[\"year\"] >=2009) & (data_grouped[\"year\"] <=2009)).astype(int)\n",
    "data_grouped['year2010'] = ((data_grouped[\"year\"] >=2010) & (data_grouped[\"year\"] <=2010)).astype(int)\n",
    "data_grouped['year2011'] = ((data_grouped[\"year\"] >=2011) & (data_grouped[\"year\"] <=2011)).astype(int)\n",
    "data_grouped['year2012'] = ((data_grouped[\"year\"] >=2012) & (data_grouped[\"year\"] <=2012)).astype(int)\n",
    "data_grouped['year2013'] = ((data_grouped[\"year\"] >=2013) & (data_grouped[\"year\"] <=2013)).astype(int)\n",
    "data_grouped['year2014'] = ((data_grouped[\"year\"] >=2014) & (data_grouped[\"year\"] <=2014)).astype(int)"
   ]
  },
  {
   "cell_type": "code",
   "execution_count": 52,
   "metadata": {},
   "outputs": [
    {
     "name": "stdout",
     "output_type": "stream",
     "text": [
      "                            OLS Regression Results                            \n",
      "==============================================================================\n",
      "Dep. Variable:             log_consum   R-squared:                       0.023\n",
      "Model:                            OLS   Adj. R-squared:                  0.022\n",
      "Method:                 Least Squares   F-statistic:                     17.40\n",
      "Date:                Fri, 08 Feb 2019   Prob (F-statistic):           2.23e-43\n",
      "Time:                        11:42:52   Log-Likelihood:                -11901.\n",
      "No. Observations:               10229   AIC:                         2.383e+04\n",
      "Df Residuals:                   10214   BIC:                         2.394e+04\n",
      "Df Model:                          14                                         \n",
      "Covariance Type:            nonrobust                                         \n",
      "==============================================================================\n",
      "                 coef    std err          t      P>|t|      [0.025      0.975]\n",
      "------------------------------------------------------------------------------\n",
      "Intercept      7.3233      0.038    193.917      0.000       7.249       7.397\n",
      "age26_35      -0.0612      0.021     -2.881      0.004      -0.103      -0.020\n",
      "age36_45    6.338e-16   2.84e-17     22.326      0.000    5.78e-16    6.89e-16\n",
      "age46_55       0.0769      0.022      3.531      0.000       0.034       0.120\n",
      "age56_69      -0.1346      0.023     -5.755      0.000      -0.180      -0.089\n",
      "age70_99      -0.2989      0.028    -10.505      0.000      -0.355      -0.243\n",
      "month3_4      -0.0120      0.026     -0.455      0.649      -0.064       0.040\n",
      "month5_6       0.0194      0.028      0.693      0.489      -0.035       0.074\n",
      "month7_8      -0.0324      0.026     -1.251      0.211      -0.083       0.018\n",
      "month9_10      0.0111      0.029      0.382      0.702      -0.046       0.068\n",
      "month11_12     0.0321      0.029      1.103      0.270      -0.025       0.089\n",
      "year2010      -0.1133      0.033     -3.472      0.001      -0.177      -0.049\n",
      "year2011      -0.1220      0.033     -3.667      0.000      -0.187      -0.057\n",
      "year2012      -0.0717      0.033     -2.163      0.031      -0.137      -0.007\n",
      "year2013      -0.0684      0.041     -1.657      0.098      -0.149       0.013\n",
      "year2014       0.0350      0.039      0.907      0.364      -0.041       0.110\n",
      "==============================================================================\n",
      "Omnibus:                      650.224   Durbin-Watson:                   1.463\n",
      "Prob(Omnibus):                  0.000   Jarque-Bera (JB):             2992.823\n",
      "Skew:                          -0.074   Prob(JB):                         0.00\n",
      "Kurtosis:                       5.646   Cond. No.                     1.73e+17\n",
      "==============================================================================\n",
      "\n",
      "Warnings:\n",
      "[1] Standard Errors assume that the covariance matrix of the errors is correctly specified.\n",
      "[2] The smallest eigenvalue is  5e-31. This might indicate that there are\n",
      "strong multicollinearity problems or that the design matrix is singular.\n"
     ]
    }
   ],
   "source": [
    "# OLS for log_consum\n",
    "data_grouped['log_consum'] = data_grouped['log_consum'].mask(data_grouped['log_consum'] < 0, 0)\n",
    "result1 = sm.ols(formula=\"log_consum ~  age26_35 + age36_45 +age46_55 +age56_69 +age70_99 + month3_4 + month5_6 +month7_8 +month9_10 +month11_12 +year2010 + year2011 + year2012 +year2013 +year2014\", data=data_grouped).fit()\n",
    "print(result1.summary())"
   ]
  },
  {
   "cell_type": "code",
   "execution_count": null,
   "metadata": {},
   "outputs": [],
   "source": []
  }
 ],
 "metadata": {
  "kernelspec": {
   "display_name": "Python 3",
   "language": "python",
   "name": "python3"
  },
  "language_info": {
   "codemirror_mode": {
    "name": "ipython",
    "version": 3
   },
   "file_extension": ".py",
   "mimetype": "text/x-python",
   "name": "python",
   "nbconvert_exporter": "python",
   "pygments_lexer": "ipython3",
   "version": "3.6.4"
  }
 },
 "nbformat": 4,
 "nbformat_minor": 2
}
