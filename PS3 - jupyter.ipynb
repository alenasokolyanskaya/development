{
 "cells": [
  {
   "cell_type": "markdown",
   "metadata": {},
   "source": [
    "# Problem Set 3\n",
    "\n",
    "## Question 1. Consumption Insurance Tests. Individual insurance in log-level changes"
   ]
  },
  {
   "cell_type": "code",
   "execution_count": 1,
   "metadata": {},
   "outputs": [],
   "source": [
    "import statsmodels.formula.api as sm\n",
    "import numpy as np\n",
    "import pandas as pd\n",
    "import os\n",
    "import matplotlib.pyplot as plt\n",
    "\n",
    "pd.options.display.float_format = '{:.2f}'.format\n",
    "os.chdir('C:/Users/alena/Desktop/Development/PS3')"
   ]
  },
  {
   "cell_type": "code",
   "execution_count": 2,
   "metadata": {},
   "outputs": [],
   "source": [
    "data = pd.read_stata(\"dataUGA.dta\")\n",
    "data = data[[\"hh\", \"age\", \"age_sq\", \"familysize\", \"sex\",\"worker\", \"writeread\", \"urban\", \"region2\", \"region3\", \"region4\", \"ctotal\", \"cnodur\", \"inctotal\", \"month\", \"year\", \"wave\"]]\n",
    "data = pd.concat([data, pd.get_dummies(data.year)], axis=1)\n",
    "data.columns\n",
    "data.wave.unique()\n",
    "data.loc[data.wave=='2009-2010', 'year']=2009\n",
    "data.loc[data.wave=='2010-2011', 'year']=2010\n",
    "data.loc[data.wave=='2011-2012', 'year']=2011\n",
    "data.loc[data.wave=='2013-2014', 'year']=2013"
   ]
  },
  {
   "cell_type": "markdown",
   "metadata": {},
   "source": [
    "Individual insurance in log-level changes:\n",
    "\n",
    "$ \\Delta ln c_{it} = cons + \\alpha \\Delta ln N_{it} + \\beta_{i} \\Delta ln y_{it} + \\phi_{i} \\Delta ln \\bar{C} +\\epsilon$\n",
    "\n",
    "where $c_{it}$ and $y_{it}$ are household-level consumption and income of household $i$ in period $t$, respectively, and $\\bar{C}$ is aggregate consumption."
   ]
  },
  {
   "cell_type": "code",
   "execution_count": 3,
   "metadata": {},
   "outputs": [],
   "source": [
    "model_C = sm.OLS(data.cnodur,data[[\"age\", \"age_sq\", \"familysize\", \"sex\",\"worker\", \"writeread\", \"urban\", \"region2\", \"region3\", \"region4\", 2009, 2010.0, 2011.0, 2012.0, 2013]],missing = 'drop')\n",
    "result_C = model_C.fit()\n",
    "model_Y = sm.OLS(data.inctotal,data[[\"age\", \"age_sq\", \"familysize\", \"sex\",\"worker\", \"writeread\", \"urban\", \"region2\", \"region3\", \"region4\", 2009, 2010.0, 2011.0, 2012.0, 2013]],missing = 'drop')\n",
    "result_Y = model_Y.fit()"
   ]
  },
  {
   "cell_type": "code",
   "execution_count": 4,
   "metadata": {},
   "outputs": [],
   "source": [
    "data = pd.concat([data,result_C.resid,result_Y.resid], axis=1)\n",
    "data = data[[\"hh\", \"urban\",\"ctotal\", \"cnodur\", \"inctotal\", \"month\", \"year\", \"wave\", 0,1]]\n",
    "data.columns = [\"hh\", \"urban\",\"ctotal\", \"cnodur\", \"inctotal\", \"month\", \"year\", \"wave\", \"c\",\"y\"]\n",
    "data.c = data.c.fillna(data.c.mean())\n",
    "data.y = data.y.fillna(data.y.mean())"
   ]
  },
  {
   "cell_type": "code",
   "execution_count": 5,
   "metadata": {},
   "outputs": [],
   "source": [
    "#pivot\n",
    "wide = data.pivot(index=\"hh\", columns=\"wave\", values=[\"c\",\"y\"])\n",
    "wide.columns = [\"c2009\",\"c2010\",\"c2011\",\"c2013\",\"y2009\",\"y2010\",\"y2011\",\"y2013\"]\n",
    "\n",
    "#replace zeros\n",
    "wide.c2009 = wide.c2009.replace(0,np.nan)\n",
    "wide.c2010 = wide.c2010.replace(0,np.nan)\n",
    "wide.c2011 = wide.c2011.replace(0,np.nan)\n",
    "wide.c2013 = wide.c2013.replace(0,np.nan)\n",
    "wide.y2009 = wide.y2009.replace(0,np.nan)\n",
    "wide.y2010 = wide.y2010.replace(0,np.nan)\n",
    "wide.y2011 = wide.y2011.replace(0,np.nan)\n",
    "wide.y2013 = wide.y2013.replace(0,np.nan)\n",
    "\n",
    "#fill nans\n",
    "wide.c2009 = wide.c2009.fillna(wide.c2009.mean())\n",
    "wide.c2010 = wide.c2010.fillna(wide.c2010.mean())\n",
    "wide.c2011 = wide.c2011.fillna(wide.c2011.mean())\n",
    "wide.c2013 = wide.c2013.fillna(wide.c2013.mean())\n",
    "wide.y2009 = wide.y2009.fillna(wide.y2009.mean())\n",
    "wide.y2010 = wide.y2010.fillna(wide.y2010.mean())\n",
    "wide.y2011 = wide.y2011.fillna(wide.y2011.mean())\n",
    "wide.y2013 = wide.y2013.fillna(wide.y2013.mean())\n",
    "\n",
    "#calculate differences\n",
    "wide.c2009 = wide.c2010-wide.c2009\n",
    "wide.c2010 = wide.c2011-wide.c2010\n",
    "wide.c2011 = wide.c2013-wide.c2011\n",
    "wide.y2009 = wide.y2010-wide.y2009\n",
    "wide.y2010 = wide.y2011-wide.y2010\n",
    "wide.y2011 = wide.y2013-wide.y2011\n",
    "\n",
    "wide = wide.drop([\"c2013\", \"y2013\"], axis=1)\n",
    "wide = wide.reset_index()"
   ]
  },
  {
   "cell_type": "code",
   "execution_count": 6,
   "metadata": {},
   "outputs": [],
   "source": [
    "long = pd.wide_to_long(wide, stubnames=[\"c\",\"y\"], i=\"hh\", j=\"year\", sep=\"\")\n",
    "long = long.reset_index()"
   ]
  },
  {
   "cell_type": "code",
   "execution_count": 7,
   "metadata": {},
   "outputs": [],
   "source": [
    "#merge datasets\n",
    "data2 = pd.merge(data.drop([\"c\",\"y\"], axis=1), long, on=[\"hh\", \"year\"], how=\"left\")\n",
    "\n",
    "#remove outliers\n",
    "data2[[\"c\",\"y\"]] = data2.loc[(data2.c>data2.c.quantile(q=0.05)) & (data2.c<data2.c.quantile(q=0.98))&(data2.y>data2.y.quantile(q=0.05)) & (data2.y<data2.y.quantile(q=0.98)),[\"c\", \"y\"]]\n",
    "\n",
    "#drop nans\n",
    "data2 = data2.dropna()"
   ]
  },
  {
   "cell_type": "code",
   "execution_count": 8,
   "metadata": {},
   "outputs": [],
   "source": [
    "#aggregate C and Y\n",
    "data2.loc[data2.year==2009,\"C_agg\"] = data2.loc[data2.year==2009,\"cnodur\"].sum()\n",
    "data2.loc[data2.year==2010,\"C_agg\"] = data2.loc[data2.year==2010,\"cnodur\"].sum()\n",
    "data2.loc[data2.year==2011,\"C_agg\"] = data2.loc[data2.year==2011,\"cnodur\"].sum()"
   ]
  },
  {
   "cell_type": "code",
   "execution_count": 9,
   "metadata": {},
   "outputs": [],
   "source": [
    "HHs = data2.hh.unique()\n",
    "#remove hh without full obs\n",
    "for h in range(len(HHs)):\n",
    "    data2.loc[data2.hh==HHs[h],\"count\"] = data2.loc[data2.hh==HHs[h],\"hh\"].count()\n",
    "\n",
    "data2 = data2.loc[data2[\"count\"]==3,]"
   ]
  },
  {
   "cell_type": "code",
   "execution_count": 10,
   "metadata": {},
   "outputs": [],
   "source": [
    "#regressions per HHs\n",
    "HHs = data2.hh.unique()\n",
    "model_HH = []\n",
    "for h in range(len(HHs)):\n",
    "    model_HH.append(sm.OLS(data2.loc[data2.hh==HHs[h], \"c\"], data2.loc[data2.hh==HHs[h], [\"y\",\"C_agg\"]]).fit())\n",
    "    \n",
    "beta=[]\n",
    "gamma=[]\n",
    "for h in range(len(HHs)):\n",
    "    beta.append(model_HH[h].params[0])\n",
    "    gamma.append(model_HH[h].params[1])"
   ]
  },
  {
   "cell_type": "code",
   "execution_count": 30,
   "metadata": {},
   "outputs": [
    {
     "data": {
      "text/plain": [
       "Text(0.5,1,'Histogram of betas')"
      ]
     },
     "execution_count": 30,
     "metadata": {},
     "output_type": "execute_result"
    },
    {
     "data": {
      "image/png": "[encoded data removed]",
      "text/plain": [
       "<Figure size 432x288 with 1 Axes>"
      ]
     },
     "metadata": {},
     "output_type": "display_data"
    }
   ],
   "source": [
    "plt.hist(beta, bins=60)\n",
    "plt.title(\"Histogram of betas\")"
   ]
  },
  {
   "cell_type": "markdown",
   "metadata": {},
   "source": [
    "As we can see distribution of the coefficient $\\beta$ for individual income is around 0, but the mean value of $\\beta$ is equal to $0.18$, so in this case the full-risk insurance in individual income is not achieved."
   ]
  },
  {
   "cell_type": "code",
   "execution_count": 12,
   "metadata": {},
   "outputs": [
    {
     "data": {
      "text/plain": [
       "0.17792841342085675"
      ]
     },
     "execution_count": 12,
     "metadata": {},
     "output_type": "execute_result"
    }
   ],
   "source": [
    "np.mean(beta)"
   ]
  },
  {
   "cell_type": "code",
   "execution_count": 31,
   "metadata": {},
   "outputs": [
    {
     "data": {
      "text/plain": [
       "Text(0.5,1,'Histogram of gammas')"
      ]
     },
     "execution_count": 31,
     "metadata": {},
     "output_type": "execute_result"
    },
    {
     "data": {
      "image/png": "[encoded data removed]",
      "text/plain": [
       "<Figure size 432x288 with 1 Axes>"
      ]
     },
     "metadata": {},
     "output_type": "display_data"
    }
   ],
   "source": [
    "plt.hist(gamma, bins=60)\n",
    "plt.title(\"Histogram of gammas\")"
   ]
  },
  {
   "cell_type": "code",
   "execution_count": 14,
   "metadata": {},
   "outputs": [
    {
     "data": {
      "text/plain": [
       "1.0304049937953363e-05"
      ]
     },
     "execution_count": 14,
     "metadata": {},
     "output_type": "execute_result"
    }
   ],
   "source": [
    "np.mean(gamma)"
   ]
  },
  {
   "cell_type": "markdown",
   "metadata": {},
   "source": [
    "The distribuation of $\\phi$ for aggregate consumption is also distributed around zero, and mean is close to zero as well. According to theory this value should be equal to 1. In our case the coefficient is very close to zero, which means that aggregate consumption does not have significant influence."
   ]
  },
  {
   "cell_type": "markdown",
   "metadata": {},
   "source": [
    "## Question 2. On the relationship between insurance and income/wealth"
   ]
  },
  {
   "cell_type": "code",
   "execution_count": 15,
   "metadata": {},
   "outputs": [],
   "source": [
    "#calculate average income per HH\n",
    "for h in range(len(HHs)):\n",
    "    data2.loc[data2.hh==HHs[h],\"Y_avg\"] = data2.loc[data2.hh==HHs[h],\"inctotal\"].mean()\n",
    "\n",
    "#rank HHs by income\n",
    "data2.loc[data2.Y_avg>data2.Y_avg.quantile(q=0.8),\"inc_rank\"] = 1\n",
    "data2.loc[(data2.Y_avg>data2.Y_avg.quantile(q=0.6))&(data2.Y_avg<=data2.Y_avg.quantile(q=0.8)),\"inc_rank\"] = 2\n",
    "data2.loc[(data2.Y_avg>data2.Y_avg.quantile(q=0.4))&(data2.Y_avg<=data2.Y_avg.quantile(q=0.6)),\"inc_rank\"] = 3\n",
    "data2.loc[(data2.Y_avg>data2.Y_avg.quantile(q=0.2))&(data2.Y_avg<=data2.Y_avg.quantile(q=0.4)),\"inc_rank\"] = 4\n",
    "data2.loc[(data2.Y_avg<=data2.Y_avg.quantile(q=0.2)),\"inc_rank\"] = 5\n",
    "\n",
    "#model by income\n",
    "model_rank = []\n",
    "beta_rank=[]\n",
    "gamma_rank=[]\n",
    "for r in range(1,6):\n",
    "    model_rank.append(sm.OLS(data2.loc[data2.inc_rank==r, \"c\"], data2.loc[data2.inc_rank==r, [\"y\",\"C_agg\"]]).fit())\n",
    "    beta_rank.append(model_rank[r-1].params[0])\n",
    "    gamma_rank.append(model_rank[r-1].params[1])"
   ]
  },
  {
   "cell_type": "code",
   "execution_count": 32,
   "metadata": {},
   "outputs": [
    {
     "data": {
      "text/plain": [
       "Text(0.5,0,'Rank of income: 1-the richest, 5-the poorest')"
      ]
     },
     "execution_count": 32,
     "metadata": {},
     "output_type": "execute_result"
    },
    {
     "data": {
      "image/png": "[encoded data removed]",
      "text/plain": [
       "<Figure size 432x288 with 1 Axes>"
      ]
     },
     "metadata": {},
     "output_type": "display_data"
    }
   ],
   "source": [
    "plt.scatter(range(1,6),beta_rank)\n",
    "plt.title('Coefficients of income (beta)')\n",
    "plt.xticks(range(1,6))\n",
    "plt.xlabel('Rank of income: 1-the richest, 5-the poorest')"
   ]
  },
  {
   "cell_type": "markdown",
   "metadata": {},
   "source": [
    "We defined 5 groups of income from bottom 20% to richest 20% (1 - the richest and 5 - the poorest) and plotted the coeficient $\\beta$ for income. \n",
    "\n",
    "As we can see for the richest group the coefficient is closest to zero, so that richer group of people are better in risk-sharing. Groups 3, 4 and 5 have the highest value of the coefficient - above 0.15."
   ]
  },
  {
   "cell_type": "code",
   "execution_count": 33,
   "metadata": {},
   "outputs": [
    {
     "data": {
      "text/plain": [
       "Text(0.5,0,'Rank of income: 1-the richest, 5-the poorest')"
      ]
     },
     "execution_count": 33,
     "metadata": {},
     "output_type": "execute_result"
    },
    {
     "data": {
      "image/png": "[encoded data removed]",
      "text/plain": [
       "<Figure size 432x288 with 1 Axes>"
      ]
     },
     "metadata": {},
     "output_type": "display_data"
    }
   ],
   "source": [
    "plt.scatter(range(1,6),gamma_rank)\n",
    "plt.title('Coefficients of aggregate consumption (gamma)')\n",
    "plt.xticks(range(1,6))\n",
    "plt.xlabel('Rank of income: 1-the richest, 5-the poorest')"
   ]
  },
  {
   "cell_type": "markdown",
   "metadata": {},
   "source": [
    "Values of the coefficient for the aggregate consumption are almost the same for all of the defined groups of the population."
   ]
  },
  {
   "cell_type": "markdown",
   "metadata": {},
   "source": [
    "## Question 3. Modify the previous test in (1) assuming that the coeficients are the same across households, so that household variation helps pin down the estimates,\n",
    "\n",
    "\n",
    "$ \\Delta ln c_{it} = cons + \\alpha \\Delta ln N_{it} + \\beta \\Delta ln y_{it} + \\phi \\Delta ln \\bar{C} +\\epsilon$"
   ]
  },
  {
   "cell_type": "code",
   "execution_count": 18,
   "metadata": {},
   "outputs": [
    {
     "data": {
      "text/html": [
       "<table class=\"simpletable\">\n",
       "<caption>OLS Regression Results</caption>\n",
       "<tr>\n",
       "  <th>Dep. Variable:</th>            <td>c</td>        <th>  R-squared:         </th> <td>   0.045</td> \n",
       "</tr>\n",
       "<tr>\n",
       "  <th>Model:</th>                   <td>OLS</td>       <th>  Adj. R-squared:    </th> <td>   0.045</td> \n",
       "</tr>\n",
       "<tr>\n",
       "  <th>Method:</th>             <td>Least Squares</td>  <th>  F-statistic:       </th> <td>   112.6</td> \n",
       "</tr>\n",
       "<tr>\n",
       "  <th>Date:</th>             <td>Wed, 27 Feb 2019</td> <th>  Prob (F-statistic):</th> <td>1.60e-48</td> \n",
       "</tr>\n",
       "<tr>\n",
       "  <th>Time:</th>                 <td>12:28:15</td>     <th>  Log-Likelihood:    </th> <td> -34935.</td> \n",
       "</tr>\n",
       "<tr>\n",
       "  <th>No. Observations:</th>      <td>  4746</td>      <th>  AIC:               </th> <td>6.987e+04</td>\n",
       "</tr>\n",
       "<tr>\n",
       "  <th>Df Residuals:</th>          <td>  4744</td>      <th>  BIC:               </th> <td>6.989e+04</td>\n",
       "</tr>\n",
       "<tr>\n",
       "  <th>Df Model:</th>              <td>     2</td>      <th>                     </th>     <td> </td>    \n",
       "</tr>\n",
       "<tr>\n",
       "  <th>Covariance Type:</th>      <td>nonrobust</td>    <th>                     </th>     <td> </td>    \n",
       "</tr>\n",
       "</table>\n",
       "<table class=\"simpletable\">\n",
       "<tr>\n",
       "    <td></td>       <th>coef</th>     <th>std err</th>      <th>t</th>      <th>P>|t|</th>  <th>[0.025</th>    <th>0.975]</th>  \n",
       "</tr>\n",
       "<tr>\n",
       "  <th>y</th>     <td>    0.0731</td> <td>    0.005</td> <td>   13.658</td> <td> 0.000</td> <td>    0.063</td> <td>    0.084</td>\n",
       "</tr>\n",
       "<tr>\n",
       "  <th>C_agg</th> <td> 2.237e-05</td> <td> 4.54e-06</td> <td>    4.931</td> <td> 0.000</td> <td> 1.35e-05</td> <td> 3.13e-05</td>\n",
       "</tr>\n",
       "</table>\n",
       "<table class=\"simpletable\">\n",
       "<tr>\n",
       "  <th>Omnibus:</th>       <td>128.430</td> <th>  Durbin-Watson:     </th> <td>   1.668</td>\n",
       "</tr>\n",
       "<tr>\n",
       "  <th>Prob(Omnibus):</th> <td> 0.000</td>  <th>  Jarque-Bera (JB):  </th> <td> 223.658</td>\n",
       "</tr>\n",
       "<tr>\n",
       "  <th>Skew:</th>          <td> 0.228</td>  <th>  Prob(JB):          </th> <td>2.71e-49</td>\n",
       "</tr>\n",
       "<tr>\n",
       "  <th>Kurtosis:</th>      <td> 3.961</td>  <th>  Cond. No.          </th> <td>1.19e+03</td>\n",
       "</tr>\n",
       "</table><br/><br/>Warnings:<br/>[1] Standard Errors assume that the covariance matrix of the errors is correctly specified.<br/>[2] The condition number is large, 1.19e+03. This might indicate that there are<br/>strong multicollinearity or other numerical problems."
      ],
      "text/plain": [
       "<class 'statsmodels.iolib.summary.Summary'>\n",
       "\"\"\"\n",
       "                            OLS Regression Results                            \n",
       "==============================================================================\n",
       "Dep. Variable:                      c   R-squared:                       0.045\n",
       "Model:                            OLS   Adj. R-squared:                  0.045\n",
       "Method:                 Least Squares   F-statistic:                     112.6\n",
       "Date:                Wed, 27 Feb 2019   Prob (F-statistic):           1.60e-48\n",
       "Time:                        12:28:15   Log-Likelihood:                -34935.\n",
       "No. Observations:                4746   AIC:                         6.987e+04\n",
       "Df Residuals:                    4744   BIC:                         6.989e+04\n",
       "Df Model:                           2                                         \n",
       "Covariance Type:            nonrobust                                         \n",
       "==============================================================================\n",
       "                 coef    std err          t      P>|t|      [0.025      0.975]\n",
       "------------------------------------------------------------------------------\n",
       "y              0.0731      0.005     13.658      0.000       0.063       0.084\n",
       "C_agg       2.237e-05   4.54e-06      4.931      0.000    1.35e-05    3.13e-05\n",
       "==============================================================================\n",
       "Omnibus:                      128.430   Durbin-Watson:                   1.668\n",
       "Prob(Omnibus):                  0.000   Jarque-Bera (JB):              223.658\n",
       "Skew:                           0.228   Prob(JB):                     2.71e-49\n",
       "Kurtosis:                       3.961   Cond. No.                     1.19e+03\n",
       "==============================================================================\n",
       "\n",
       "Warnings:\n",
       "[1] Standard Errors assume that the covariance matrix of the errors is correctly specified.\n",
       "[2] The condition number is large, 1.19e+03. This might indicate that there are\n",
       "strong multicollinearity or other numerical problems.\n",
       "\"\"\""
      ]
     },
     "execution_count": 18,
     "metadata": {},
     "output_type": "execute_result"
    }
   ],
   "source": [
    "#######################\n",
    "# question 3\n",
    "model_3 = sm.OLS(data2[\"c\"], data2[[\"y\",\"C_agg\"]]).fit()\n",
    "model_3.summary()"
   ]
  },
  {
   "cell_type": "markdown",
   "metadata": {},
   "source": [
    "Full-risk sharing is also almost achieved for individual income assuming that the coeficients are the same across households. Coefficient $\\beta$ is equal to $0.073$ for individual income."
   ]
  },
  {
   "cell_type": "markdown",
   "metadata": {},
   "source": [
    "## Question 4.  Redo items 1 and 2 for rural and urban areas separately."
   ]
  },
  {
   "cell_type": "markdown",
   "metadata": {},
   "source": [
    "Comparing the result for rural and urban areas separately we can see the following:\n",
    "\n",
    "- In urban areas mean $\\beta$ is 0.2, for rural 0.1, which means that in rural areas households are slightly better in risk-sharing.\n",
    "- If looking at the poorest groups in urban and rural areas: in urban areas coefficient for individual income for the poorest group is 0.23, and in rural 0.15 (which means that poor people in rural areas are better in risk-sharing) and for the richest, in urban areas it is 0.05 and in rural almost zero (and again in rural areas rich people are better in risk-sharing than in urban). There is larger difference for middle class (group 3): in urban it is higher than 0.25 and in rural 0.12.\n",
    "- Overall across different groups of population we can see that in rural areas people are better in risk-sharing.\n",
    "- Coefficients for aggregate are almost the same across all the groups and areas, close to zero, which means that aggregate consumption for the whole population does not have a significant influence.\n"
   ]
  },
  {
   "cell_type": "markdown",
   "metadata": {},
   "source": [
    "## Urban"
   ]
  },
  {
   "cell_type": "code",
   "execution_count": 19,
   "metadata": {},
   "outputs": [],
   "source": [
    "# Urban\n",
    "data_urban = data2.loc[data2.urban==1,]\n",
    "\n",
    "#regressions per HHs\n",
    "HHs = data_urban.hh.unique()\n",
    "model_urban = []\n",
    "for h in range(len(HHs)):\n",
    "    model_urban.append(sm.OLS(data_urban.loc[data_urban.hh==HHs[h], \"c\"], data_urban.loc[data_urban.hh==HHs[h], [\"y\",\"C_agg\"]]).fit())\n",
    "\n",
    "beta_urban=[]\n",
    "gamma_urban=[]\n",
    "for h in range(len(HHs)):\n",
    "    beta_urban.append(model_urban[h].params[0])\n",
    "    gamma_urban.append(model_urban[h].params[1])"
   ]
  },
  {
   "cell_type": "code",
   "execution_count": 34,
   "metadata": {},
   "outputs": [
    {
     "data": {
      "text/plain": [
       "Text(0.5,1,'Histogram of urban betas')"
      ]
     },
     "execution_count": 34,
     "metadata": {},
     "output_type": "execute_result"
    },
    {
     "data": {
      "image/png": "[encoded data removed]",
      "text/plain": [
       "<Figure size 432x288 with 1 Axes>"
      ]
     },
     "metadata": {},
     "output_type": "display_data"
    }
   ],
   "source": [
    "plt.hist(beta_urban, bins=60)\n",
    "plt.title(\"Histogram of urban betas\")"
   ]
  },
  {
   "cell_type": "code",
   "execution_count": 21,
   "metadata": {},
   "outputs": [
    {
     "data": {
      "text/plain": [
       "0.20301080642310904"
      ]
     },
     "execution_count": 21,
     "metadata": {},
     "output_type": "execute_result"
    }
   ],
   "source": [
    "np.mean(beta_urban)"
   ]
  },
  {
   "cell_type": "code",
   "execution_count": 35,
   "metadata": {},
   "outputs": [
    {
     "data": {
      "text/plain": [
       "Text(0.5,1,'Histogram of urban gammas')"
      ]
     },
     "execution_count": 35,
     "metadata": {},
     "output_type": "execute_result"
    },
    {
     "data": {
      "image/png": "[encoded data removed]",
      "text/plain": [
       "<Figure size 432x288 with 1 Axes>"
      ]
     },
     "metadata": {},
     "output_type": "display_data"
    }
   ],
   "source": [
    "plt.hist(gamma_urban, bins=60)\n",
    "plt.title(\"Histogram of urban gammas\")"
   ]
  },
  {
   "cell_type": "code",
   "execution_count": 23,
   "metadata": {},
   "outputs": [
    {
     "data": {
      "text/plain": [
       "0.00013340478233319603"
      ]
     },
     "execution_count": 23,
     "metadata": {},
     "output_type": "execute_result"
    }
   ],
   "source": [
    "np.mean(gamma_urban)"
   ]
  },
  {
   "cell_type": "code",
   "execution_count": 24,
   "metadata": {},
   "outputs": [],
   "source": [
    "#model by income\n",
    "model_rank_urban = []\n",
    "beta_rank_urban=[]\n",
    "gamma_rank_urban=[]\n",
    "for r in range(1,6):\n",
    "    model_rank_urban.append(sm.OLS(data_urban.loc[data_urban.inc_rank==r, \"c\"], data_urban.loc[data_urban.inc_rank==r, [\"y\",\"C_agg\"]]).fit())\n",
    "    beta_rank_urban.append(model_rank_urban[r-1].params[0])\n",
    "    gamma_rank_urban.append(model_rank_urban[r-1].params[1])"
   ]
  },
  {
   "cell_type": "code",
   "execution_count": 25,
   "metadata": {},
   "outputs": [
    {
     "data": {
      "text/plain": [
       "([<matplotlib.axis.XTick at 0x1baba452a20>,\n",
       "  <matplotlib.axis.XTick at 0x1baba4520f0>,\n",
       "  <matplotlib.axis.XTick at 0x1bab7a84390>,\n",
       "  <matplotlib.axis.XTick at 0x1baba46bba8>,\n",
       "  <matplotlib.axis.XTick at 0x1baba474128>],\n",
       " <a list of 5 Text xticklabel objects>)"
      ]
     },
     "execution_count": 25,
     "metadata": {},
     "output_type": "execute_result"
    },
    {
     "data": {
      "image/png": "[encoded data removed]",
      "text/plain": [
       "<Figure size 432x288 with 1 Axes>"
      ]
     },
     "metadata": {},
     "output_type": "display_data"
    }
   ],
   "source": [
    "plt.scatter(range(1,6),beta_rank_urban)\n",
    "plt.title('Coefficients of income (beta)')\n",
    "plt.xticks(range(1,6))\n",
    "plt.xlabel('Rank of income: 1-the richest, 5-the poorest')"
   ]
  },
  {
   "cell_type": "code",
   "execution_count": 26,
   "metadata": {},
   "outputs": [
    {
     "data": {
      "text/plain": [
       "([<matplotlib.axis.XTick at 0x1baba49b390>,\n",
       "  <matplotlib.axis.XTick at 0x1baba48ccf8>,\n",
       "  <matplotlib.axis.XTick at 0x1baba48c748>,\n",
       "  <matplotlib.axis.XTick at 0x1baba4b7160>,\n",
       "  <matplotlib.axis.XTick at 0x1baba4b7d30>],\n",
       " <a list of 5 Text xticklabel objects>)"
      ]
     },
     "execution_count": 26,
     "metadata": {},
     "output_type": "execute_result"
    },
    {
     "data": {
      "image/png": "[encoded data removed]",
      "text/plain": [
       "<Figure size 432x288 with 1 Axes>"
      ]
     },
     "metadata": {},
     "output_type": "display_data"
    }
   ],
   "source": [
    "plt.scatter(range(1,6),gamma_rank_urban)\n",
    "plt.title('Coefficients of aggregate consumption (gamma)')\n",
    "plt.xticks(range(1,6))\n",
    "plt.xlabel('Rank of income: 1-the richest, 5-the poorest')"
   ]
  },
  {
   "cell_type": "markdown",
   "metadata": {},
   "source": [
    "## Rural"
   ]
  },
  {
   "cell_type": "code",
   "execution_count": 36,
   "metadata": {},
   "outputs": [],
   "source": [
    "data_rural = data2.loc[data2.urban==0,]\n",
    "\n",
    "#regressions per HHs\n",
    "HHs = data_rural.hh.unique()\n",
    "model_rural = []\n",
    "for h in range(len(HHs)):\n",
    "    model_rural.append(sm.OLS(data_rural.loc[data_rural.hh==HHs[h], \"c\"], data_rural.loc[data_rural.hh==HHs[h], [\"y\",\"C_agg\"]]).fit())\n",
    "\n",
    "beta_rural=[]\n",
    "gamma_rural=[]\n",
    "for h in range(len(HHs)):\n",
    "    beta_rural.append(model_rural[h].params[0])\n",
    "    gamma_rural.append(model_rural[h].params[1])"
   ]
  },
  {
   "cell_type": "code",
   "execution_count": 41,
   "metadata": {},
   "outputs": [
    {
     "data": {
      "text/plain": [
       "Text(0.5,1,'Histogram of rural betas')"
      ]
     },
     "execution_count": 41,
     "metadata": {},
     "output_type": "execute_result"
    },
    {
     "data": {
      "image/png": "[encoded data removed]",
      "text/plain": [
       "<Figure size 432x288 with 1 Axes>"
      ]
     },
     "metadata": {},
     "output_type": "display_data"
    }
   ],
   "source": [
    "plt.hist(beta_rural, bins=60)\n",
    "plt.title(\"Histogram of rural betas\")"
   ]
  },
  {
   "cell_type": "code",
   "execution_count": 38,
   "metadata": {},
   "outputs": [
    {
     "data": {
      "text/plain": [
       "0.13059701916845898"
      ]
     },
     "execution_count": 38,
     "metadata": {},
     "output_type": "execute_result"
    }
   ],
   "source": [
    "np.mean(beta_rural)"
   ]
  },
  {
   "cell_type": "code",
   "execution_count": 42,
   "metadata": {},
   "outputs": [
    {
     "data": {
      "text/plain": [
       "Text(0.5,1,'histogram of rural gammas')"
      ]
     },
     "execution_count": 42,
     "metadata": {},
     "output_type": "execute_result"
    },
    {
     "data": {
      "image/png": "[encoded data removed]",
      "text/plain": [
       "<Figure size 432x288 with 1 Axes>"
      ]
     },
     "metadata": {},
     "output_type": "display_data"
    }
   ],
   "source": [
    "plt.hist(gamma_rural, bins=60)\n",
    "plt.title(\"histogram of rural gammas\")"
   ]
  },
  {
   "cell_type": "code",
   "execution_count": 40,
   "metadata": {},
   "outputs": [
    {
     "data": {
      "text/plain": [
       "4.5203380833257023e-07"
      ]
     },
     "execution_count": 40,
     "metadata": {},
     "output_type": "execute_result"
    }
   ],
   "source": [
    "np.mean(gamma_rural)"
   ]
  },
  {
   "cell_type": "code",
   "execution_count": null,
   "metadata": {},
   "outputs": [],
   "source": [
    "#model by income\n",
    "model_rank_rural = []\n",
    "beta_rank_rural=[]\n",
    "gamma_rank_rural=[]\n",
    "for r in range(1,6):\n",
    "    model_rank_rural.append(sm.OLS(data_rural.loc[data_rural.inc_rank==r, \"c\"], data_rural.loc[data_rural.inc_rank==r, [\"y\",\"C_agg\"]]).fit())\n",
    "    beta_rank_rural.append(model_rank_rural[r-1].params[0])\n",
    "    gamma_rank_rural.append(model_rank_rural[r-1].params[1])"
   ]
  },
  {
   "cell_type": "code",
   "execution_count": 43,
   "metadata": {},
   "outputs": [
    {
     "data": {
      "text/plain": [
       "Text(0.5,0,'Rank of income: 1-the richest, 5-the poorest')"
      ]
     },
     "execution_count": 43,
     "metadata": {},
     "output_type": "execute_result"
    },
    {
     "data": {
      "image/png": "[encoded data removed]",
      "text/plain": [
       "<Figure size 432x288 with 1 Axes>"
      ]
     },
     "metadata": {},
     "output_type": "display_data"
    }
   ],
   "source": [
    "plt.scatter(range(1,6),beta_rank_rural)\n",
    "plt.title('Coefficients of income (beta)')\n",
    "plt.xticks(range(1,6))\n",
    "plt.xlabel('Rank of income: 1-the richest, 5-the poorest')"
   ]
  },
  {
   "cell_type": "code",
   "execution_count": 44,
   "metadata": {},
   "outputs": [
    {
     "data": {
      "text/plain": [
       "Text(0.5,0,'Rank of income: 1-the richest, 5-the poorest')"
      ]
     },
     "execution_count": 44,
     "metadata": {},
     "output_type": "execute_result"
    },
    {
     "data": {
      "image/png": "[encoded data removed]",
      "text/plain": [
       "<Figure size 432x288 with 1 Axes>"
      ]
     },
     "metadata": {},
     "output_type": "display_data"
    }
   ],
   "source": [
    "plt.scatter(range(1,6),gamma_rank_rural)\n",
    "plt.title('Coefficients of aggregate consumption (gamma)')\n",
    "plt.xticks(range(1,6))\n",
    "plt.xlabel('Rank of income: 1-the richest, 5-the poorest')"
   ]
  },
  {
   "cell_type": "code",
   "execution_count": null,
   "metadata": {},
   "outputs": [],
   "source": []
  }
 ],
 "metadata": {
  "kernelspec": {
   "display_name": "Python 3",
   "language": "python",
   "name": "python3"
  },
  "language_info": {
   "codemirror_mode": {
    "name": "ipython",
    "version": 3
   },
   "file_extension": ".py",
   "mimetype": "text/x-python",
   "name": "python",
   "nbconvert_exporter": "python",
   "pygments_lexer": "ipython3",
   "version": "3.7.1"
  }
 },
 "nbformat": 4,
 "nbformat_minor": 2
}
