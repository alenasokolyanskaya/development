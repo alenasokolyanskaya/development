{
 "cells": [
  {
   "cell_type": "markdown",
   "metadata": {},
   "source": [
    "## Development. Uganda"
   ]
  },
  {
   "attachments": {},
   "cell_type": "markdown",
   "metadata": {},
   "source": [
    "# SUMMARY\n",
    "\n",
    "### 1. CIW\n",
    "\n",
    "#### Income:\n",
    "\n",
    "Majority of households are concentrated in the range till approximately $\\$800$. Overall we can see that higher income is mainly typical for urban houselholds. \n",
    "\n",
    "Total income distribution follows a typical lifecycle behaviour, with a pick around 50 years.\n",
    "For Malawi research we can observe simialr dynamics.\n",
    "\n",
    "<img src=\"income%20histogram.PNG\">\n",
    "\n",
    "<img src=\"average%20income.PNG\">\n",
    "\n",
    "<img src=\"income%20variance.PNG\">\n",
    "\n",
    "#### Consumption:\n",
    "\n",
    "The histogram demonstrates distribution of households by consumption in rural and urban areas: consumption in rural areas in general is lower compared to urban areas. There are more households in rural areas with consumption lower than approximately $\\$2500$,above that value urban households prevail over the rural. Espicially large is the gap in number of households for the highest values of consumption the interval of $\\$4000-5000$.\n",
    "\n",
    "In comparison accroding to the data reported at Micro Data Survey in 2010, mean consumption per household in Uganda accounted for $\\$2366$. And in our case for the survey od 2013-2014 mean od total consumption per households is $\\$2390.45$, which is slightly higher than in 2010. \n",
    "\n",
    "<img src=\"Consumption%20histogram.PNG\">\n",
    "\n",
    "Mean consumption per household in urban areas is $\\$2693.06$, and in rural it is less $\\$2349.92$.\n",
    "\n",
    "Compared to other poor countries, like Malawi and Tanzania, consumption in Uganda is almost 1.5 times higher.\n",
    "\n",
    "<img src=\"consumption%20average.PNG\">\n",
    "\n",
    "\n",
    "#### Wealth:\n",
    "\n",
    "Mean of total wealth per household accounts for $\\$816.28$.\n",
    "Distribution of wealth across urban and rural areas follows similar distribution, mean rural wealth value is much lower than in urban areas ($\\$792.89$ and $\\$989.09$ respectively). Major part of households is distributed in the range of wealth below $\\$500$ per household.\n",
    "\n",
    "Wealth over the lifecycle is slightly shifted to the right, compared to distributiob of consumption and income over the lifecycle. \n",
    "\n",
    "\n",
    "<img src=\"wealth%20histogram.PNG\">\n",
    "\n",
    "<img src=\"Wealth%20variance.PNG\">\n",
    "\n",
    "\n",
    "#### Lifecycles for CIW\n",
    "\n",
    "CIW distribution follows a typical lifecycle behaviour.\n",
    "\n",
    "<img src=\"all%20lifecycle.PNG\">\n",
    "\n",
    "### 2. Labor\n",
    "\n",
    "Mean of hours worked out of all employed surveyed households is 5 hours per day, which is 35 hours per week, including main and secondary jobs.\n",
    "\n",
    "According to paper presented in the class on hours worked mean value of hours wroked per week in Uganda is around 24, which roughly fits our results.\n",
    "\n",
    "##### Urban / Rural\n",
    "In urban areas people tend to work 2 hours more, according to our results, though we had observations only for 1 week, so probably this ddata can not be that reliable.\n",
    "\n",
    "Majority of surveyed households work typically less than 7.5 hours per day, or less than 42 hours per week. As it was said before, overall in urban areas people work slightly more hours.\n",
    "\n",
    "<img src=\"labor%20supply%20histogram.PNG\">\n",
    "\n",
    "#### Men / Women\n",
    "\n",
    "Majority of people work in the range of 2.5-5 hours per day on average (for 7 working days). For those who work in this range there are slightly more women represented in this survey, whereas for higher values of hours worked there are slightly more men presented.\n",
    "\n",
    "<img src=\"labor%20supply%20educ.PNG\">\n",
    "\n",
    "#### Education groups\n",
    "\n",
    "Hours worked per day by the level of education: majority of the heads of the households in the survey that completed primary or secondary and higher education work less than 5 hours per day.\n",
    "\n",
    "With increase of hours worked we can also see prevailence of people with secondary and higher education, whereas for lower amount of hours worked there are more people with primary education represented.\n",
    "\n",
    "<img src=\"women%20men%20labor%20supply.PNG\">\n",
    "\n",
    "### 3. Inequality across space\n",
    "\n",
    "Inequality across space: the lowest values are related to Northern district, and the highest for the Central.\n",
    "\n",
    "<img src=\"consumption%20vs%20income%20by%20regions.PNG\">\n",
    "\n",
    "<img src=\"wealth%20vs%20income%20by%20region.PNG\">"
   ]
  },
  {
   "cell_type": "code",
   "execution_count": 2,
   "metadata": {},
   "outputs": [],
   "source": [
    "import pandas as pd\n",
    "import numpy as np\n",
    "import os\n",
    "import matplotlib.pyplot as plt\n",
    "import seaborn as sns; sns.set()\n",
    "import math"
   ]
  },
  {
   "cell_type": "code",
   "execution_count": 3,
   "metadata": {},
   "outputs": [],
   "source": [
    "pd.options.display.float_format = '{:,.2f}'.format\n",
    "os.chdir('C:/Users/adamw/Desktop/Development/Uganda 2013 14 Stata/UGA_2013_UNPS_v01_M_STATA8')"
   ]
  },
  {
   "cell_type": "markdown",
   "metadata": {},
   "source": [
    "## 1.1. Income"
   ]
  },
  {
   "cell_type": "code",
   "execution_count": 4,
   "metadata": {},
   "outputs": [],
   "source": [
    "########### BASIC DATA ################\n",
    "basic = pd.read_stata('GSEC1.dta')\n",
    "basic = basic[[\"HHID\",\"urban\",\"year\", \"month\", \"region\"]] \n",
    "#basic.rename(columns={'HHID':'hh'}, inplace=True)\n",
    "#basic[\"hh\"] = pd.to_numeric(basic[\"hh\"])\n",
    "pd.value_counts(basic[\"year\"])\n",
    "pd.value_counts(basic[\"month\"])\n",
    "#basic = basic.dropna(subset = ['year'])\n",
    "basic[\"index\"] = range(0,len(basic))\n",
    "basic.set_index(basic[\"index\"], inplace=True)\n",
    "\n",
    "#Generate inflation variable (per individual) source: https://www.bou.or.ug/bou/rates_statistics/statistics.html\n",
    "infl = [-0.3,0.4,0.9,1.4,0.2,-0.5,0.6,2.6,1.8,0.0,-0.7,0.1,-0.1,0.4,1.1,1.0,-1.0,-0.9,-0.1,1.1,0.3,0.4,-0.4,-0.1]#01/13, 02/13 ... 12/14\n",
    "basic[\"inflation\"] = np.zeros(len(basic))\n",
    "basic[\"inf_idx\"]= np.zeros(len(basic))\n",
    "infl_idx = np.zeros(len(infl))    \n",
    "for i in range(len(infl)):\n",
    "    if i==0:\n",
    "        infl_idx[len(infl)-i-1] = 1\n",
    "    else:\n",
    "        infl_idx[len(infl)-i-1] = infl_idx[len(infl)-i]/(1+(infl[len(infl)-i-1]/100))\n",
    "\n",
    "data = np.array(basic)\n",
    "for i in range(len(data)):\n",
    "     data[i][6]= infl[(data[i][2]-2013)*12+data[i][3]-1]\n",
    "     data[i][7]= infl_idx[(data[i][2]-2013)*12+data[i][3]-1]       \n",
    " \n",
    "dollars = 2760 #approximately for 2014 year (December)\n",
    "# https://freecurrencyrates.com/en/exchange-rate-history/USD-UGX/2014/yahoo\n",
    "\n",
    "# to do: convert array into data frame\n",
    "basic2 = pd.DataFrame(data = data, columns=[\"HHID\",\"urban\",\"year\", \"month\", \"region\",\"index\", \"inflation\", \"infl_idx\"] )"
   ]
  },
  {
   "cell_type": "code",
   "execution_count": 5,
   "metadata": {},
   "outputs": [
    {
     "name": "stdout",
     "output_type": "stream",
     "text": [
      "              wage1         wage2    wage_total\n",
      "count        962.00        227.00      1,130.00\n",
      "mean   3,832,861.81  1,877,169.52  3,640,115.53\n",
      "std    5,706,683.78  7,497,425.53  6,312,524.13\n",
      "min       18,000.00     15,000.00     15,000.00\n",
      "25%      842,333.33    120,000.00    560,000.00\n",
      "50%    2,240,000.00    270,000.00  1,924,000.00\n",
      "75%    4,480,000.00  1,120,000.00  4,194,000.00\n",
      "max   60,592,000.00 96,000,000.00 96,000,000.00\n"
     ]
    }
   ],
   "source": [
    "# Income: \n",
    "#labor & business income: in US dollars\n",
    "\n",
    "#read data\n",
    "labor = pd.read_stata(\"GSEC8_1.dta\")\n",
    "\n",
    "#pick relevant columns\n",
    "labor = labor[[\"HHID\", \"PID\", \"h8q36a\", \"h8q36b\", \"h8q36c\", \"h8q36d\", \"h8q36e\", \"h8q36f\", \"h8q36g\", \"h8q30a\", \"h8q30b\",\n",
    "               \"h8q31a\", \"h8q31b\", \"h8q31c\", \"h8q43\", \"h8q44\", \"h8q44b\", \"h8q45a\", \"h8q45b\", \"h8q45c\"]]\n",
    "#First job\n",
    "#h8q36a\tDuring the last 7 days, how many hours did [NAME] work on each day?\tSun\n",
    "#h8q36b\tDuring the last 7 days, how many hours did [NAME] work on each day?\tMon\n",
    "#h8q36c\tDuring the last 7 days, how many hours did [NAME] work on each day?\tTue\n",
    "#h8q36d\tDuring the last 7 days, how many hours did [NAME] work on each day?\tWed\n",
    "#h8q36e\tDuring the last 7 days, how many hours did [NAME] work on each day?\tThu\n",
    "#h8q36f\tDuring the last 7 days, how many hours did [NAME] work on each day?\tFri\n",
    "#h8q36g\tDuring the last 7 days, how many hours did [NAME] work on each day?  Sat\n",
    "#h8q30a\tDuring the last 12 months, for how many months did [NAME] work in this job?\n",
    "#h8q30b\tDuring the 12 months, on average how many weeks per month did [NAME] work in thi\n",
    "#h8q31a\tHow much was [Name]'s last cash payment for the main job ?\n",
    "#h8q31b\tHow much did [NAME] receive in kind for the main job during the last week?\n",
    "#h8q31c\tWhat period of time did this payment cover?\n",
    "#Second job\n",
    "#h8q43\t   IN THE LAST 7 DAYS, how many hours did [NAME] actually work at the second income\n",
    "#h8q44    During the last 12 months, for how many months did [NAME] work in this job?\n",
    "#h8q44b\tDuring the last month, how many weeks per month did [NAME] work in this job?\n",
    "#h8q45a\tHow much was [Name]'s last cash payment for the second job?\t\n",
    "#h8q45b\tHow much was [NAME]’s last cash payment and the estimated value of what [NAME] l\t\n",
    "#h8q45c\tWhat period of time did this payment cover?\n",
    "\n",
    "#Sum hours per week in main job\n",
    "labor[\"weekhours1\"] = labor[\"h8q36a\"]+labor[\"h8q36b\"]+labor[\"h8q36c\"]+labor[\"h8q36d\"]+labor[\"h8q36e\"]+labor[\"h8q36f\"]+labor[\"h8q36g\"]\n",
    "\n",
    "#Count work days\n",
    "labor[\"weekdays1\"]=(labor[\"h8q36a\"]!=0)*1+(labor[\"h8q36b\"]!=0)*1+(labor[\"h8q36c\"]!=0)*1+(labor[\"h8q36d\"]!=0)*1+(labor[\"h8q36e\"]!=0)*1+(labor[\"h8q36f\"]!=0)*1+(labor[\"h8q36g\"]!=0)*1\n",
    "\n",
    "#Drop hours per week\n",
    "labor = labor[[\"HHID\", \"PID\", \"weekhours1\", \"weekdays1\", \"h8q30a\", \"h8q30b\",\n",
    "               \"h8q31a\", \"h8q31b\", \"h8q31c\", \"h8q43\", \"h8q44\", \"h8q44b\", \"h8q45a\", \"h8q45b\", \"h8q45c\"]]\n",
    "\n",
    "#Rename columns\n",
    "labor.columns = [\"hh\",\"pid\", \"weekhours1\", \"weekdays1\", \"months1\",\"weeks1\", \"cash1\",\"inkind1\", \"time1\",\"weekhours2\",\"months2\",\"weeks2\", \"cash2\",\"inkind2\", \"time2\"]\n",
    "\n",
    "#Sum value in cash and in kind\n",
    "labor[\"pay1\"] = labor.loc[:,[\"cash1\",\"inkind1\"]].sum(axis=1)\n",
    "labor[\"pay2\"] = labor.loc[:,[\"cash2\",\"inkind2\"]].sum(axis=1)\n",
    "\n",
    "#Remove data about payment in cash and in kind\n",
    "del labor[\"cash1\"], labor[\"inkind1\"], labor[\"cash2\"], labor[\"inkind2\"]\n",
    "\n",
    "#Creating week wages\n",
    "labor.loc[labor.time1 == \"Day\", 'pay1'] = labor.loc[labor.time1 == \"Day\", 'pay1']*labor.loc[labor.time1 == \"Day\", 'weekdays1']\n",
    "labor.loc[labor.time1 == \"Month\", 'pay1'] = labor.loc[labor.time1 == \"Month\", 'pay1']/(30/7)\n",
    "labor.loc[labor.time1 == \"Hour\", 'pay1'] = labor.loc[labor.time1 == \"Hour\", 'pay1']*labor.loc[labor.time1 == \"Day\", 'weekhours1']\n",
    "\n",
    "\n",
    "labor.loc[labor.time1 == \"Day\", 'pay2'] = labor.loc[labor.time1 == \"Day\", 'pay2']*5\n",
    "labor.loc[labor.time1 == \"Month\", 'pay2'] = labor.loc[labor.time1 == \"Month\", 'pay2']/(30/7)\n",
    "labor.loc[labor.time1 == \"Hour\", 'pay2'] = labor.loc[labor.time1 == \"Hour\", 'pay2']*labor.loc[labor.time1 == \"Day\", 'weekhours2']\n",
    "\n",
    "labor[\"wage1\"] = labor.months1*labor.weeks1*labor.pay1\n",
    "labor[\"wage2\"] = labor.months2*labor.weeks2*labor.pay2\n",
    "\n",
    "labor_HH = labor.groupby(by=\"hh\")[[\"wage1\",\"wage2\"]].sum()\n",
    "labor_HH[\"wage_total\"] = labor_HH.loc[:,[\"wage1\",\"wage2\"]].sum(axis=1)\n",
    "labor_HH= labor_HH.replace(0, np.nan)\n",
    "\n",
    "labor_HH[\"hh\"] = np.array(labor_HH.index.values)\n",
    "summaryw = labor_HH.describe()\n",
    "print(summaryw)"
   ]
  },
  {
   "cell_type": "code",
   "execution_count": 6,
   "metadata": {},
   "outputs": [
    {
     "name": "stdout",
     "output_type": "stream",
     "text": [
      "          bs_profit\n",
      "count      1,385.00\n",
      "mean     549,839.61\n",
      "std    2,063,280.20\n",
      "min   -6,060,000.00\n",
      "25%       50,000.00\n",
      "50%      160,000.00\n",
      "75%      440,000.00\n",
      "max   33,180,000.00\n"
     ]
    }
   ],
   "source": [
    "#Business income\n",
    "business = pd.read_stata('GSEC12.dta')\n",
    "business = business[[\"hhid\",\"h12q12\", \"h12q13\",\"h12q15\",\"h12q16\",\"h12q17\"]]\n",
    "business.rename(columns={'hhid':'hh'}, inplace=True)\n",
    "business.rename(columns={'h12q13':'revenue'}, inplace=True)\n",
    "business[\"cost\"] = -business.loc[:,[\"h12q15\",\"h12q16\",\"h12q17\"]].sum(axis=1)\n",
    "business[\"bs_profit\"] = business.loc[:,[\"revenue\",\"cost\"]].sum(axis=1)\n",
    "business[\"bs_profit\"] = business[\"bs_profit\"].replace(0,np.nan)\n",
    "business = business[[\"hh\",\"bs_profit\"]]\n",
    "business = business.groupby(by=\"hh\").sum()\n",
    "business[\"hh\"] = np.array(business.index.values)\n",
    "business = business.replace(0, np.nan)\n",
    "summarybus = business.describe()\n",
    "print(summarybus)"
   ]
  },
  {
   "cell_type": "code",
   "execution_count": 7,
   "metadata": {},
   "outputs": [
    {
     "name": "stdout",
     "output_type": "stream",
     "text": [
      "          other_inc\n",
      "count      1,158.00\n",
      "mean   1,470,001.63\n",
      "std    3,399,833.72\n",
      "min           80.00\n",
      "25%      170,000.00\n",
      "50%      400,000.00\n",
      "75%    1,200,000.00\n",
      "max   52,650,000.00\n"
     ]
    }
   ],
   "source": [
    "#Other income\n",
    "other = pd.read_stata('GSEC11B.dta')\n",
    "other = other[[\"HHID\",\"h11q5\",\"h11q6\"]]\n",
    "other.rename(columns={'HHID':'hh'}, inplace=True)\n",
    "other[\"other_inc\"] = other.loc[:,[\"h11q5\",\"h11q6\"]].sum(axis=1)\n",
    "other = other[[\"hh\",\"other_inc\"]]\n",
    "other = other.groupby(by=\"hh\").sum()\n",
    "other = other.replace(0, np.nan)\n",
    "other[\"hh\"] = np.array(other.index.values)\n",
    "summaryo = other.describe()\n",
    "print(summaryo)"
   ]
  },
  {
   "cell_type": "code",
   "execution_count": 8,
   "metadata": {},
   "outputs": [
    {
     "name": "stdout",
     "output_type": "stream",
     "text": [
      "       total income\n",
      "count        241.00\n",
      "mean   2,802,309.13\n",
      "std    4,888,735.58\n",
      "min        8,000.00\n",
      "25%      250,000.00\n",
      "50%      960,000.00\n",
      "75%    3,000,000.00\n",
      "max   35,000,000.00\n"
     ]
    }
   ],
   "source": [
    "#THE WHOLE INCOME 2nd way\n",
    "income2 = pd.read_stata('GSEC11A.dta')\n",
    "#h11q5\tAmount received during the past 12 months.[SHILLINGS]\n",
    "#h11q6\tAmount received [IN-KIND]during the past 12 months.[SHILLINGS]\n",
    "income2 = income2[[\"HHID\", \"h11q5\", \"h11q6\"]]\n",
    "income2.rename(columns={'HHID':'hh'}, inplace=True)\n",
    "income2[\"total income\"] = income2.loc[:,[\"h11q5\",\"h11q6\"]].sum(axis=1)\n",
    "income2 = income2[[\"hh\",\"total income\"]]\n",
    "income2 = income2.groupby(by=\"hh\").sum()\n",
    "income2[\"hh\"] = np.array(income2.index.values)\n",
    "income2 = income2.replace(0, np.nan)\n",
    "summarinc2 = income2.describe()\n",
    "print(summarinc2)"
   ]
  },
  {
   "cell_type": "code",
   "execution_count": 9,
   "metadata": {},
   "outputs": [
    {
     "name": "stdout",
     "output_type": "stream",
     "text": [
      "         wage_total     bs_profit     other_inc\n",
      "count      1,130.00      1,385.00      1,158.00\n",
      "mean   3,640,115.53    549,839.61  1,470,001.63\n",
      "std    6,312,524.13  2,063,280.20  3,399,833.72\n",
      "min       15,000.00 -6,060,000.00         80.00\n",
      "25%      560,000.00     50,000.00    170,000.00\n",
      "50%    1,924,000.00    160,000.00    400,000.00\n",
      "75%    4,194,000.00    440,000.00  1,200,000.00\n",
      "max   96,000,000.00 33,180,000.00 52,650,000.00\n"
     ]
    },
    {
     "name": "stderr",
     "output_type": "stream",
     "text": [
      "C:\\Users\\adamw\\Anaconda3\\lib\\site-packages\\IPython\\core\\interactiveshell.py:2910: FutureWarning: 'hh' is both an index level and a column label.\n",
      "Defaulting to column, but this will raise an ambiguity error in a future version\n",
      "  exec(code_obj, self.user_global_ns, self.user_ns)\n"
     ]
    }
   ],
   "source": [
    "#merge\n",
    "income_gsec = pd.merge(labor_HH, business, on=\"hh\", how=\"outer\")\n",
    "income_gsec = pd.merge(income_gsec, other, on=\"hh\", how=\"outer\")\n",
    "\n",
    "income_gsec[\"total_labor_income\"] = income_gsec[\"wage_total\"]+income_gsec[\"bs_profit\"]+income_gsec[\"other_inc\"]\n",
    "\n",
    "inc_lab = income_gsec[[\"hh\", \"total_labor_income\"]]\n",
    "inc_lab.columns = [\"HHID\", \"total_labor_income\"]\n",
    "sumlab = income_gsec[[\"wage_total\",\"bs_profit\", \"other_inc\"]].describe()\n",
    "print(sumlab)"
   ]
  },
  {
   "cell_type": "code",
   "execution_count": 10,
   "metadata": {},
   "outputs": [],
   "source": [
    "#### AGRICULTURE"
   ]
  },
  {
   "cell_type": "code",
   "execution_count": 11,
   "metadata": {},
   "outputs": [
    {
     "name": "stderr",
     "output_type": "stream",
     "text": [
      "C:\\Users\\adamw\\Anaconda3\\lib\\site-packages\\IPython\\core\\interactiveshell.py:2910: FutureWarning: 'HHID' is both an index level and a column label.\n",
      "Defaulting to column, but this will raise an ambiguity error in a future version\n",
      "  exec(code_obj, self.user_global_ns, self.user_ns)\n",
      "C:\\Users\\adamw\\Anaconda3\\lib\\site-packages\\pandas\\core\\indexing.py:1472: FutureWarning: \n",
      "Passing list-likes to .loc or [] with any missing label will raise\n",
      "KeyError in the future, you can use .reindex() as an alternative.\n",
      "\n",
      "See the documentation here:\n",
      "https://pandas.pydata.org/pandas-docs/stable/indexing.html#deprecate-loc-reindex-listlike\n",
      "  return self._getitem_tuple(key)\n"
     ]
    },
    {
     "name": "stdout",
     "output_type": "stream",
     "text": [
      "                HHID  profit_agra\n",
      "count      10,879.00     9,574.00\n",
      "mean  242,960,776.22   107,680.52\n",
      "std   122,585,203.15   146,655.69\n",
      "min     1,020,401.00   -87,571.43\n",
      "25%   140,065,401.00    18,000.00\n",
      "50%   254,100,401.00    60,000.00\n",
      "75%   356,020,401.00   144,000.00\n",
      "max   430,100,401.00   870,000.00\n"
     ]
    },
    {
     "name": "stderr",
     "output_type": "stream",
     "text": [
      "C:\\Users\\adamw\\Anaconda3\\lib\\site-packages\\ipykernel_launcher.py:108: SettingWithCopyWarning: \n",
      "A value is trying to be set on a copy of a slice from a DataFrame.\n",
      "Try using .loc[row_indexer,col_indexer] = value instead\n",
      "\n",
      "See the caveats in the documentation: http://pandas.pydata.org/pandas-docs/stable/indexing.html#indexing-view-versus-copy\n"
     ]
    }
   ],
   "source": [
    "# Season A\n",
    "\n",
    "#OWNER\n",
    "ag2a = pd.read_stata('AGSEC2A.dta')\n",
    "ag2a = ag2a[[\"HHID\", \"a2aq14\"]]\n",
    "ag2a.columns = [\"HHID\", \"land_owner\"]\n",
    "#a2aq14  how much rent did you or will you receive (if share-cropped–out give the estimated cash value) during the two cropping seasons? \n",
    "ag2a = ag2a.groupby(by=\"HHID\")[[\"land_owner\"]].sum()\n",
    "ag2a[\"HHID\"] = np.array(ag2a.index.values)\n",
    "\n",
    "\n",
    "#NON-OWNER\n",
    "ag2b = pd.read_stata('AGSEC2B.dta')\n",
    "ag2b = ag2b[[\"HHID\", \"a2bq9\", \"a2bq13\"]]\n",
    "#a2bq9\tA2BQ9:How much rent did you or will you pay to the land owner during the two cro\n",
    "#a2bq13\tA2BQ16:How much rent did you or will you receive (if sharecropped -out give the\n",
    "ag2b = ag2b.groupby(by=\"HHID\")[[\"a2bq9\", \"a2bq13\"]].sum()\n",
    "ag2b[\"rent_noowner\"] = ag2b[\"a2bq9\"].fillna(0) - ag2b[\"a2bq13\"].fillna(0)\n",
    "ag2b[\"rent_noowner\"] = ag2b[\"rent_noowner\"].replace(0, np.nan)\n",
    "ag2b = ag2b[[\"rent_noowner\"]]\n",
    "ag2b[\"HHID\"] = np.array(ag2b.index.values)\n",
    "\n",
    "# Fertilizers & labor costs\n",
    "ag3a = pd.read_stata('AGSEC3A.dta')\n",
    "ag3a = ag3a[[\"HHID\", \"a3aq8\", \"a3aq18\", \"a3aq27\",\"a3aq36\"]]\n",
    "#a3aq8\t   A3AQ8:What was the value of the purchase? (ORGANIC FERTILIZERS)\n",
    "#a3aq18\tA3AQ18:What was the value of the purchases? (INORGANIC/CHEMICAL FERTILIZERS)\n",
    "#a3aq27\tA3AQ27:What was the value of the purchase? (PESTICIDES)\n",
    "#a3aq36\tA3BQ36:How much did you pay including the value in-kind payments for these days (HIRED LABOUR)\n",
    "#Hired labour for all tasks during the first season of 2013:\n",
    "#such as land preparation and sowing, input application,\n",
    "#weeding and pruning, harvesting, etc\n",
    "ag3a = ag3a.groupby(by=\"HHID\")[[\"a3aq8\", \"a3aq18\", \"a3aq27\",\"a3aq36\"]].sum()\n",
    "ag3a[\"fert_lab_c\"] = ag3a[\"a3aq8\"].fillna(0)+ ag3a[\"a3aq18\"].fillna(0) + ag3a[\"a3aq27\"].fillna(0) + ag3a[\"a3aq36\"].fillna(0)\n",
    "ag3a[\"fert_lab_c\"] = ag3a[\"fert_lab_c\"].replace(0, np.nan)\n",
    "ag3a = ag3a[[\"fert_lab_c\"]]\n",
    "ag3a[\"HHID\"] = np.array(ag3a.index.values)\n",
    "\n",
    "# Seeds costs\n",
    "ag4a = pd.read_stata('AGSEC4A.dta')\n",
    "ag4a = ag4a[[\"HHID\", \"a4aq15\"]]\n",
    "#a4aq15\tHow much did you pay for all purchased seeds/seedlings used on this crop\n",
    "ag4a = ag4a.groupby(by=\"HHID\")[[\"a4aq15\"]].sum()\n",
    "ag4a.columns = [\"seeds_c\"]\n",
    "ag4a[\"HHID\"] = np.array(ag4a.index.values)\n",
    "\n",
    "# Output\n",
    "ag5a = pd.read_stata('agsec5a.dta')\n",
    "ag5a = ag5a[[\"HHID\",\"cropID\",\"a5aq6a\",\"a5aq6c\",\"a5aq6d\", \"a5aq7a\", \"a5aq7c\", \"a5aq8\"]]\n",
    "ag5a.columns = [\"HHID\", \"cropID\", \"total\",\"unit\", \"tokg\", \"sell\", \"unit2\", \"value_sells\"]\n",
    "#a5aq6a\tQuantity of the crop harvested in 2013\n",
    "#a5aq6b\tUnit of quantity for the crop harvested\n",
    "#a5aq6d\tCorvension factor into kgs per crop\n",
    "#a5aq7a\tA5AQ7A:Quantity of the crop harvested in 2013 (SOLD)\n",
    "#a5aq7c\tA5AQ7C:unit of quantity for the crop harvested (SOLD)\n",
    "#a5aq8\t   A5AQ8:What was the value? (SOLD)\n",
    "\n",
    "# Convert all quantitites to kilos:\n",
    "#get median conversations (self-reported values)\n",
    "conversion_kg = ag5a.groupby(by=\"unit\")[[\"tokg\"]].median()\n",
    "conversion_kg.reset_index(inplace=True)\n",
    "conversion_kg.loc[conversion_kg.unit==\"Kilogram (KG)\", \"tokg\"] = 1\n",
    "# Redefine heaps manually\n",
    "conversion_kg.loc[conversion_kg.unit==\"Heap (Small)\", \"tokg\"] = 3\n",
    "conversion_kg.loc[conversion_kg.unit==\"Heap (Medium)\", \"tokg\"] = 4.5\n",
    "conversion_kg.loc[conversion_kg.unit==\"Heap (Large)\", \"tokg\"] = 6\n",
    "conversion_kg.columns = [\"unit\",\"kgconverter\"]\n",
    "\n",
    "#merge ag5a and converter\n",
    "ag5a = ag5a.merge(conversion_kg, on=\"unit\", how=\"left\")\n",
    "\n",
    "# Convert to kg\n",
    "ag5a[[\"total\", \"sell\"]] = ag5a[[\"total\", \"sell\"]].multiply(ag5a[\"kgconverter\"], axis=\"index\")\n",
    "\n",
    "#Prices\n",
    "ag5a[\"prices\"] = ag5a.value_sells.div(ag5a.sell, axis=0) \n",
    "prices_sell = ag5a.groupby(by=[\"cropID\"])[[\"prices\"]].median()\n",
    "prices_sell.reset_index(inplace=True)\n",
    "prices_sell.columns=[\"cropID\",\"med_prices\"]\n",
    "prices_sell.loc[prices_sell.med_prices.isnull()]=prices_sell[\"med_prices\"].median()\n",
    "\n",
    "\n",
    "# Calculate the value of yields (sell prices)\n",
    "ag5a = ag5a.merge(prices_sell, on=\"cropID\", how=\"left\")\n",
    "#ag5a.loc[ag5a.prices>9999999999, \"prices\"] = 500.00 #there was some weird price = inf so I changed it manually\n",
    "ag5a[\"value_produced\"] = ag5a[\"total\"]*ag5a[\"med_prices\"]\n",
    "\n",
    "ag5a= ag5a.replace(0, np.nan)\n",
    "#ag5a[\"HHID\"] = np.array(ag5a.index.values)\n",
    "sumag5a = ag5a.describe()\n",
    "#print(sumag5a)\n",
    "\n",
    "# Merge datasets\n",
    "agrica = pd.merge(ag2a, ag2b, on='HHID', how='outer')\n",
    "agrica = pd.merge(agrica, ag3a, on='HHID', how='outer')\n",
    "agrica = pd.merge(agrica, ag4a, on='HHID', how='outer')\n",
    "agrica = pd.merge(agrica, ag5a, on='HHID', how='outer')\n",
    "#agrica.reset_index(inplace=True)\n",
    "\n",
    "# Calculate income\n",
    "agrica[\"cost_agra\"] = -agrica.loc[:,[\"fet_lab_c\",\"seeds_c\",\"trans_cost\"]].sum(axis=1)\n",
    "agrica[\"profit_agra\"] = agrica.loc[:,[\"value_produced\",\"rent_owner\",\"rent_noowner\",\"cost_agra\"]].sum(axis=1)\n",
    "agrica= agrica.replace(0, np.nan)\n",
    "agrica[\"HHID\"] = pd.to_numeric(agrica[\"HHID\"])\n",
    "agA = agrica[[\"HHID\", \"profit_agra\"]]\n",
    "\n",
    "#remove outliers\n",
    "agA[\"profit_agra\"] = agA.loc[(agA.profit_agra>agA.profit_agra.quantile(q=0.02)) & (agA.profit_agra<agA.profit_agra.quantile(q=0.98)),\"profit_agra\"]\n",
    "\n",
    "suma = agA.describe()\n",
    "print(suma)"
   ]
  },
  {
   "cell_type": "code",
   "execution_count": 12,
   "metadata": {},
   "outputs": [
    {
     "name": "stdout",
     "output_type": "stream",
     "text": [
      "                HHID    cropID      total      tokg      sell  value_sells  \\\n",
      "count      10,424.00 10,415.00   8,515.00  6,664.00  3,152.00     3,188.00   \n",
      "mean  242,170,883.72    447.35     281.70     45.59    334.45   219,054.65   \n",
      "std   126,929,847.82    257.38   2,059.39    190.09    960.81   410,605.97   \n",
      "min     1,020,401.00    111.00       1.00      0.02      1.00         1.00   \n",
      "25%   125,100,401.00    210.00      50.00     10.00     60.00    40,000.00   \n",
      "50%   260,560,401.50    520.00     100.00     17.00    130.00   100,000.00   \n",
      "75%   355,072,901.00    700.00     280.00     80.00    312.00   230,250.00   \n",
      "max   430,100,401.00    890.00 180,000.00 14,000.00 32,000.00 7,200,000.00   \n",
      "\n",
      "       kgconverter   prices  med_prices  value_produced  \n",
      "count     8,515.00 3,150.00   10,405.00        8,502.00  \n",
      "mean         32.72      inf      751.10      167,663.00  \n",
      "std          40.36      nan      546.55      852,251.19  \n",
      "min           0.50     0.05       71.43          500.00  \n",
      "25%           5.00   466.67      428.57       36,730.77  \n",
      "50%          15.00   689.56      500.00       75,000.00  \n",
      "75%          50.00 1,200.00    1,050.00      167,857.14  \n",
      "max         130.00      inf   20,000.00   72,000,000.00  \n"
     ]
    }
   ],
   "source": [
    "#Season B\n",
    "\n",
    "# Fertilizers & labor costs\n",
    "ag3b = pd.read_stata('AGSEC3B.dta')\n",
    "ag3b = ag3b[[\"HHID\", \"a3bq8\", \"a3bq18\", \"a3bq27\",\"a3bq36\"]]\n",
    "#a3aq8\t   A3AQ8:What was the value of the purchase? (ORGANIC FERTILIZERS)\n",
    "#a3aq18\tA3AQ18:What was the value of the purchases? (INORGANIC/CHEMICAL FERTILIZERS)\n",
    "#a3aq27\tA3AQ27:What was the value of the purchase? (PESTICIDES)\n",
    "#a3aq36\tA3BQ36:How much did you pay including the value in-kind payments for these days (HIRED LABOUR)\n",
    "#Hired labour for all tasks during the first season of 2013:\n",
    "#such as land preparation and sowing, input application,\n",
    "#weeding and pruning, harvesting, etc\n",
    "ag3b = ag3b.groupby(by=\"HHID\")[[\"a3bq8\", \"a3bq18\", \"a3bq27\",\"a3bq36\"]].sum()\n",
    "ag3b[\"fert_lab_c\"] = ag3b[\"a3bq8\"].fillna(0)+ ag3b[\"a3bq18\"].fillna(0) + ag3b[\"a3bq27\"].fillna(0) + ag3b[\"a3bq36\"].fillna(0)\n",
    "ag3b[\"fert_lab_c\"] = ag3b[\"fert_lab_c\"].replace(0, np.nan)\n",
    "ag3b = ag3b[[\"fert_lab_c\"]]\n",
    "ag3b[\"HHID\"] = np.array(ag3b.index.values)\n",
    "\n",
    "# Seeds costs\n",
    "ag4b = pd.read_stata('AGSEC4B.dta')\n",
    "ag4b = ag4b[[\"HHID\", \"a4bq15\"]]\n",
    "#a4aq15\tHow much did you pay for all purchased seeds/seedlings used on this crop\n",
    "ag4b = ag4b.groupby(by=\"HHID\")[[\"a4bq15\"]].sum()\n",
    "ag4b.columns = [\"seeds_c\"]\n",
    "ag4b[\"HHID\"] = np.array(ag4b.index.values)\n",
    "\n",
    "# Output\n",
    "ag5b = pd.read_stata('agsec5b.dta')\n",
    "ag5b = ag5b[[\"HHID\",\"cropID\",\"a5bq6a\",\"a5bq6c\",\"a5bq6d\", \"a5bq7a\", \"a5bq7c\", \"a5bq8\"]]\n",
    "ag5b.columns = [\"HHID\", \"cropID\", \"total\",\"unit\", \"tokg\", \"sell\", \"unit2\", \"value_sells\"]\n",
    "#a5aq6a\tQuantity of the crop harvested in 2013\n",
    "#a5aq6b\tUnit of quantity for the crop harvested\n",
    "#a5aq6d\tCorvension factor into kgs per crop\n",
    "#a5aq7a\tA5AQ7A:Quantity of the crop harvested in 2013 (SOLD)\n",
    "#a5aq7c\tA5AQ7C:unit of quantity for the crop harvested (SOLD)\n",
    "#a5aq8\t   A5AQ8:What was the value? (SOLD)\n",
    "\n",
    "# Convert all quantitites to kilos:\n",
    "#get median conversations (self-reported values)\n",
    "conversion_kg = ag5b.groupby(by=\"unit\")[[\"tokg\"]].median()\n",
    "conversion_kg.reset_index(inplace=True)\n",
    "conversion_kg.loc[conversion_kg.unit==\"Kilogram (KG)\", \"tokg\"] = 1\n",
    "# Redefine heaps manually\n",
    "conversion_kg.loc[conversion_kg.unit==\"Heap (Small)\", \"tokg\"] = 3\n",
    "conversion_kg.loc[conversion_kg.unit==\"Heap (Medium)\", \"tokg\"] = 4.5\n",
    "conversion_kg.loc[conversion_kg.unit==\"Heap (Large)\", \"tokg\"] = 6\n",
    "conversion_kg.columns = [\"unit\",\"kgconverter\"]\n",
    "\n",
    "#merge ag5a and converter\n",
    "ag5b = ag5b.merge(conversion_kg, on=\"unit\", how=\"left\")\n",
    "\n",
    "# Convert to kg\n",
    "ag5b[[\"total\", \"sell\"]] = ag5b[[\"total\", \"sell\"]].multiply(ag5b[\"kgconverter\"], axis=\"index\")\n",
    "\n",
    "#Prices\n",
    "ag5b[\"prices\"] = ag5b.value_sells.div(ag5b.sell, axis=0) \n",
    "prices_sell = ag5b.groupby(by=[\"cropID\"])[[\"prices\"]].median()\n",
    "prices_sell.reset_index(inplace=True)\n",
    "prices_sell.columns=[\"cropID\",\"med_prices\"]\n",
    "prices_sell.loc[prices_sell.med_prices.isnull()]=prices_sell[\"med_prices\"].median()\n",
    "\n",
    "\n",
    "# Calculate the value of yields (sell prices)\n",
    "ag5b = ag5b.merge(prices_sell, on=\"cropID\", how=\"left\")\n",
    "#ag5b.loc[ag5b.prices>9999999999, \"prices\"] = 500.00 #there was some weird price = inf so I changed it manually\n",
    "ag5b[\"value_produced\"] = ag5b[\"total\"]*ag5b[\"med_prices\"]\n",
    "\n",
    "ag5b= ag5b.replace(0, np.nan)\n",
    "#ag5b[\"HHID\"] = np.array(ag5b.index.values)\n",
    "sumag5b = ag5b.describe()\n",
    "print(sumag5b)"
   ]
  },
  {
   "cell_type": "code",
   "execution_count": 13,
   "metadata": {},
   "outputs": [
    {
     "name": "stdout",
     "output_type": "stream",
     "text": [
      "                HHID  profit_agrb\n",
      "count      10,435.00     8,873.00\n",
      "mean  242,159,099.79   105,480.37\n",
      "std   126,912,185.00   135,866.91\n",
      "min     1,020,401.00   -54,900.00\n",
      "25%   125,120,401.00    22,000.00\n",
      "50%   261,020,402.00    60,000.00\n",
      "75%   355,070,401.00   135,000.00\n",
      "max   430,100,401.00   797,442.31\n"
     ]
    },
    {
     "name": "stderr",
     "output_type": "stream",
     "text": [
      "C:\\Users\\adamw\\Anaconda3\\lib\\site-packages\\IPython\\core\\interactiveshell.py:2910: FutureWarning: 'HHID' is both an index level and a column label.\n",
      "Defaulting to column, but this will raise an ambiguity error in a future version\n",
      "  exec(code_obj, self.user_global_ns, self.user_ns)\n",
      "C:\\Users\\adamw\\Anaconda3\\lib\\site-packages\\pandas\\core\\indexing.py:1472: FutureWarning: \n",
      "Passing list-likes to .loc or [] with any missing label will raise\n",
      "KeyError in the future, you can use .reindex() as an alternative.\n",
      "\n",
      "See the documentation here:\n",
      "https://pandas.pydata.org/pandas-docs/stable/indexing.html#deprecate-loc-reindex-listlike\n",
      "  return self._getitem_tuple(key)\n",
      "C:\\Users\\adamw\\Anaconda3\\lib\\site-packages\\ipykernel_launcher.py:16: SettingWithCopyWarning: \n",
      "A value is trying to be set on a copy of a slice from a DataFrame.\n",
      "Try using .loc[row_indexer,col_indexer] = value instead\n",
      "\n",
      "See the caveats in the documentation: http://pandas.pydata.org/pandas-docs/stable/indexing.html#indexing-view-versus-copy\n",
      "  app.launch_new_instance()\n"
     ]
    }
   ],
   "source": [
    "# Merge datasets\n",
    "agricb = pd.merge(ag3b, ag4b, on='HHID', how='outer')\n",
    "agricb = pd.merge(agricb, ag5b, on='HHID', how='outer')\n",
    "#agrica.reset_index(inplace=True)\n",
    "\n",
    "# Calculate income\n",
    "agricb[\"cost_agra\"] = -agricb.loc[:,[\"fet_lab_c\",\"seeds_c\",\"trans_cost\"]].sum(axis=1)\n",
    "agricb[\"profit_agrb\"] = agricb.loc[:,[\"value_produced\",\"rent_owner\",\"rent_noowner\",\"cost_agra\"]].sum(axis=1)\n",
    "agricb= agricb.replace(0, np.nan)\n",
    "#agricb[\"HHID\"] = np.array(agricb.index.values)\n",
    "#agricb = agricb.groupby(by=\"HHID\").sum()\n",
    "#agricb[\"HHID\"] = pd.to_numeric(agricb[\"HHID\"])\n",
    "agB = agricb[[\"HHID\", \"profit_agrb\"]]\n",
    "\n",
    "#remove outliers\n",
    "agB[\"profit_agrb\"] = agB.loc[(agB.profit_agrb>agB.profit_agrb.quantile(q=0.02)) & (agB.profit_agrb<agB.profit_agrb.quantile(q=0.98)),\"profit_agrb\"]\n",
    "\n",
    "suma = agB.describe()\n",
    "print(suma)"
   ]
  },
  {
   "cell_type": "code",
   "execution_count": 14,
   "metadata": {},
   "outputs": [
    {
     "name": "stdout",
     "output_type": "stream",
     "text": [
      "       lvstincome_poultry\n",
      "count              307.00\n",
      "mean            43,463.19\n",
      "std             61,124.52\n",
      "min            -45,000.00\n",
      "25%             -6,000.00\n",
      "50%             34,000.00\n",
      "75%             72,000.00\n",
      "max            255,000.00\n",
      "       lvstinput\n",
      "count     950.00\n",
      "mean   30,996.07\n",
      "std    36,667.60\n",
      "min     1,100.00\n",
      "25%     6,000.00\n",
      "50%    17,000.00\n",
      "75%    40,000.00\n",
      "max   176,000.00\n",
      "        milk_income\n",
      "count        318.00\n",
      "mean   1,268,759.61\n",
      "std    2,371,880.57\n",
      "min       33,474.28\n",
      "25%      178,529.52\n",
      "50%      446,323.80\n",
      "75%    1,071,177.11\n",
      "max   16,737,142.40\n",
      "       egg_income\n",
      "count      751.00\n",
      "mean    13,820.11\n",
      "std      9,467.93\n",
      "min      2,767.89\n",
      "25%      6,919.73\n",
      "50%     10,379.59\n",
      "75%     17,299.32\n",
      "max     55,357.82\n"
     ]
    }
   ],
   "source": [
    "# Livestock\n",
    "#Big Animals\n",
    "ag6a = pd.read_stata('AGSEC6A.dta')\n",
    "ag6a = ag6a[[\"HHID\", \"LiveStockID\", \"a6aq13a\", \"a6aq13b\", \"a6aq14a\", \"a6aq14b\", \"a6aq15\"]]\n",
    "#LiveStockID\tLivestock code\n",
    "#a6aq13a\tHow many <b>[LiveStockID]</b> did you buy to raise during the last 12 months?\n",
    "#a6aq13b\tWhat was, on average, the value of each [LiveStockID] bought?\n",
    "#a6aq14a\t How many <b>[LiveStockID]</b> did you sell during the last 12 months?\n",
    "#a6aq15\tA6AQ15: How many <b>[LiveStockID]</b> did you slaughter in the last 12 months?\n",
    "ag6a.columns = [\"HHID\",\"lvstid\",\"amount_bought\", \"buy_price\", \"amount_sold\", \"sell_price\", \"amount_consumed\"]\n",
    "ag6a[\"value_bought\"] = ag6a[\"amount_bought\"]*ag6a[\"buy_price\"]\n",
    "ag6a[\"value_sold_n_cons\"] = (ag6a[\"amount_sold\"].fillna(0)+ag6a[\"amount_consumed\"].fillna(0))*ag6a[\"sell_price\"]\n",
    "ag6a[\"lvstincome_big\"]=ag6a[\"value_sold_n_cons\"].fillna(0)-ag6a[\"value_bought\"].fillna(0)\n",
    "ag6a=ag6a[[\"HHID\",\"lvstid\",\"lvstincome_big\"]]\n",
    "ag6a = ag6a.groupby(by='HHID')[[\"lvstincome_big\"]].sum()\n",
    "#Remove outliers\n",
    "ag6a[\"lvstincome_big\"] = ag6a.loc[(ag6a.lvstincome_big>ag6a.lvstincome_big.quantile(q=0.02)) & (ag6a.lvstincome_big<ag6a.lvstincome_big.quantile(q=0.98)),\"lvstincome_big\"]\n",
    "ag6a= ag6a.replace(0, np.nan)\n",
    "ag6a[\"HHID\"] = np.array(ag6a.index.values)    \n",
    "\n",
    "#Small animals\n",
    "ag6b = pd.read_stata('agsec6b.dta', convert_categoricals=False)\n",
    "ag6b = ag6b[[\"HHID\", \"ALiveStock_Small_ID\", \"a6bq13a\", \"a6bq13b\", \"a6bq14a\", \"a6bq14b\", \"a6bq15\"]]\n",
    "#ALiveStock_Small_ID\tSmall Animals\n",
    "#a6bq13a\tA6BQ13A: How many livestock did you buy to raise during the lat 12 days\n",
    "#a6bq13b\tA6BQ13B: Average value of each bought\n",
    "#a6bq14a\tA6BQ14A: How many livestock did you sell alive during the last 12 months\t\n",
    "#a6bq14b\tA6BQ14B: Average value of each sold\n",
    "#a6bq15\tA6BQ15: How many livestock did you slaughter during the last 12 months\n",
    "ag6b.columns = [\"HHID\",\"lvstid\",\"amount_bought\", \"buy_price\", \"amount_sold\", \"sell_price\", \"amount_consumed\"]\n",
    "ag6b[\"value_bought\"] = ag6b[\"amount_bought\"]*ag6b[\"buy_price\"]\n",
    "ag6b[\"value_sold_n_cons\"] = (ag6b[\"amount_sold\"].fillna(0)+ag6b[\"amount_consumed\"].fillna(0))*ag6b[\"sell_price\"]\n",
    "ag6b[\"lvstincome_small\"]=ag6b[\"value_sold_n_cons\"].fillna(0)-ag6b[\"value_bought\"].fillna(0)\n",
    "ag6b=ag6b[[\"HHID\",\"lvstid\",\"lvstincome_small\"]]\n",
    "ag6b = ag6b.groupby(by='HHID')[[\"lvstincome_small\"]].sum()\n",
    "ag6b[\"lvstincome_small\"] = ag6b.loc[(ag6b.lvstincome_small>ag6b.lvstincome_small.quantile(q=0.02)) & (ag6b.lvstincome_small<ag6b.lvstincome_small.quantile(q=0.98)),\"lvstincome_small\"]\n",
    "ag6b= ag6b.replace(0, np.nan)\n",
    "ag6b[\"HHID\"] = np.array(ag6b.index.values)   \n",
    "\n",
    "#Poultry animals\n",
    "ag6c = pd.read_stata('agsec6c.dta', convert_categoricals=False)\n",
    "ag6c = ag6c[[\"HHID\", \"APCode\", \"a6cq13a\", \"a6cq13b\", \"a6cq14a\", \"a6cq14b\", \"a6cq15\"]]\n",
    "#ALiveStock_Small_ID\tSmall Animals\n",
    "#a6cq13a\tA6cQ13A: How many livestock did you buy to raise during the lat 12 days\n",
    "#a6cq13b\tA6cQ13B: Average value of each bought\n",
    "#a6cq14a\tA6cQ14A: How many livestock did you sell alive during the last 12 months\t\n",
    "#a6cq14b\tA6cQ14B: Average value of each sold\n",
    "#a6cq15\tA6cQ15: How many livestock did you slaughter during the last 12 months\n",
    "ag6c.columns = [\"HHID\",\"lvstid\",\"amount_bought\", \"buy_price\", \"amount_sold\", \"sell_price\", \"amount_consumed\"]\n",
    "ag6c[\"value_bought\"] = ag6c[\"amount_bought\"]*ag6c[\"buy_price\"]\n",
    "ag6c[\"value_sold_n_cons\"] = (ag6c[\"amount_sold\"].fillna(0)+ag6c[\"amount_consumed\"].fillna(0))*ag6c[\"sell_price\"]\n",
    "ag6c[\"lvstincome_poultry\"]=ag6c[\"value_sold_n_cons\"].fillna(0)-ag6c[\"value_bought\"].fillna(0)\n",
    "ag6c=ag6c[[\"HHID\",\"lvstid\",\"lvstincome_poultry\"]]\n",
    "ag6c = ag6c.groupby(by='HHID')[[\"lvstincome_poultry\"]].sum()\n",
    "#Remove outliers\n",
    "ag6c[\"lvstincome_poultry\"] = ag6c.loc[(ag6c.lvstincome_poultry>ag6c.lvstincome_poultry.quantile(q=0.02)) & (ag6c.lvstincome_poultry<ag6c.lvstincome_poultry.quantile(q=0.98)),\"lvstincome_poultry\"]\n",
    "ag6c= ag6c.replace(0, np.nan)\n",
    "print(ag6c.describe())\n",
    "ag6c[\"HHID\"] = np.array(ag6c.index.values) \n",
    "\n",
    "# Livestock inputs\n",
    "ag7 = pd.read_stata('AGSEC7.dta')\n",
    "ag7 = ag7[[\"HHID\", \"AGroup_ID\", \"a7bq2e\", \"a7bq3f\", \"a7bq5d\", \"a7bq6c\", \"a7bq7c\", \"a7bq8c\"]]\n",
    "#AGroup_ID\tAnimal Groups\n",
    "#a7bq2e\tA7BQ2E: How much has this household paid to feed the [AGroup_ID] in the past 12\n",
    "#a7bq3f\tA7BQ3F: How much has this household paid to access the main water sources for th\n",
    "#a7bq5d\tA7BQ5D: What was the total cost of vaccination, including vaccine and profession\n",
    "# a7bq6c\tA7BQ6C: What was the total cost for deworming, including cost of dewormer and pr\n",
    "#a7bq7c\tA7BQ7C: What was the total cost of the treatment of the [AGroup_ID] against tick\n",
    "#a7bq8c\tA7BQ8C: What was the total cost of the curative treatment for the [AGroup_ID]\n",
    "ag7[\"lvstinput\"] = ag7[[\"a7bq2e\", \"a7bq3f\", \"a7bq5d\", \"a7bq6c\", \"a7bq7c\", \"a7bq8c\"]].sum(axis=1)\n",
    "ag7 = ag7[[\"HHID\", \"AGroup_ID\",\"lvstinput\"]]\n",
    "ag7 = ag7.groupby(by=\"HHID\").sum()\n",
    "ag7= ag7.replace(0, np.nan)\n",
    "ag7[\"lvstinput\"] = ag7.loc[(ag7.lvstinput>ag7.lvstinput.quantile(q=0.05)) & (ag7.lvstinput<ag7.lvstinput.quantile(q=0.90)),\"lvstinput\"]\n",
    "print(ag7.describe())\n",
    "ag7[\"HHID\"] = np.array(ag7.index.values)\n",
    "\n",
    "\n",
    "## Livestock Outputs - milk\n",
    "ag8B = pd.read_stata('AGSEC8B.dta')\n",
    "ag8B = ag8B[[\"HHID\", \"AGroup_ID\", \"a8bq1\", \"a8bq2\", \"a8bq3\", \"a8bq5_1\", \"a8bq6\", \"a8bq9\"]]\n",
    "ag8B.columns = [\"HHID\", \"AGroup_ID\", \"num_anim\", \"milked_months\", \"day_produc_per_animal\", \"milk_sold\", \"milk_convert\", \"year_earnings\"]\n",
    "#HHID\tHousehold ID\t\n",
    "#AGroup_ID\tAnimal Groups\n",
    "#a8bq1\tA8BQ1: How many of the following livestock types were milked in the last 12 mont\n",
    "#a8bq2\tA8BQ2: How many MONTHS on average, were [AGoup_ID] milked for?\n",
    "#a8bq3\tA8BQ3: What was the average [AGroup_ID] milk production per day per milking animal\n",
    "#a8bq5_1\tA8BQ5_1 How many litres of [AGroup_ID] liquid milk did you sell per day?\t\n",
    "#a8bq6\tA8BQ6: How much of the milk produced by [AGroup_ID] did you convert EACH DAY into dairy prod.\n",
    "#a8bq9\tA8BQ9: How much has this household earned by selling [AGroup_ID] milk AND DAIRY\n",
    "#if they claim they sold more than produced, input the produced amount as sold.\n",
    "ag8B.loc[ag8B.milk_sold>(ag8B.num_anim*ag8B.day_produc_per_animal), \"milk_sold\"] = ag8B.num_anim*ag8B.day_produc_per_animal\n",
    "ag8B[\"earnings_per_day\"] = ag8B[\"year_earnings\"]/ag8B[\"milked_months\"]/30\n",
    "ag8B[\"price_of_1l_milk\"] = ag8B[\"earnings_per_day\"]/(ag8B[\"milk_sold\"] + ag8B[\"milk_convert\"])\n",
    "ag8B[\"price_of_1l_milk\"]= ag8B[\"price_of_1l_milk\"].replace(0, np.nan)\n",
    "ag8B[\"price_of_1l_milk\"] = ag8B[\"price_of_1l_milk\"].mean() #fix the price of 1l of milk\n",
    "#print(ag8B[\"price_of_1l_milk\"].describe())\n",
    "ag8B[\"production_per_day\"] = ag8B[\"num_anim\"] * ag8B[\"day_produc_per_animal\"]\n",
    "ag8B[\"milk_income\"] = ag8B[\"price_of_1l_milk\"]*ag8B[\"production_per_day\"]*30*ag8B[\"milked_months\"]\n",
    "ag8B = ag8B[[\"HHID\", \"AGroup_ID\", \"milk_income\"]]\n",
    "ag8B = ag8B.groupby(by=\"HHID\").sum()\n",
    "ag8B= ag8B.replace(0, np.nan)\n",
    "ag8B[\"milk_income\"] = ag8B.loc[(ag8B.milk_income>ag8B.milk_income.quantile(q=0.02)) & (ag8B.milk_income<ag8B.milk_income.quantile(q=0.98)),\"milk_income\"]\n",
    "print(ag8B.describe())\n",
    "ag8B[\"HHID\"] = np.array(ag8B.index.values) \n",
    "\n",
    "## Livestock Outputs - eggs\n",
    "ag8C = pd.read_stata('AGSEC8C.dta')\n",
    "ag8C = ag8C[[\"HHID\", \"AGroup_ID\", \"a8cq2\", \"a8cq3\", \"a8cq5\"]]\n",
    "#a8cq2\tA8CQ2: How many[AGroup_ID] eggs did you produce in the last 3 months?\t\n",
    "#a8cq3\tA8CQ3: How many [AGroup_ID] eggs did you sell in the last 3 months?\t\t\n",
    "#a8cq5\tA8CQ5: How much has this household earned by selling [AGroup_ID] eggs in the pas\n",
    "ag8C.columns = [\"HHID\", \"AGroup_ID\", \"eggs_prod\", \"eggs_sold\", \"egg_earnings\"]\n",
    "ag8C[\"price_of_egg\"] = ag8C[\"egg_earnings\"]/ag8C[\"eggs_sold\"]\n",
    "ag8C[\"price_of_egg\"] = ag8C[\"price_of_egg\"].replace(0, np.nan)\n",
    "ag8C[\"price_of_egg\"] = ag8C[\"price_of_egg\"].mean() #fix the price of egg'\n",
    "ag8C[\"egg_income\"] = ag8C[\"price_of_egg\"]*ag8C[\"eggs_prod\"]\n",
    "ag8C = ag8C[[\"HHID\", \"AGroup_ID\", \"egg_income\"]]\n",
    "ag8C = ag8C.groupby(by=\"HHID\").sum()\n",
    "ag8C= ag8C.replace(0, np.nan)\n",
    "ag8C[\"egg_income\"] = ag8C.loc[(ag8C.egg_income>ag8C.egg_income.quantile(q=0.02)) & (ag8C.egg_income<ag8C.egg_income.quantile(q=0.98)),\"egg_income\"]\n",
    "print(ag8C.describe())\n",
    "ag8C[\"HHID\"] = np.array(ag8C.index.values) "
   ]
  },
  {
   "cell_type": "code",
   "execution_count": 15,
   "metadata": {},
   "outputs": [
    {
     "name": "stdout",
     "output_type": "stream",
     "text": [
      "       rent_tools_cost\n",
      "count           214.00\n",
      "mean          9,607.01\n",
      "std          13,024.85\n",
      "min             900.00\n",
      "25%           3,000.00\n",
      "50%           5,000.00\n",
      "75%          10,750.00\n",
      "max          80,000.00\n"
     ]
    }
   ],
   "source": [
    "#Machinery\n",
    "ag10 = pd.read_stata('AGSEC10.dta')\n",
    "ag10 = ag10[[\"HHID\", \"A10itemcod\", \"a10q8\"]]\n",
    "#a10q8\tA10Q8:How much did your household pay to rent or borrow [ITEM] during the last 1\n",
    "ag10.columns = [\"HHID\", \"itemcd\", \"rent_tools_cost\"]\n",
    "ag10 = ag10.groupby(by=\"HHID\").sum()\n",
    "ag10= ag10.replace(0, np.nan)\n",
    "ag10[\"rent_tools_cost\"] = ag10.loc[(ag10.rent_tools_cost>ag10.rent_tools_cost.quantile(q=0.02)) & (ag10.rent_tools_cost<ag10.rent_tools_cost.quantile(q=0.95)),\"rent_tools_cost\"]\n",
    "print(ag10.describe())\n",
    "ag10[\"HHID\"] = np.array(ag10.index.values) "
   ]
  },
  {
   "cell_type": "code",
   "execution_count": 16,
   "metadata": {},
   "outputs": [
    {
     "name": "stdout",
     "output_type": "stream",
     "text": [
      "count        2,488.00\n",
      "mean       229,508.30\n",
      "std      1,079,456.56\n",
      "min       -740,000.00\n",
      "25%         -1,500.00\n",
      "50%              0.00\n",
      "75%         60,094.90\n",
      "max     17,177,142.40\n",
      "Name: profit_ls, dtype: float64\n"
     ]
    },
    {
     "name": "stderr",
     "output_type": "stream",
     "text": [
      "C:\\Users\\adamw\\Anaconda3\\lib\\site-packages\\IPython\\core\\interactiveshell.py:2910: FutureWarning: 'HHID' is both an index level and a column label.\n",
      "Defaulting to column, but this will raise an ambiguity error in a future version\n",
      "  exec(code_obj, self.user_global_ns, self.user_ns)\n"
     ]
    }
   ],
   "source": [
    "#Merge livestock\n",
    "livestock = pd.merge(ag6a, ag6b, on=\"HHID\", how='outer')\n",
    "livestock = pd.merge(livestock, ag6c, on=\"HHID\", how='outer')\n",
    "livestock = pd.merge(livestock, ag7, on=\"HHID\", how='outer')\n",
    "livestock = pd.merge(livestock, ag8B, on=\"HHID\", how='outer')\n",
    "livestock = pd.merge(livestock, ag8C, on=\"HHID\", how='outer')\n",
    "livestock = pd.merge(livestock, ag10, on=\"HHID\", how='outer')\n",
    "#livestock[\"HHID\"] = pd.to_numeric(livestock[\"HHID\"])\n",
    "\n",
    "livestock[\"revenue\"] =livestock.loc[:,[\"lvstincome_big\",\"lvstincome_small\",\"lvstincome_poultry\",\"milk_income\",\"egg_income\"]].sum(axis=1) \n",
    "livestock[\"cost\"] = -livestock.loc[:,[\"lvstinput\",\"rent_tools_cost\"]].sum(axis=1) \n",
    "livestock[\"profit_ls\"] = livestock.loc[:,[\"revenue\",\"cost\"]].sum(axis=1)\n",
    "\n",
    "print(livestock[\"profit_ls\"].describe())\n",
    "\n",
    "ls = livestock[[\"HHID\",\"profit_ls\"]]\n",
    "ls = ls.dropna()"
   ]
  },
  {
   "cell_type": "code",
   "execution_count": 17,
   "metadata": {},
   "outputs": [
    {
     "name": "stderr",
     "output_type": "stream",
     "text": [
      "C:\\Users\\adamw\\Anaconda3\\lib\\site-packages\\IPython\\core\\interactiveshell.py:2910: FutureWarning: 'HHID' is both an index level and a column label.\n",
      "Defaulting to column, but this will raise an ambiguity error in a future version\n",
      "  exec(code_obj, self.user_global_ns, self.user_ns)\n"
     ]
    }
   ],
   "source": [
    "#self consumed \n",
    "\n",
    "c2 = pd.read_stata('GSEC15b.dta', convert_categoricals=False)\n",
    "c2 = c2[[\"HHID\",\"itmcd\",\"h15bq4\",\"h15bq5\",\"h15bq6\",\"h15bq7\",\"h15bq8\",\"h15bq9\",\"h15bq10\",\"h15bq11\",\"h15bq12\",\"h15bq13\"]]\n",
    "c2.columns = [\"HHID\",\"code\", \"purch_home_quant\",\"purch_home_value\",\"purch_away_quant\",\"purch_away_value\",\"own_quant\",\"own_value\",\"gift_quant\",\"gift_value\", \"m_p\", \"gate_p\"]\n",
    "pricescons = c2.groupby(by=\"code\")[[\"m_p\", \"gate_p\"]].median()\n",
    "#pricescons.to_csv(\"pricesfood10.csv\")\n",
    "\n",
    "\n",
    "## To get own-produced livestock consumption (and use it from the income side)\n",
    "animal_c = c2.loc[c2[\"code\"].isin([117,118,119,120,121,122,123,124,125]),[\"HHID\",\"own_value\"]]\n",
    "animal_c = animal_c.groupby(by=\"HHID\").sum()*52\n",
    "animal_c[\"HHID\"] = np.array(animal_c.index.values)\n",
    "\n",
    "newid = []\n",
    "for index, row in animal_c.iterrows() :\n",
    "    newid.append(int(row[\"HHID\"].replace(\"H\", '').replace(\"-\", '')))\n",
    "animal_c[\"HHID\"] = newid\n",
    "\n",
    "\n",
    "livestock = pd.merge(livestock, animal_c, on=\"HHID\", how=\"outer\")\n",
    "livestock.rename(columns={'own_value':'animal_c'}, inplace=True)\n",
    "livestock[\"profit_ls\"] = livestock.loc[:,[\"profit_ls\",\"animal_c\"]].sum(axis=1)"
   ]
  },
  {
   "cell_type": "code",
   "execution_count": 18,
   "metadata": {},
   "outputs": [
    {
     "name": "stderr",
     "output_type": "stream",
     "text": [
      "C:\\Users\\adamw\\Anaconda3\\lib\\site-packages\\IPython\\core\\interactiveshell.py:2910: FutureWarning: 'HHID' is both an index level and a column label.\n",
      "Defaulting to column, but this will raise an ambiguity error in a future version\n",
      "  exec(code_obj, self.user_global_ns, self.user_ns)\n",
      "C:\\Users\\adamw\\Anaconda3\\lib\\site-packages\\ipykernel_launcher.py:23: SettingWithCopyWarning: \n",
      "A value is trying to be set on a copy of a slice from a DataFrame.\n",
      "Try using .loc[row_indexer,col_indexer] = value instead\n",
      "\n",
      "See the caveats in the documentation: http://pandas.pydata.org/pandas-docs/stable/indexing.html#indexing-view-versus-copy\n"
     ]
    },
    {
     "name": "stdout",
     "output_type": "stream",
     "text": [
      "                HHID  Total_total_income\n",
      "count       2,231.00            2,231.00\n",
      "mean  247,258,778.64        1,536,085.71\n",
      "std   119,627,284.94        2,660,246.65\n",
      "min     1,020,401.00         -218,600.00\n",
      "25%   150,555,401.00          326,745.83\n",
      "50%   254,030,402.00          773,000.00\n",
      "75%   359,025,401.00        1,664,337.96\n",
      "max   430,100,401.00       29,278,000.00\n"
     ]
    }
   ],
   "source": [
    "# Merge all agriculture\n",
    "agA = agA.groupby(by=\"HHID\").sum()\n",
    "agA[\"HHID\"] = np.array(agA.index.values) \n",
    "agB = agB.groupby(by=\"HHID\").sum()\n",
    "agB[\"HHID\"] = np.array(agB.index.values)\n",
    "\n",
    "farm = pd.merge(agA, agB, on=\"HHID\", how=\"outer\")\n",
    "farm = pd.merge(farm, ls, on=\"HHID\", how=\"outer\")\n",
    "\n",
    "farm[\"total_farm_income\"] = farm[\"profit_agra\"]+farm[\"profit_agrb\"]+farm[\"profit_ls\"]\n",
    "farm = farm[[\"HHID\", \"total_farm_income\"]]\n",
    "farm = farm.dropna()\n",
    "inc_agr = farm\n",
    "summaryfarm = farm.describe()\n",
    "#print(summaryfarm)\n",
    "farm_arr = np.array(farm[\"total_farm_income\"])\n",
    "#plt.hist(farm_arr[0:100], 40)\n",
    "\n",
    "\n",
    "newid = []\n",
    "for index, row in inc_lab.iterrows() :\n",
    "    newid.append(int(row[\"HHID\"].replace(\"H\", '').replace(\"-\", '')))\n",
    "inc_lab[\"HHID\"] = newid\n",
    "\n",
    "newid = []\n",
    "for index, row in basic2.iterrows() :\n",
    "    newid.append(int(row[\"HHID\"].replace(\"H\", '').replace(\"-\", '')))\n",
    "basic2[\"HHID\"] = newid\n",
    "\n",
    "\n",
    "#### MERGE LABOR INCOME AND FARM INCOME\n",
    "inc = pd.merge(inc_lab, inc_agr, on=\"HHID\", how=\"outer\")\n",
    "\n",
    "inc[\"Total_total_income\"] = inc.loc[:,[\"total_labor_income\", \"total_farm_income\"]].sum(axis=1)\n",
    "inc = inc[[\"HHID\",\"Total_total_income\"]]\n",
    "#inc.columns = [\"Total_total_income\"]\n",
    "#remove outliers\n",
    "inc.Total_total_income = inc.loc[(inc.Total_total_income>inc.Total_total_income.quantile(q=0.002)) & (inc.Total_total_income<inc.Total_total_income.quantile(q=0.998)),\"Total_total_income\"]\n",
    "inc.Total_total_income = inc.Total_total_income.replace(0, np.nan)\n",
    "inc= inc.dropna()\n",
    "print(inc.describe())"
   ]
  },
  {
   "cell_type": "code",
   "execution_count": 19,
   "metadata": {},
   "outputs": [],
   "source": [
    "# Get data at individual level\n",
    "personal = pd.read_stata(\"GSEC2.dta\")\n",
    "personal = personal[[\"HHID\",\"PID\",\"h2q3\",\"h2q4\",\"h2q8\"]]\n",
    "#HHID\tHousehold Unique Identifier in 2013/14\n",
    "#PID\tPID\n",
    "#h2q3\tSEX\n",
    "#h2q4\tWhat is the relationship of [NAME] to the head of the household?\n",
    "#h2q8\tAge in Years?\n",
    "newid = []\n",
    "for index, row in personal.iterrows() :\n",
    "    newid.append(int(row[\"HHID\"].replace(\"H\", '').replace(\"-\", '')))\n",
    "personal[\"HHID\"] = newid\n",
    "personal.columns = [[\"HHID\", \"PID\", \"sex\", \"relation\", \"age\"]]\n",
    "All = pd.merge(inc, basic2, on=\"HHID\", how=\"outer\")\n",
    "personal[\"ishead\"] = (personal.relation==\"Head\")*1\n",
    "personal[\"head_age\"] = np.array(personal.ishead) * np.array(personal.age)\n",
    "personal2 = personal[[\"HHID\", \"head_age\"]]\n",
    "personal_arr = np.array(personal2)\n",
    "\n",
    "a = []\n",
    "for i in range(len(personal_arr)):\n",
    "    if personal_arr[i][1]!=0 and personal_arr[i][1]<90:\n",
    "        a.append(personal_arr[i])\n",
    "personal_arr = a\n",
    "\n",
    "personal = pd.DataFrame(data = personal_arr, columns=[\"HHID\", \"head_age\"])\n",
    "All = pd.merge(personal, All, on=\"HHID\", how=\"outer\")\n",
    "All[\"Total_total_income_infl\"] = All[\"Total_total_income\"].fillna(0)*All[\"infl_idx\"] \n",
    "All[\"Total_total_income_dollars\"] = pd.to_numeric(All[\"Total_total_income_infl\"]/dollars)\n",
    "All[\"Total_total_income_dollars\"]=All[\"Total_total_income_dollars\"].replace(0,np.NaN)"
   ]
  },
  {
   "cell_type": "code",
   "execution_count": 20,
   "metadata": {},
   "outputs": [],
   "source": [
    "urbani = np.array(All.loc[All.urban==\"Urban\", \"Total_total_income_dollars\"])\n",
    "rurali = np.array(All.loc[All.urban==\"Rural\", \"Total_total_income_dollars\"])"
   ]
  },
  {
   "cell_type": "code",
   "execution_count": 45,
   "metadata": {},
   "outputs": [
    {
     "name": "stdout",
     "output_type": "stream",
     "text": [
      "Urban average income:  1022.68\n",
      "Rural average income:  462.84\n"
     ]
    }
   ],
   "source": [
    "print(\"Urban average income: \", round(np.nanmean(urbani),2))\n",
    "print(\"Rural average income: \", round(np.nanmean(rurali),2))"
   ]
  },
  {
   "cell_type": "code",
   "execution_count": 35,
   "metadata": {},
   "outputs": [],
   "source": [
    "urbani = urbani[~np.isnan(urbani)]"
   ]
  },
  {
   "cell_type": "code",
   "execution_count": 36,
   "metadata": {},
   "outputs": [],
   "source": [
    "rurali = rurali[~np.isnan(rurali)]"
   ]
  },
  {
   "cell_type": "code",
   "execution_count": 30,
   "metadata": {
    "scrolled": true
   },
   "outputs": [
    {
     "data": {
      "image/png": "[encoded data removed]",
      "text/plain": [
       "<Figure size 432x288 with 2 Axes>"
      ]
     },
     "metadata": {},
     "output_type": "display_data"
    }
   ],
   "source": [
    "fig, ax1 = plt.subplots()\n",
    "colors = ['b','g']\n",
    "ax2 = ax1.twinx()\n",
    "ax1.hist([rurali, urbani], bins=20, color=colors)\n",
    "n, bins, patches = ax1.hist([rurali,urbani], bins=20)\n",
    "ax1.cla() #clear the axis\n",
    "\n",
    "#plots the histogram data\n",
    "width = (bins[1] - bins[0]) * 0.4\n",
    "bins_shifted = bins + width\n",
    "ax1.bar(bins[:-1], n[0], width, align='edge', color=colors[0])\n",
    "ax2.bar(bins_shifted[:-1], n[1], width, align='edge', color=colors[1])\n",
    "\n",
    "#finishes the plot\n",
    "ax1.set_ylabel(\"Rural income\", color=colors[0])\n",
    "ax2.set_ylabel(\"Urban income\", color=colors[1])\n",
    "ax1.tick_params('y', colors=colors[0])\n",
    "ax2.tick_params('y', colors=colors[1])\n",
    "plt.tight_layout()\n",
    "plt.show()"
   ]
  },
  {
   "cell_type": "markdown",
   "metadata": {},
   "source": [
    "Majority of households are concentrated in the range till approximately $\\$800$. Overall we can see that higher income is mainly typical for urban houselholds. "
   ]
  },
  {
   "cell_type": "code",
   "execution_count": 38,
   "metadata": {},
   "outputs": [
    {
     "name": "stderr",
     "output_type": "stream",
     "text": [
      "C:\\Users\\adamw\\Anaconda3\\lib\\site-packages\\ipykernel_launcher.py:1: RuntimeWarning: invalid value encountered in log\n",
      "  \"\"\"Entry point for launching an IPython kernel.\n",
      "C:\\Users\\adamw\\Anaconda3\\lib\\site-packages\\ipykernel_launcher.py:2: RuntimeWarning: invalid value encountered in log\n",
      "  \n"
     ]
    }
   ],
   "source": [
    "urbani_log =  np.log(urbani)\n",
    "rurali_log =  np.log(rurali)"
   ]
  },
  {
   "cell_type": "code",
   "execution_count": 43,
   "metadata": {},
   "outputs": [
    {
     "name": "stdout",
     "output_type": "stream",
     "text": [
      "Variance of income in urban area:  2.78\n",
      "Variance of income in urban area:  1.49\n"
     ]
    }
   ],
   "source": [
    "print(\"Variance of income in urban area: \", round(np.var(urbani_log[~np.isnan(urbani_log)]),2))\n",
    "print(\"Variance of income in urban area: \", round(np.var(rurali_log[~np.isnan(rurali_log)]),2))"
   ]
  },
  {
   "cell_type": "code",
   "execution_count": 28,
   "metadata": {},
   "outputs": [
    {
     "data": {
      "text/plain": [
       "[(0, 1500)]"
      ]
     },
     "execution_count": 28,
     "metadata": {},
     "output_type": "execute_result"
    },
    {
     "data": {
      "image/png": "[encoded data removed]",
      "text/plain": [
       "<Figure size 432x288 with 1 Axes>"
      ]
     },
     "metadata": {},
     "output_type": "display_data"
    }
   ],
   "source": [
    "g=sns.lineplot(x=All.head_age, y=All.Total_total_income_dollars, data=All)\n",
    "g.set(ylim=(0, 1500))"
   ]
  },
  {
   "cell_type": "markdown",
   "metadata": {},
   "source": [
    "Total income distribution follows a typical lifecycle behaviour, with a pick around 50 years.\n",
    "For Malawi research we can observe simialr dynamics."
   ]
  },
  {
   "cell_type": "markdown",
   "metadata": {},
   "source": [
    "## 1.2. Consumption"
   ]
  },
  {
   "cell_type": "code",
   "execution_count": 46,
   "metadata": {},
   "outputs": [
    {
     "name": "stderr",
     "output_type": "stream",
     "text": [
      "C:\\Users\\adamw\\Anaconda3\\lib\\site-packages\\pandas\\core\\indexing.py:1472: FutureWarning: \n",
      "Passing list-likes to .loc or [] with any missing label will raise\n",
      "KeyError in the future, you can use .reindex() as an alternative.\n",
      "\n",
      "See the documentation here:\n",
      "https://pandas.pydata.org/pandas-docs/stable/indexing.html#deprecate-loc-reindex-listlike\n",
      "  return self._getitem_tuple(key)\n"
     ]
    }
   ],
   "source": [
    "# food consumption\n",
    "c2 = pd.read_stata('GSEC15B.dta', convert_categoricals=False)\n",
    "c2 = c2[[\"HHID\",\"itmcd\",\"h15bq4\",\"h15bq5\",\"h15bq6\",\"h15bq7\",\"h15bq8\",\"h15bq9\",\"h15bq10\",\"h15bq11\",\"h15bq12\",\"h15bq13\"]]\n",
    "c2.columns = [\"HHID\",\"code\", \"purch_home_quant\",\"purch_home_value\",\"purch_away_quant\",\"purch_away_value\",\"own_quant\",\"own_value\",\"gift_quant\",\"gift_value\", \"m_p\", \"gate_p\"]\n",
    "pricescons = c2.groupby(by=\"code\")[[\"m_p\", \"gate_p\"]].median()\n",
    "pricescons.to_csv(\"pricesfood.csv\")\n",
    "\n",
    "#Aggregate across items\n",
    "c2 = c2.groupby(by=\"HHID\")[[\"purch_home_quant\",\"purch_home_value\",\"purch_away_quant\",\"purch_away_value\",\"own_quant\",\"own_value\",\"gift_quant\",\"gift_value\"]].sum()\n",
    "c2 = c2[[\"purch_home_value\", \"purch_away_value\", \"own_value\",\"gift_value\"]]\n",
    "c2[\"cfood\"] = c2[[\"purch_home_value\", \"purch_away_value\", \"own_value\",\"gift_value\"]].sum(axis=1)\n",
    "c2.rename(columns={'total_value':'cfood'}, inplace=True)\n",
    "c2.rename(columns={'gift_value':'cfood_gift'}, inplace=True)\n",
    "c2.rename(columns={'own_value':'cfood_own'}, inplace=True)\n",
    "\n",
    "c2[\"cfood_purch\"] = c2.loc[:,[\"purch_home_value\",\"purch_away_value\"]].sum(axis=1)\n",
    "c2[\"cfood_nogift\"] = c2.loc[:,[\"cfood_purch\",\"own_value\"]].sum(axis=1)\n",
    "\n",
    "# Food consumption at year level\n",
    "c2 = c2[[\"cfood\", \"cfood_nogift\", \"cfood_own\", \"cfood_purch\", \"cfood_gift\"]]*52\n",
    "# Cfood is total value. cfood_nogift is total value minus gifts.\n",
    "c2.reset_index(inplace=True)\n",
    "\n",
    "data = c2\n",
    "\n",
    "#%% NONFOOD NONDURABLE CONSUMPTION\n",
    "\n",
    "c3 = pd.read_stata('GSEC15C.dta', convert_categoricals=False)\n",
    "c3 = c3.drop(columns=['h15cq2', 'wgt_X'])\n",
    "c3.columns = [\"HHID\",\"code\",\"unit\",\"purch_quant\",\"purch_value\",\"own_quant\",\"own_value\",\"gift_quant\",\"gift_value\", \"m_p\"]\n",
    "\n",
    "#Aggregate across items\n",
    "c3 = c3.groupby(by=\"HHID\")[[\"purch_quant\",\"purch_value\",\"own_quant\",\"own_value\",\"gift_quant\",\"gift_value\"]].sum()\n",
    "\n",
    "c3['cnodur'] = c3.fillna(0)[\"purch_value\"] + c3.fillna(0)[\"own_value\"] + c3.fillna(0)[\"gift_value\"]\n",
    "c3[\"cnodur_nogift\"] = c3.loc[:,[\"purch_value\",\"own_value\"]].sum(axis=1)\n",
    "c3.rename(columns={'gift_value':'cnodur_gift'}, inplace=True)\n",
    "c3.rename(columns={'own_value':'cnodur_own'}, inplace=True)\n",
    "c3.rename(columns={'purch_value':'cnodur_purch'}, inplace=True)\n",
    "\n",
    "# non food non durable consumption at year level\n",
    "c3 = c3[[\"cnodur\", \"cnodur_nogift\", \"cnodur_own\", \"cnodur_purch\", \"cnodur_gift\"]]*12\n",
    "c3.reset_index(inplace=True)\n",
    "\n",
    "data = data.merge(c3, on=\"HHID\", how=\"outer\")\n",
    "\n",
    "#%% DURABLE CONSUMPTION\n",
    "c4 = pd.read_stata('GSEC15D.dta', convert_categoricals=False)\n",
    "c4 = c4[[\"HHID\",\"h15dq2\",\"h15dq3\",\"h15dq4\",\"h15dq5\"]]\n",
    "c4.columns = [\"HHID\",\"code\",\"unit\",\"purch_quant\",\"purch_value\"]\n",
    "\n",
    "c4 = c4.groupby(by=\"HHID\")[[\"purch_value\"]].sum()\n",
    "\n",
    "# Durable consumption only asked for purchases\n",
    "c4.rename(columns={'purch_value':'cdur'}, inplace=True)\n",
    "c4.reset_index(inplace=True)\n",
    "\n",
    "data = data.merge(c4, on=\"HHID\", how=\"outer\")\n",
    "\n",
    "#####\n",
    "# Urban/ Rural\n",
    "u = pd.read_stata('AGSEC1.dta', convert_categoricals=False)\n",
    "u = u[[\"hh\",\"urban\"]]\n",
    "u.columns = [\"HHID\",\"urban\"]\n",
    "\n",
    "data =data.merge(u, on=\"HHID\")\n",
    "### \n",
    "\n",
    "#%% Create join variables\n",
    "data[\"ctotal\"] = data.loc[:,[\"cfood\",\"cnodur\"]].fillna(0).sum(axis=1)\n",
    "data[\"ctotal_dur\"] = data.loc[:,[\"cfood\",\"cnodur\",\"cdur\"]].fillna(0).sum(axis=1)\n",
    "\n",
    "#data[\"ctotal_gift\"] = data.loc[:,[\"cfood_gift\",\"cnodur_gift\"]].sum(axis=1)\n",
    "#data[\"ctotal_dur_gift\"] = data.loc[:,[\"ctotal_gift\",\"cdur_gift\"]].sum(axis=1)\n",
    "\n",
    "data[\"ctotal_nogift\"] = data.loc[:,[\"cfood_nogift\",\"cnodur_nogift\"]].fillna(0).sum(axis=1)\n",
    "data[\"ctotal_dur_nogift\"] = data.loc[:,[\"cfood_nogift\",\"cnodur_nogift\"]].fillna(0).sum(axis=1)\n",
    "\n",
    "data[\"ctotal_own\"] = data.loc[:,[\"cfood_own\",\"cnodur_own\"]].fillna(0).sum(axis=1)\n",
    "data[\"ctotal_dur_own\"] = data.loc[:,[\"ctotal_own\",\"cdur_own\"]].fillna(0).sum(axis=1)\n",
    "\n",
    "# and total over all of them\n",
    "data[\"all\"] = data.loc[:,[\"ctotal_dur\", \"ctotal_dur_nogift\", \"ctotal_dur_own\"]].fillna(0).sum(axis=1)\n",
    "\n",
    "cdata_short = data[[\"HHID\",\"all\",\"ctotal\",\"ctotal_dur\",\"ctotal_nogift\",\"ctotal_dur_nogift\",\"ctotal_own\",\"ctotal_dur_own\",\"cfood\",\"cnodur\",\"cdur\"]]\n",
    "sumc =cdata_short.describe()/dollars "
   ]
  },
  {
   "cell_type": "code",
   "execution_count": 47,
   "metadata": {},
   "outputs": [],
   "source": [
    "newid = []\n",
    "for index, row in data.iterrows() :\n",
    "    newid.append(int(row[\"HHID\"].replace(\"H\", '').replace(\"-\", '')))\n",
    "data[\"HHID\"] = newid"
   ]
  },
  {
   "cell_type": "code",
   "execution_count": 48,
   "metadata": {},
   "outputs": [],
   "source": [
    "All = pd.merge(All, data[[\"HHID\",\"all\",\"ctotal\",\"ctotal_dur\",\"ctotal_nogift\",\"ctotal_dur_nogift\",\"ctotal_own\",\"ctotal_dur_own\",\"cfood\",\"cnodur\",\"cdur\"]], on=\"HHID\", how=\"outer\")"
   ]
  },
  {
   "cell_type": "code",
   "execution_count": 49,
   "metadata": {},
   "outputs": [],
   "source": [
    "#remove outliers\n",
    "All[\"all\"]= All.loc[(All[\"all\"]>All[\"all\"].quantile(q=0.05)) & (All[\"all\"]<All[\"all\"].quantile(q=0.80)),\"all\"]\n",
    "\n",
    "#convert to dollars\n",
    "All[\"all\"] = All[\"all\"]/dollars"
   ]
  },
  {
   "cell_type": "code",
   "execution_count": 50,
   "metadata": {},
   "outputs": [],
   "source": [
    "urbanc = np.array(All.loc[All.urban==\"Urban\", \"all\"].dropna())\n",
    "ruralc = np.array(All.loc[All.urban==\"Rural\", \"all\"].dropna())"
   ]
  },
  {
   "cell_type": "code",
   "execution_count": 54,
   "metadata": {},
   "outputs": [],
   "source": [
    "totalc = All[\"all\"].dropna()\n"
   ]
  },
  {
   "cell_type": "code",
   "execution_count": 57,
   "metadata": {},
   "outputs": [
    {
     "name": "stdout",
     "output_type": "stream",
     "text": [
      "Consumption average:  2390.45\n",
      "Consumption average urban area:  2693.06\n",
      "Consumption average rural area:  2349.92\n"
     ]
    }
   ],
   "source": [
    "print(\"Consumption average: \", round(totalc.mean(),2))\n",
    "print(\"Consumption average urban area: \", round(urbanc.mean(),2))\n",
    "print(\"Consumption average rural area: \", round(ruralc.mean(),2))"
   ]
  },
  {
   "cell_type": "code",
   "execution_count": 58,
   "metadata": {},
   "outputs": [
    {
     "data": {
      "image/png": "[encoded data removed]",
      "text/plain": [
       "<Figure size 432x288 with 2 Axes>"
      ]
     },
     "metadata": {},
     "output_type": "display_data"
    }
   ],
   "source": [
    "fig, ax1 = plt.subplots()\n",
    "colors = ['b','g']\n",
    "ax2 = ax1.twinx()\n",
    "ax1.hist([ruralc, urbanc], bins=15, color=colors)\n",
    "n, bins, patches = ax1.hist([ruralc,urbanc], bins=15)\n",
    "ax1.cla() #clear the axis\n",
    "\n",
    "#plots the histogram data\n",
    "width = (bins[1] - bins[0]) * 0.4\n",
    "bins_shifted = bins + width\n",
    "ax1.bar(bins[:-1], n[0], width, align='edge', color=colors[0])\n",
    "ax2.bar(bins_shifted[:-1], n[1], width, align='edge', color=colors[1])\n",
    "\n",
    "#finishes the plot\n",
    "ax1.set_ylabel(\"Rural consumption\", color=colors[0])\n",
    "ax2.set_ylabel(\"Urban consumption\", color=colors[1])\n",
    "ax1.tick_params('y', colors=colors[0])\n",
    "ax2.tick_params('y', colors=colors[1])\n",
    "#plt.xlim(0,500000)\n",
    "plt.tight_layout()\n",
    "plt.show()"
   ]
  },
  {
   "cell_type": "markdown",
   "metadata": {},
   "source": [
    "The histogram above demonstrates distribution of households by consumption in rural and urban areas: consumption in rural areas in general is lower compared to urban areas. There are more households in rural areas with consumption lower than approximately $\\$2500$,above that value urban households prevail over the rural. Espicially large is the gap in number of households for the highest values of consumption the interval of $\\$4000-5000$.\n",
    "\n",
    "In comparison accroding to the data reported at Micro Data Survey in 2010, mean consumption per household in Uganda accounted for $\\$2366$. And in our case for the survey od 2013-2014 mean od total consumption per households is $\\$2390.45$, which is slightly higher than in 2010. \n",
    "\n",
    "Mean consumption per household in urban areas is $\\$2693.06$, and in rural it is less $\\$2349.92$.\n",
    "\n",
    "Compared to other poor countries, like Malawi and Tanzania, consumption in Uganda is almost 1.5 times higher."
   ]
  },
  {
   "cell_type": "code",
   "execution_count": 38,
   "metadata": {},
   "outputs": [
    {
     "data": {
      "text/plain": [
       "[(500, 3500)]"
      ]
     },
     "execution_count": 38,
     "metadata": {},
     "output_type": "execute_result"
    },
    {
     "data": {
      "image/png": "[encoded data removed]",
      "text/plain": [
       "<Figure size 432x288 with 1 Axes>"
      ]
     },
     "metadata": {},
     "output_type": "display_data"
    }
   ],
   "source": [
    "con_plot=sns.lineplot(x=All.head_age, y=All[\"all\"], data=All)\n",
    "con_plot.set(xlim=(15, 85))\n",
    "con_plot.set(ylim=(500, 3500))"
   ]
  },
  {
   "cell_type": "markdown",
   "metadata": {},
   "source": [
    "Total consumption distribution follows a typical lifecycle behaviour."
   ]
  },
  {
   "cell_type": "code",
   "execution_count": 60,
   "metadata": {},
   "outputs": [],
   "source": [
    "urbanc_log =  np.log(urbanc)\n",
    "ruralc_log =  np.log(ruralc)"
   ]
  },
  {
   "cell_type": "code",
   "execution_count": 63,
   "metadata": {},
   "outputs": [
    {
     "name": "stdout",
     "output_type": "stream",
     "text": [
      "Consumption variance urban:  0.15\n",
      "Consumption variance rural:  0.16\n"
     ]
    }
   ],
   "source": [
    "print(\"Consumption variance urban: \", round(np.var(urbanc_log[~np.isnan(urbanc_log)]), 2))\n",
    "print(\"Consumption variance rural: \", round(np.var(ruralc_log[~np.isnan(ruralc_log)]),2))"
   ]
  },
  {
   "cell_type": "markdown",
   "metadata": {},
   "source": [
    "## 1.3. Wealth"
   ]
  },
  {
   "cell_type": "code",
   "execution_count": 64,
   "metadata": {},
   "outputs": [],
   "source": [
    "w = pd.read_stata('GSEC14A.dta', convert_categoricals=False)"
   ]
  },
  {
   "cell_type": "code",
   "execution_count": 65,
   "metadata": {},
   "outputs": [],
   "source": [
    "w = w[[\"HHID\",\"h14q2\",\"h14q5\"]]\n",
    "w.columns = [\"HHID\",\"asset\",\"wealth_value\"]\n",
    "newid = []\n",
    "for index, row in w.iterrows() :\n",
    "    newid.append(int(row[\"HHID\"].replace(\"H\", '').replace(\"-\", '')))\n",
    "w[\"HHID\"] = newid\n",
    "w = w.groupby(by=\"HHID\")[[\"wealth_value\"]].sum()\n",
    "\n",
    "All = pd.merge(All, w, on=\"HHID\", how=\"outer\")"
   ]
  },
  {
   "cell_type": "code",
   "execution_count": 66,
   "metadata": {},
   "outputs": [],
   "source": [
    "#remove outliers\n",
    "All[\"wealth_value\"]= All.loc[(All[\"wealth_value\"]>All[\"wealth_value\"].quantile(q=0.1)) & (All[\"wealth_value\"]<All[\"wealth_value\"].quantile(q=0.90)),\"wealth_value\"]\n",
    "\n",
    "#convert to dollars\n",
    "All[\"wealth_value\"] = All[\"wealth_value\"]/dollars"
   ]
  },
  {
   "cell_type": "code",
   "execution_count": 67,
   "metadata": {},
   "outputs": [
    {
     "data": {
      "image/png": "[encoded data removed]",
      "text/plain": [
       "<Figure size 432x288 with 2 Axes>"
      ]
     },
     "metadata": {},
     "output_type": "display_data"
    }
   ],
   "source": [
    "urbanw = np.array(All.loc[All.urban==\"Urban\", \"wealth_value\"].dropna())\n",
    "ruralw = np.array(All.loc[All.urban==\"Rural\", \"wealth_value\"].dropna())\n",
    "\n",
    "fig, ax1 = plt.subplots()\n",
    "colors = ['b','g']\n",
    "ax2 = ax1.twinx()\n",
    "ax1.hist([ruralw, urbanw], bins=15, color=colors)\n",
    "n, bins, patches = ax1.hist([ruralw,urbanw], bins=15)\n",
    "ax1.cla() #clear the axis\n",
    "\n",
    "#plots the histogram data\n",
    "width = (bins[1] - bins[0]) * 0.4\n",
    "bins_shifted = bins + width\n",
    "ax1.bar(bins[:-1], n[0], width, align='edge', color=colors[0])\n",
    "ax2.bar(bins_shifted[:-1], n[1], width, align='edge', color=colors[1])\n",
    "\n",
    "#finishes the plot\n",
    "ax1.set_ylabel(\"Rural wealth\", color=colors[0])\n",
    "ax2.set_ylabel(\"Urban wealth\", color=colors[1])\n",
    "ax1.tick_params('y', colors=colors[0])\n",
    "ax2.tick_params('y', colors=colors[1])\n",
    "#plt.xlim(0,500000)\n",
    "plt.tight_layout()\n",
    "plt.show()"
   ]
  },
  {
   "cell_type": "markdown",
   "metadata": {},
   "source": [
    "Mean of total wealth per household accounts for $\\$816.28$.\n",
    "Distribution of wealth across urban and rural areas follows similar distribution, mean rural wealth value is much lower than in urban areas ($\\$792.89$ and $\\$989.09$ respectively). Major part of households is distributed in the range of wealth below $\\$500$ per household."
   ]
  },
  {
   "cell_type": "code",
   "execution_count": 69,
   "metadata": {},
   "outputs": [],
   "source": [
    "totalw = All[\"wealth_value\"].dropna()"
   ]
  },
  {
   "cell_type": "code",
   "execution_count": 70,
   "metadata": {},
   "outputs": [
    {
     "name": "stdout",
     "output_type": "stream",
     "text": [
      "Wealth average:  1123.78\n",
      "Walth average urban:  1444.16\n",
      "Wealth average rural:  1031.48\n"
     ]
    }
   ],
   "source": [
    "print(\"Wealth average: \", round(totalw.mean(),2))\n",
    "print(\"Walth average urban: \", round(urbanw.mean(),2))\n",
    "print(\"Wealth average rural: \", round(ruralw.mean(),2))"
   ]
  },
  {
   "cell_type": "code",
   "execution_count": 49,
   "metadata": {},
   "outputs": [
    {
     "data": {
      "text/plain": [
       "[(0, 3000)]"
      ]
     },
     "execution_count": 49,
     "metadata": {},
     "output_type": "execute_result"
    },
    {
     "data": {
      "image/png": "[encoded data removed]",
      "text/plain": [
       "<Figure size 432x288 with 1 Axes>"
      ]
     },
     "metadata": {},
     "output_type": "display_data"
    }
   ],
   "source": [
    "w_plot=sns.lineplot(x=All.head_age, y=All[\"wealth_value\"], data=All)\n",
    "w_plot.set(xlim=(20, 85))\n",
    "w_plot.set(ylim=(0, 3000))\n",
    "#w_plot.title=('Wealth over lifecycle')"
   ]
  },
  {
   "cell_type": "markdown",
   "metadata": {},
   "source": [
    "Wealth over the lifecycle is slightly shifted to the right, compared to distributiob of consumption and income over the lifecycle. "
   ]
  },
  {
   "cell_type": "code",
   "execution_count": 72,
   "metadata": {},
   "outputs": [],
   "source": [
    "urbanw_log =  np.log(urbanw)\n",
    "ruralw_log =  np.log(ruralw)"
   ]
  },
  {
   "cell_type": "code",
   "execution_count": 73,
   "metadata": {},
   "outputs": [
    {
     "name": "stdout",
     "output_type": "stream",
     "text": [
      "Wealth urban variance:  1.74\n",
      "Wealth rural variance:  1.41\n"
     ]
    }
   ],
   "source": [
    "print(\"Wealth urban variance: \", round(np.var(urbanw_log[~np.isnan(urbanw_log)]),2))\n",
    "print(\"Wealth rural variance: \", round(np.var(ruralw_log[~np.isnan(ruralw_log)]),2))"
   ]
  },
  {
   "cell_type": "markdown",
   "metadata": {},
   "source": [
    "# 2. Labor Supply"
   ]
  },
  {
   "cell_type": "code",
   "execution_count": 53,
   "metadata": {},
   "outputs": [],
   "source": [
    "# gender\n",
    "s = pd.read_stata('GSEC2.dta', convert_categoricals=False)\n",
    "s = s[[\"PID\", \"h2q3\", \"h2q8\"]]\n",
    "#h2q8\tAge in Years?\n",
    "s.columns = [\"PID\",\"sex\", \"age\"]\n",
    "\n",
    "# education\n",
    "educ = pd.read_stata('GSEC4.dta', convert_categoricals=False)\n",
    "educ = educ[[\"PID\", \"h4q7\"]]\n",
    "educ.columns = [\"PID\",\"education\"]\n",
    "\n",
    "#less than primary school completed =1 ... <7 years\n",
    "# primary school completed =2 ... 7< .. <13 years\n",
    "# secondary school completed or higher =3 ... >= 13\n",
    "\n",
    "educ.loc[(educ['education'] < 0), 'ed'] = 1\n",
    "educ.loc[(educ['education'] >= 7) & (educ['education'] < 13), 'ed'] = 2\n",
    "educ.loc[(educ['education'] >= 13), 'ed'] = 3\n",
    "\n",
    "# hours worked per day\n",
    "h = pd.read_stata('GSEC8_1.dta', convert_categoricals=False)\n",
    "h = h[[\"HHID\", \"PID\",\"h8q36a\", \"h8q36b\", \"h8q36c\", \"h8q36d\", \"h8q36e\", \"h8q36f\", \"h8q36g\", \"h8q43\"]]\n",
    "\n",
    "h[\"h_worked_day\"] = (h.fillna(0)[\"h8q36a\"] + h.fillna(0)[\"h8q36b\"] + h.fillna(0)[\"h8q36c\"] + h.fillna(0)[\"h8q36d\"] + h.fillna(0)[\"h8q36e\"] + h.fillna(0)[\"h8q36f\"] + h.fillna(0)[\"h8q36g\"])/7 + h.fillna(0)[\"h8q43\"]/7"
   ]
  },
  {
   "cell_type": "code",
   "execution_count": 54,
   "metadata": {
    "scrolled": true
   },
   "outputs": [],
   "source": [
    "h = h[[\"HHID\", \"PID\",\"h_worked_day\"]]"
   ]
  },
  {
   "cell_type": "code",
   "execution_count": 55,
   "metadata": {},
   "outputs": [],
   "source": [
    "# Urban/ Rural\n",
    "u = pd.read_stata('GSEC1.dta', convert_categoricals=False)\n",
    "u = u[[\"HHID\",\"urban\"]]\n",
    "u.columns = [\"HHID\",\"urban\"]\n",
    "\n",
    "h =h.merge(u, on=\"HHID\")\n",
    "h = h.merge(s, on=\"PID\")\n",
    "h = h.merge(educ, on=\"PID\")"
   ]
  },
  {
   "cell_type": "code",
   "execution_count": 56,
   "metadata": {},
   "outputs": [],
   "source": [
    "#include only people in working age\n",
    "h_working_age = h.loc[(h.age<70) & (h.age>15)]"
   ]
  },
  {
   "cell_type": "code",
   "execution_count": 57,
   "metadata": {},
   "outputs": [],
   "source": [
    "# Calculate exntesive labor share \n",
    "#total = h.count()\n",
    "\n",
    "# droppping those who does not work\n",
    "h0 = h_working_age.loc[ (h_working_age['h_worked_day'] < 1) ]"
   ]
  },
  {
   "cell_type": "code",
   "execution_count": 58,
   "metadata": {},
   "outputs": [],
   "source": [
    "h_working_age = h_working_age.drop(h0.index, axis=0)"
   ]
  },
  {
   "cell_type": "code",
   "execution_count": 59,
   "metadata": {},
   "outputs": [
    {
     "data": {
      "text/plain": [
       "2755"
      ]
     },
     "execution_count": 59,
     "metadata": {},
     "output_type": "execute_result"
    }
   ],
   "source": [
    "h0[\"PID\"].count()"
   ]
  },
  {
   "cell_type": "code",
   "execution_count": 60,
   "metadata": {},
   "outputs": [
    {
     "data": {
      "text/plain": [
       "5682"
      ]
     },
     "execution_count": 60,
     "metadata": {},
     "output_type": "execute_result"
    }
   ],
   "source": [
    "h_working_age[\"PID\"].count()"
   ]
  },
  {
   "cell_type": "code",
   "execution_count": 61,
   "metadata": {},
   "outputs": [],
   "source": [
    "unemployed = h0[\"PID\"].count()\n",
    "employed = h_working_age[\"PID\"].count()\n",
    "employment_rate = employed/ (employed+unemployed)"
   ]
  },
  {
   "cell_type": "code",
   "execution_count": 62,
   "metadata": {},
   "outputs": [
    {
     "data": {
      "text/plain": [
       "0.6734621310892497"
      ]
     },
     "execution_count": 62,
     "metadata": {},
     "output_type": "execute_result"
    }
   ],
   "source": [
    "employment_rate"
   ]
  },
  {
   "cell_type": "markdown",
   "metadata": {},
   "source": [
    "Total estimated employment rate accounts for $67\\%$."
   ]
  },
  {
   "cell_type": "code",
   "execution_count": 63,
   "metadata": {},
   "outputs": [],
   "source": [
    "# Hours worked per day in rural and urban\n",
    "urbanh = np.array(h_working_age.loc[h_working_age.urban==1, \"h_worked_day\"].dropna())\n",
    "ruralh = np.array(h_working_age.loc[h_working_age.urban==0, \"h_worked_day\"].dropna())"
   ]
  },
  {
   "cell_type": "code",
   "execution_count": 64,
   "metadata": {},
   "outputs": [
    {
     "data": {
      "text/plain": [
       "5.011892190878476"
      ]
     },
     "execution_count": 64,
     "metadata": {},
     "output_type": "execute_result"
    }
   ],
   "source": [
    "totalh = h_working_age[\"h_worked_day\"].dropna()\n",
    "totalh.mean()"
   ]
  },
  {
   "cell_type": "code",
   "execution_count": 65,
   "metadata": {},
   "outputs": [
    {
     "data": {
      "text/plain": [
       "6.526933772788134"
      ]
     },
     "execution_count": 65,
     "metadata": {},
     "output_type": "execute_result"
    }
   ],
   "source": [
    "urbanh.mean()"
   ]
  },
  {
   "cell_type": "code",
   "execution_count": 66,
   "metadata": {},
   "outputs": [
    {
     "data": {
      "text/plain": [
       "4.522634292366539"
      ]
     },
     "execution_count": 66,
     "metadata": {},
     "output_type": "execute_result"
    }
   ],
   "source": [
    "ruralh.mean()"
   ]
  },
  {
   "cell_type": "markdown",
   "metadata": {},
   "source": [
    "Mean of hours worked out of all employed surveyed households is 5 hours per day, which is 35 hours per week, including main and secondary jobs.\n",
    "\n",
    "According to paper presented in the calss on hours worked mean value of hours wroked per week in Uganda is around 24, which roughly fits our results.\n",
    "\n",
    "In urban areas people tend to work 2 hours more, according to our results, though we had observations only for 1 week, so probably this ddata can not be that reliable."
   ]
  },
  {
   "cell_type": "code",
   "execution_count": 67,
   "metadata": {},
   "outputs": [
    {
     "data": {
      "image/png": "[encoded data removed]",
      "text/plain": [
       "<Figure size 432x288 with 2 Axes>"
      ]
     },
     "metadata": {},
     "output_type": "display_data"
    }
   ],
   "source": [
    "fig, ax1 = plt.subplots()\n",
    "colors = ['b','g']\n",
    "ax2 = ax1.twinx()\n",
    "ax1.hist([ruralh, urbanh], bins=15, color=colors)\n",
    "n, bins, patches = ax1.hist([ruralh,urbanh], bins=15)\n",
    "ax1.cla() #clear the axis\n",
    "\n",
    "#plots the histogram data\n",
    "width = (bins[1] - bins[0]) * 0.4\n",
    "bins_shifted = bins + width\n",
    "ax1.bar(bins[:-1], n[0], width, align='edge', color=colors[0])\n",
    "ax2.bar(bins_shifted[:-1], n[1], width, align='edge', color=colors[1])\n",
    "\n",
    "#finishes the plot\n",
    "ax1.set_ylabel(\"Rural hours worked per day\", color=colors[0])\n",
    "ax2.set_ylabel(\"Urban hours worked per day\", color=colors[1])\n",
    "ax1.tick_params('y', colors=colors[0])\n",
    "ax2.tick_params('y', colors=colors[1])\n",
    "#plt.xlim(0,500000)\n",
    "plt.tight_layout()\n",
    "plt.show()"
   ]
  },
  {
   "cell_type": "markdown",
   "metadata": {},
   "source": [
    "Majority of surveyed households work typically less than 7.5 hours per day, or less than 42 hours per week. As it was said before, overall in urban areas people work slightly more hours."
   ]
  },
  {
   "cell_type": "code",
   "execution_count": 68,
   "metadata": {},
   "outputs": [],
   "source": [
    "# by gender hours worked\n",
    "menh = np.array(h_working_age.loc[h.sex==1, \"h_worked_day\"].dropna())\n",
    "womenh = np.array(h_working_age.loc[h.sex==2, \"h_worked_day\"].dropna())"
   ]
  },
  {
   "cell_type": "code",
   "execution_count": 69,
   "metadata": {},
   "outputs": [
    {
     "data": {
      "text/plain": [
       "<matplotlib.legend.Legend at 0x1d140436e80>"
      ]
     },
     "execution_count": 69,
     "metadata": {},
     "output_type": "execute_result"
    },
    {
     "data": {
      "image/png": "[encoded data removed]",
      "text/plain": [
       "<Figure size 432x288 with 1 Axes>"
      ]
     },
     "metadata": {},
     "output_type": "display_data"
    }
   ],
   "source": [
    "sns.distplot( menh , color=\"blue\", label=\"men\")\n",
    "sns.distplot( womenh , color=\"red\", label=\"women\")\n",
    "\n",
    "plt.legend()"
   ]
  },
  {
   "cell_type": "markdown",
   "metadata": {},
   "source": [
    "Majority of people work in the range of 2.5-5 hours per day on average (for 7 working days). For those who work in this range there are slightly more women represented in this survey, whereas for higher values of hours worked there are slightly more men presented."
   ]
  },
  {
   "cell_type": "code",
   "execution_count": 70,
   "metadata": {},
   "outputs": [],
   "source": [
    "# hours worked by education\n",
    "ed1 = np.array(h_working_age.loc[h.ed==1, \"h_worked_day\"].dropna())\n",
    "ed2 = np.array(h_working_age.loc[h.ed==2, \"h_worked_day\"].dropna())\n",
    "ed3 = np.array(h_working_age.loc[h.ed==3, \"h_worked_day\"].dropna())"
   ]
  },
  {
   "cell_type": "code",
   "execution_count": 71,
   "metadata": {},
   "outputs": [
    {
     "name": "stderr",
     "output_type": "stream",
     "text": [
      "C:\\Users\\adamw\\Anaconda3\\lib\\site-packages\\numpy\\lib\\function_base.py:838: RuntimeWarning: invalid value encountered in true_divide\n",
      "  return n/db/n.sum(), bin_edges\n"
     ]
    },
    {
     "data": {
      "text/plain": [
       "<matplotlib.legend.Legend at 0x1d140402d68>"
      ]
     },
     "execution_count": 71,
     "metadata": {},
     "output_type": "execute_result"
    },
    {
     "data": {
      "image/png": "[encoded data removed]",
      "text/plain": [
       "<Figure size 432x288 with 1 Axes>"
      ]
     },
     "metadata": {},
     "output_type": "display_data"
    }
   ],
   "source": [
    "sns.distplot( ed1 , color=\"blue\", label=\"less than primary\")\n",
    "sns.distplot( ed2 , color=\"red\", label=\"primary completed\")\n",
    "sns.distplot( ed3 , color=\"green\", label=\"secondary and higher\")\n",
    "plt.legend()"
   ]
  },
  {
   "cell_type": "markdown",
   "metadata": {},
   "source": [
    "Hours worked per day by the level of education: majority of the heads of the households in the survey that completed primary or secondary and higher education work less than 5 hours per day.\n",
    "\n",
    "With increase of hours worked we can also see prevailence of people with secondary and higher education, whereas for lower amount of hours worked there are more people with primary education represented."
   ]
  },
  {
   "cell_type": "markdown",
   "metadata": {},
   "source": [
    "# 3. Inequality across space"
   ]
  },
  {
   "cell_type": "markdown",
   "metadata": {},
   "source": [
    "## 3.1. By Regions Inequality"
   ]
  },
  {
   "cell_type": "code",
   "execution_count": 72,
   "metadata": {},
   "outputs": [],
   "source": [
    "by_region = All.groupby(by=\"region\")[[\"all\", \"Total_total_income_dollars\", \"wealth_value\"]].mean()"
   ]
  },
  {
   "cell_type": "code",
   "execution_count": 73,
   "metadata": {},
   "outputs": [
    {
     "data": {
      "text/html": [
       "<div>\n",
       "<style scoped>\n",
       "    .dataframe tbody tr th:only-of-type {\n",
       "        vertical-align: middle;\n",
       "    }\n",
       "\n",
       "    .dataframe tbody tr th {\n",
       "        vertical-align: top;\n",
       "    }\n",
       "\n",
       "    .dataframe thead th {\n",
       "        text-align: right;\n",
       "    }\n",
       "</style>\n",
       "<table border=\"1\" class=\"dataframe\">\n",
       "  <thead>\n",
       "    <tr style=\"text-align: right;\">\n",
       "      <th></th>\n",
       "      <th>all</th>\n",
       "      <th>Total_total_income_dollars</th>\n",
       "      <th>wealth_value</th>\n",
       "    </tr>\n",
       "    <tr>\n",
       "      <th>region</th>\n",
       "      <th></th>\n",
       "      <th></th>\n",
       "      <th></th>\n",
       "    </tr>\n",
       "  </thead>\n",
       "  <tbody>\n",
       "    <tr>\n",
       "      <th>Central</th>\n",
       "      <td>2,610.60</td>\n",
       "      <td>926.88</td>\n",
       "      <td>1,410.01</td>\n",
       "    </tr>\n",
       "    <tr>\n",
       "      <th>Eastern</th>\n",
       "      <td>2,396.60</td>\n",
       "      <td>430.68</td>\n",
       "      <td>1,133.47</td>\n",
       "    </tr>\n",
       "    <tr>\n",
       "      <th>Northern</th>\n",
       "      <td>2,170.10</td>\n",
       "      <td>286.28</td>\n",
       "      <td>692.70</td>\n",
       "    </tr>\n",
       "    <tr>\n",
       "      <th>Western</th>\n",
       "      <td>2,488.41</td>\n",
       "      <td>562.68</td>\n",
       "      <td>1,224.76</td>\n",
       "    </tr>\n",
       "  </tbody>\n",
       "</table>\n",
       "</div>"
      ],
      "text/plain": [
       "              all  Total_total_income_dollars  wealth_value\n",
       "region                                                     \n",
       "Central  2,610.60                      926.88      1,410.01\n",
       "Eastern  2,396.60                      430.68      1,133.47\n",
       "Northern 2,170.10                      286.28        692.70\n",
       "Western  2,488.41                      562.68      1,224.76"
      ]
     },
     "execution_count": 73,
     "metadata": {},
     "output_type": "execute_result"
    }
   ],
   "source": [
    "by_region"
   ]
  },
  {
   "cell_type": "code",
   "execution_count": 74,
   "metadata": {},
   "outputs": [
    {
     "data": {
      "image/png": "[encoded data removed]",
      "text/plain": [
       "<Figure size 432x288 with 1 Axes>"
      ]
     },
     "metadata": {},
     "output_type": "display_data"
    }
   ],
   "source": [
    "#plt.scatter(cons_by_region[\"Total_total_income\"], cons_by_region[\"all\"])\n",
    "\n",
    "x_coords = by_region[\"Total_total_income_dollars\"]\n",
    "y_coords = by_region[\"all\"]\n",
    "types=['Central', 'Eastern', 'Northern', 'Western']\n",
    "for i,type in enumerate(types):\n",
    "    x = x_coords[i]\n",
    "    y = y_coords[i]\n",
    "    plt.scatter(x, y, marker='x', color='red')\n",
    "    plt.text(x+0.3, y+0.3, type, fontsize=9)\n",
    "    plt.xlabel('income $')\n",
    "    plt.ylabel('consumption $')\n",
    "plt.show()\n",
    "\n",
    "#plt.text(np.array(cons_by_region[\"Total_total_income\"]), np.array(cons_by_region[\"all\"]), types, fontsize=9)"
   ]
  },
  {
   "cell_type": "code",
   "execution_count": 75,
   "metadata": {},
   "outputs": [
    {
     "data": {
      "image/png": "[encoded data removed]",
      "text/plain": [
       "<Figure size 432x288 with 1 Axes>"
      ]
     },
     "metadata": {},
     "output_type": "display_data"
    }
   ],
   "source": [
    "x_coords = by_region[\"Total_total_income_dollars\"]\n",
    "y_coords = by_region[\"wealth_value\"]\n",
    "types=['Central', 'Eastern', 'Northern', 'Western']\n",
    "for i,type in enumerate(types):\n",
    "    x = x_coords[i]\n",
    "    y = y_coords[i]\n",
    "    plt.scatter(x, y, marker='x', color='red')\n",
    "    plt.text(x+0.3, y+0.3, type, fontsize=9)\n",
    "    plt.xlabel('income $')\n",
    "    plt.ylabel('wealth $')\n",
    "plt.show()"
   ]
  },
  {
   "cell_type": "markdown",
   "metadata": {},
   "source": [
    "By income we can see clear segregation of the regions: the lowest values are related to Northern district, and the highest for he Central."
   ]
  },
  {
   "cell_type": "code",
   "execution_count": 76,
   "metadata": {
    "scrolled": true
   },
   "outputs": [],
   "source": [
    "# labor supply\n",
    "newid = []\n",
    "for index, row in h_working_age.iterrows() :\n",
    "    newid.append(int(row[\"HHID\"].replace(\"H\", '').replace(\"-\", '')))\n",
    "h_working_age[\"HHID\"] = newid"
   ]
  },
  {
   "cell_type": "code",
   "execution_count": 77,
   "metadata": {},
   "outputs": [],
   "source": [
    "All_s= pd.merge(All, h_working_age, on=\"HHID\", how=\"outer\")"
   ]
  },
  {
   "cell_type": "code",
   "execution_count": 78,
   "metadata": {},
   "outputs": [],
   "source": [
    "All_s=All_s.loc[(All_s.Total_total_income_dollars.notnull())&(All_s.wealth_value.notnull())]"
   ]
  },
  {
   "cell_type": "code",
   "execution_count": 79,
   "metadata": {
    "scrolled": true
   },
   "outputs": [],
   "source": [
    "All_s_by_region = All_s.groupby(by=\"region\")[[\"Total_total_income_dollars\", \"h_worked_day\"]].mean()"
   ]
  },
  {
   "cell_type": "code",
   "execution_count": 80,
   "metadata": {},
   "outputs": [
    {
     "data": {
      "text/html": [
       "<div>\n",
       "<style scoped>\n",
       "    .dataframe tbody tr th:only-of-type {\n",
       "        vertical-align: middle;\n",
       "    }\n",
       "\n",
       "    .dataframe tbody tr th {\n",
       "        vertical-align: top;\n",
       "    }\n",
       "\n",
       "    .dataframe thead th {\n",
       "        text-align: right;\n",
       "    }\n",
       "</style>\n",
       "<table border=\"1\" class=\"dataframe\">\n",
       "  <thead>\n",
       "    <tr style=\"text-align: right;\">\n",
       "      <th></th>\n",
       "      <th>Total_total_income_dollars</th>\n",
       "      <th>h_worked_day</th>\n",
       "    </tr>\n",
       "    <tr>\n",
       "      <th>region</th>\n",
       "      <th></th>\n",
       "      <th></th>\n",
       "    </tr>\n",
       "  </thead>\n",
       "  <tbody>\n",
       "    <tr>\n",
       "      <th>Central</th>\n",
       "      <td>760.40</td>\n",
       "      <td>4.97</td>\n",
       "    </tr>\n",
       "    <tr>\n",
       "      <th>Eastern</th>\n",
       "      <td>454.87</td>\n",
       "      <td>4.37</td>\n",
       "    </tr>\n",
       "    <tr>\n",
       "      <th>Northern</th>\n",
       "      <td>345.02</td>\n",
       "      <td>3.62</td>\n",
       "    </tr>\n",
       "    <tr>\n",
       "      <th>Western</th>\n",
       "      <td>563.15</td>\n",
       "      <td>4.92</td>\n",
       "    </tr>\n",
       "  </tbody>\n",
       "</table>\n",
       "</div>"
      ],
      "text/plain": [
       "          Total_total_income_dollars  h_worked_day\n",
       "region                                            \n",
       "Central                       760.40          4.97\n",
       "Eastern                       454.87          4.37\n",
       "Northern                      345.02          3.62\n",
       "Western                       563.15          4.92"
      ]
     },
     "execution_count": 80,
     "metadata": {},
     "output_type": "execute_result"
    }
   ],
   "source": [
    "All_s_by_region"
   ]
  },
  {
   "cell_type": "code",
   "execution_count": 81,
   "metadata": {},
   "outputs": [
    {
     "data": {
      "image/png": "[encoded data removed]",
      "text/plain": [
       "<Figure size 432x288 with 1 Axes>"
      ]
     },
     "metadata": {},
     "output_type": "display_data"
    }
   ],
   "source": [
    "x_coords = All_s_by_region[\"Total_total_income_dollars\"]\n",
    "y_coords = All_s_by_region[\"h_worked_day\"]\n",
    "types=['Central', 'Eastern', 'Northern', 'Western']\n",
    "for i,type in enumerate(types):\n",
    "    x = x_coords[i]\n",
    "    y = y_coords[i]\n",
    "    plt.scatter(x, y, marker='x', color='red')\n",
    "    plt.text(x+0.3, y+0.3, type, fontsize=9)\n",
    "    plt.xlabel('income $')\n",
    "    plt.ylabel('intensive labor supply - hours per day')\n",
    "plt.show()"
   ]
  },
  {
   "cell_type": "markdown",
   "metadata": {},
   "source": [
    "Labor supply by regions follows the same pattern as income: the lowest values are related to Northern district, and the highest for he Central."
   ]
  },
  {
   "cell_type": "code",
   "execution_count": 77,
   "metadata": {},
   "outputs": [
    {
     "data": {
      "text/plain": [
       "<matplotlib.legend.Legend at 0x25cb3202518>"
      ]
     },
     "execution_count": 77,
     "metadata": {},
     "output_type": "execute_result"
    },
    {
     "data": {
      "image/png": "[encoded data removed]",
      "text/plain": [
       "<Figure size 432x288 with 1 Axes>"
      ]
     },
     "metadata": {},
     "output_type": "display_data"
    }
   ],
   "source": [
    "w_plot=sns.lineplot(x=All.head_age, y=All[\"wealth_value\"], data=All, label=\"wealth\")\n",
    "w_plot=sns.lineplot(x=All.head_age, y=All[\"Total_total_income_dollars\"], data=All, label=\"income\")\n",
    "w_plot=sns.lineplot(x=All.head_age, y=All[\"all\"], data=All, label=\"consumption\")\n",
    "w_plot.set(xlim=(20, 85))\n",
    "w_plot.set(ylim=(0, 3500))\n",
    "w_plot.legend()"
   ]
  }
 ],
 "metadata": {
  "kernelspec": {
   "display_name": "Python 3",
   "language": "python",
   "name": "python3"
  },
  "language_info": {
   "codemirror_mode": {
    "name": "ipython",
    "version": 3
   },
   "file_extension": ".py",
   "mimetype": "text/x-python",
   "name": "python",
   "nbconvert_exporter": "python",
   "pygments_lexer": "ipython3",
   "version": "3.6.4"
  }
 },
 "nbformat": 4,
 "nbformat_minor": 2
}
