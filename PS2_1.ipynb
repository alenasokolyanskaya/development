{
 "cells": [
  {
   "cell_type": "markdown",
   "metadata": {},
   "source": [
    "# Problem set 2"
   ]
  },
  {
   "cell_type": "markdown",
   "metadata": {},
   "source": [
    "## Question 1.1 a)"
   ]
  },
  {
   "cell_type": "markdown",
   "metadata": {},
   "source": [
    "Welfare gain is defined as $ g $ such that:\n",
    "$$ W((1+g)c_a) = W(c_b) $$\n",
    "In this the case of eta = 1 (logarithmic utility function), gain is such that:\n",
    "$$ E{ \\sum^{40}_{t=1} \\beta^{12(t-1)} [ \\sum^{12}_{m=1} \\beta^{m-1}[\\log(1+g)c_{m,t}^{Risk}]] }= \\sum^{40}_{t=1} \\beta^{12(t-1)} [ \\sum^{12}_{m=1} \\beta^{m-1}[\\log c_{m,t}^{No Risk}]] $$\n",
    "thus,\n",
    "$$ \\sum^{40}_{t=1} \\beta^{12(t-1)} \\sum^{12}_{m=1} \\beta^{m-1} \\log (1+g) + E\\sum^{40}_{t=1} \\beta^{12(t-1)} \\sum^{12}_{m=1} \\beta^{m-1} \\log c_{m,t}^{Risk} = \\sum^{40}_{t=1} \\beta^{12(t-1)} [ \\sum^{12}_{m=1} \\beta^{m-1}[\\log c_{m,t}^{No Risk}]]$$\n",
    "\n",
    "and,\n",
    "$$  \\log(1+g) = \\frac{\\sum^{40}_{t=1} \\beta^{12(t-1)} [ \\sum^{12}_{m=1} \\beta^{m-1}[\\log c_{m,t}^{No Risk}]] - E\\sum^{40}_{t=1} \\beta^{12(t-1)} \\sum^{12}_{m=1} \\beta^{m-1} \\log c_{m,t}^{Risk}}{\\sum^{40}_{t=1} \\beta^{12(t-1)} \\sum^{12}_{m=1} \\beta^{m-1}} $$\n",
    "\n",
    "so, \n",
    "\n",
    "$$ g = \\exp({\\frac{\\sum^{40}_{t=1} \\beta^{12(t-1)} [ \\sum^{12}_{m=1} \\beta^{m-1}[\\log c_{m,t}^{No Risk}]] - E\\sum^{40}_{t=1} \\beta^{12(t-1)} \\sum^{12}_{m=1} \\beta^{m-1} \\log c_{m,t}^{Risk}}{\\sum^{40}_{t=1} \\beta^{12(t-1)} \\sum^{12}_{m=1} \\beta^{m-1}}}) - 1$$"
   ]
  },
  {
   "cell_type": "code",
   "execution_count": 2,
   "metadata": {},
   "outputs": [],
   "source": [
    "import pandas as pd\n",
    "import numpy as np\n",
    "import math\n",
    "import matplotlib.pyplot as plt"
   ]
  },
  {
   "cell_type": "code",
   "execution_count": 3,
   "metadata": {},
   "outputs": [],
   "source": [
    "var_e = 0.2\n",
    "var_u = 0.2\n",
    "\n",
    "ln_e = np.random.normal(0,var_e, size=(1000,40,12))\n",
    "ln_z = np.random.normal(0,var_u, size=(1000))\n",
    "\n",
    "\n",
    "\n",
    "def g(level):\n",
    "    g = pd.DataFrame({'middle': [-0.147,-0.37,0.141,0.131,0.09,0.058,0.036,0.036,0.036,0.002,-0.033,-0.082],\n",
    "                  'high': [-0.293,-0.739,0.282,0.262,0.18,0.116,0.072,0.072,0.072,0.004,-0.066,-0.164],\n",
    "                  'low': [-0.073,-0.185,0.071,0.066,0.045,0.029,0.018,0.018,0.018,0.001,-0.017,-0.041]})[level]\n",
    "    return g\n",
    "\n",
    "def var_m(level):\n",
    "    var_m = pd.DataFrame({'middle': [0.085,0.068,0.29,0.283,0.273,0.273,0.239,0.205,0.188,0.188,0.171,0.137],\n",
    "                       'high': [0.171,0.137,0.58,0.567,0.546,0.546,0.478,0.41,0.376,0.376,0.341,0.273],\n",
    "                       'low': [0.043,0.034,0.145,0.142,0.137,0.137,0.119,0.102,0.094,0.094,0.085,0.068],\n",
    "                       'none': [0,0,0,0,0,0,0,0,0,0,0,0]})[level]\n",
    "    return var_m"
   ]
  },
  {
   "cell_type": "code",
   "execution_count": 4,
   "metadata": {},
   "outputs": [],
   "source": [
    "# Q1 eta 1 = log consumption    \n",
    "def c_1_a(g_level):\n",
    "    c_no_risk = np.zeros(shape=(1000, 40*12))\n",
    "    c_risk = np.zeros(shape=(1000, 40*12))\n",
    "    g_deter = g(g_level)\n",
    "    for i in range(1000):\n",
    "        for o in range(40*12):\n",
    "            c_no_risk[i][o] = np.exp(-var_u/2)*np.exp(ln_z[i])*np.exp(-var_e/2)*np.exp(ln_e[i][math.floor(o/12)][o%12])\n",
    "            c_risk[i][o] = np.exp(-var_u/2)*np.exp(ln_z[i])*(np.exp(g_deter[o%12]))*np.exp(-var_e/2)*np.exp(ln_e[i][math.floor(o/12)][o%12]) \n",
    "    return c_no_risk, c_risk\n",
    "\n",
    "def gain_1_a(c_1_a_no_risk, c_1_a_risk):\n",
    "    gain = np.zeros(1000)\n",
    "    for i in range(1000):\n",
    "        gain[i] = np.exp((sum(np.power(0.99, range(1,481))*np.log(c_1_a_no_risk[i]))-sum(np.power(0.99, range(1,481))*np.log(c_1_a_risk[i])))/sum(np.power(0.99, range(1,481))))-1\n",
    "    return gain"
   ]
  },
  {
   "cell_type": "code",
   "execution_count": 5,
   "metadata": {},
   "outputs": [],
   "source": [
    "# high \n",
    "c_1_a_no_risk_high, c_1_a_risk_high = c_1_a('high')         \n",
    "gain_1_a_high = gain_1_a(c_1_a_no_risk_high, c_1_a_risk_high)\n",
    "\n",
    "# middle \n",
    "c_1_a_no_risk_middle, c_1_a_risk_middle = c_1_a('middle')               \n",
    "gain_1_a_middle = gain_1_a(c_1_a_no_risk_middle, c_1_a_risk_middle)\n",
    "\n",
    "# low\n",
    "c_1_a_no_risk_low, c_1_a_risk_low = c_1_a('low')          \n",
    "gain_1_a_low = gain_1_a(c_1_a_no_risk_low, c_1_a_risk_low)"
   ]
  },
  {
   "cell_type": "code",
   "execution_count": 6,
   "metadata": {},
   "outputs": [
    {
     "data": {
      "text/plain": [
       "<matplotlib.legend.Legend at 0x252192903c8>"
      ]
     },
     "execution_count": 6,
     "metadata": {},
     "output_type": "execute_result"
    },
    {
     "data": {
      "image/png": "[encoded data removed]",
      "text/plain": [
       "<Figure size 432x288 with 1 Axes>"
      ]
     },
     "metadata": {},
     "output_type": "display_data"
    }
   ],
   "source": [
    "plt.hist(gain_1_a_high, label=\"high degree\")\n",
    "plt.title(\"Q1.a)\")\n",
    "plt.legend()\n",
    "\n",
    "#Actually all HHs get the same welfare gain which is negligible"
   ]
  },
  {
   "cell_type": "markdown",
   "metadata": {},
   "source": [
    "## Question 1.1. b)"
   ]
  },
  {
   "cell_type": "code",
   "execution_count": 6,
   "metadata": {},
   "outputs": [],
   "source": [
    "def c_1_b(g_level):\n",
    "    c_no_risk = np.zeros(shape=(1000, 40*12))\n",
    "    c_risk = np.zeros(shape=(1000, 40*12))\n",
    "    g_deter = g(g_level)\n",
    "    for i in range(1000):\n",
    "        for o in range(40*12):\n",
    "            c_no_risk[i][o] = np.exp(-var_u/2)*np.exp(ln_z[i])*(np.exp(g_deter[o%12]))\n",
    "            c_risk[i][o] = np.exp(-var_u/2)*np.exp(ln_z[i])*(np.exp(g_deter[o%12]))*np.exp(-var_e/2)*np.exp(ln_e[i][math.floor(o/12)][o%12]) \n",
    "    return c_no_risk, c_risk\n",
    "            \n",
    "def gain_1_b(c_1_no_risk, c_1_risk):\n",
    "    gain = np.zeros(1000)\n",
    "    for i in range(1000):\n",
    "        gain[i] = np.exp((sum(np.power(0.99, range(1,481))*np.log(c_1_no_risk[i]))-sum(np.power(0.99, range(1,481))*np.log(c_1_risk[i])))/sum(np.power(0.99, range(1,481))))-1\n",
    "    return gain"
   ]
  },
  {
   "cell_type": "code",
   "execution_count": 7,
   "metadata": {},
   "outputs": [],
   "source": [
    "c_1_b_no_risk, c_1_b_risk = c_1_b('middle')         \n",
    "gain_1_b_middle = gain_1_b(c_1_b_no_risk, c_1_b_risk)"
   ]
  },
  {
   "cell_type": "code",
   "execution_count": 8,
   "metadata": {},
   "outputs": [
    {
     "data": {
      "text/plain": [
       "<function matplotlib.pyplot.show>"
      ]
     },
     "execution_count": 8,
     "metadata": {},
     "output_type": "execute_result"
    },
    {
     "data": {
      "image/png": "[encoded data removed]",
      "text/plain": [
       "<Figure size 432x288 with 1 Axes>"
      ]
     },
     "metadata": {},
     "output_type": "display_data"
    }
   ],
   "source": [
    "plt.hist(gain_1_b_middle, bins = 60)\n",
    "plt.title(\"Q1.b) Welfare gain of removing nonseasonal stochastic component\")\n",
    "plt.show"
   ]
  },
  {
   "cell_type": "markdown",
   "metadata": {},
   "source": [
    "## Question 1.1. c)"
   ]
  },
  {
   "cell_type": "markdown",
   "metadata": {},
   "source": [
    "To be confirmed"
   ]
  },
  {
   "cell_type": "markdown",
   "metadata": {},
   "source": [
    "## Question 1.1. d)"
   ]
  },
  {
   "cell_type": "markdown",
   "metadata": {},
   "source": [
    "### eta = 2\n",
    "\n",
    "$$ E{ \\sum^{40}_{t=1} \\beta^{12(t-1)} [ \\sum^{12}_{m=1} \\beta^{m-1}[\\frac{[(1+g)c_{m,t}^{Risk}]^{(1-\\eta)}}{1-\\eta}]] }= \\sum^{40}_{t=1} \\beta^{12(t-1)} [ \\sum^{12}_{m=1} \\beta^{m-1}[\\frac{c_{m,t}^{No Risk^{(1-\\eta)}}}{1-\\eta}]] $$\n",
    "thus,\n",
    "\n",
    "$$ g = [\\frac{\\sum^{40}_{t=1} \\beta^{t-1} \\sum^{12}_{m=1} \\beta^{m-1} \\frac{(c_{m,t}^{No Risk})^{1-\\eta}}{1-\\eta}}{ E\\sum^{40}_{t=1} \\beta^{t-1} \\sum^{12}_{m=1} \\beta^{m-1} \\frac{(c_{m,t}^{Risk})^{1-\\eta}}{1-\\eta}}]^{\\frac{1}{1-\\eta}} - 1$$"
   ]
  },
  {
   "cell_type": "markdown",
   "metadata": {},
   "source": [
    "### Removing seasonal component"
   ]
  },
  {
   "cell_type": "code",
   "execution_count": 21,
   "metadata": {},
   "outputs": [],
   "source": [
    "def gain_1_da_eta2(c_1_da_eta2_no_risk, c_1_da_eta2_risk):\n",
    "    eta = 2\n",
    "    gain = np.zeros(1000)\n",
    "    for i in range(1000):\n",
    "        gain[i] = (sum(np.power(0.99, range(1,481))*np.power(c_1_da_eta2_no_risk[i],(1-eta)/(1-eta)))/  sum(np.power(0.99, range(1,481))*np.power(c_1_da_eta2_risk[i],(1-eta)/(1-eta))) )**(1/(1-eta))-1 #-sum(np.power(0.99, range(1,481))*(c_1_da_eta2risk[i])**(1-eta)/(1-eta))/sum(np.power(0.99, range(1,481))))-1\n",
    "    return gain"
   ]
  },
  {
   "cell_type": "code",
   "execution_count": 22,
   "metadata": {},
   "outputs": [],
   "source": [
    "#high   \n",
    "gain_1_da_eta2_high = gain_1_da_eta2(c_1_a_no_risk_high, c_1_a_risk_high)\n",
    "\n",
    "# middle            \n",
    "gain_1_da_eta2_middle = gain_1_da_eta2(c_1_a_no_risk_middle, c_1_a_risk_middle)\n",
    "\n",
    "# low      \n",
    "gain_1_da_eta2_low = gain_1_da_eta2(c_1_a_no_risk_low, c_1_a_risk_low)"
   ]
  },
  {
   "cell_type": "code",
   "execution_count": 23,
   "metadata": {},
   "outputs": [
    {
     "data": {
      "text/plain": [
       "Text(0.5,1,'Q1.d) Welfare gains of removing the seasonal component by degree of seasonality, eta = 2')"
      ]
     },
     "execution_count": 23,
     "metadata": {},
     "output_type": "execute_result"
    },
    {
     "data": {
      "image/png": "[encoded data removed]",
      "text/plain": [
       "<Figure size 432x288 with 1 Axes>"
      ]
     },
     "metadata": {},
     "output_type": "display_data"
    }
   ],
   "source": [
    "# plot histograms\n",
    "plt.hist(gain_1_da_eta2_high, label=\"high degree\")\n",
    "plt.hist(gain_1_da_eta2_middle, label=\"middle degree\")\n",
    "plt.hist(gain_1_da_eta2_low, label=\"low degree\")\n",
    "plt.legend()\n",
    "plt.title(\"Q1.d) Welfare gains of removing the seasonal component by degree of seasonality, eta = 2\")"
   ]
  },
  {
   "cell_type": "markdown",
   "metadata": {},
   "source": [
    "### Removing nonseasonal stochastic component"
   ]
  },
  {
   "cell_type": "code",
   "execution_count": 26,
   "metadata": {},
   "outputs": [],
   "source": [
    "def gain_1_db(c_1_no_risk, c_1_risk):\n",
    "    eta = 2\n",
    "    gain = np.zeros(1000)\n",
    "    for i in range(1000):\n",
    "        gain[i] = (sum(np.power(0.99, range(1,481))*np.power(c_1_no_risk[i],(1-eta)/(1-eta)))/  sum(np.power(0.99, range(1,481))*np.power(c_1_risk[i],(1-eta)/(1-eta))) )**(1/(1-eta))-1 #-sum(np.power(0.99, range(1,481))*(c_1_da_eta2risk[i])**(1-eta)/(1-eta))/sum(np.power(0.99, range(1,481))))-1\n",
    "    return gain"
   ]
  },
  {
   "cell_type": "code",
   "execution_count": 27,
   "metadata": {},
   "outputs": [],
   "source": [
    "# removal of nonseasonal risk \n",
    "gain_1_db_eta2 = gain_1_db(c_1_b_no_risk, c_1_b_risk)"
   ]
  },
  {
   "cell_type": "code",
   "execution_count": 43,
   "metadata": {},
   "outputs": [
    {
     "data": {
      "image/png": "[encoded data removed]",
      "text/plain": [
       "<Figure size 432x288 with 1 Axes>"
      ]
     },
     "metadata": {},
     "output_type": "display_data"
    }
   ],
   "source": [
    "# plot histograms\n",
    "plt.hist(gain_1_db_eta2)\n",
    "plt.title(\"Q1.d) Welfare gains of removing the nonseasonal component, eta = 2\")\n",
    "plt.show()"
   ]
  },
  {
   "cell_type": "markdown",
   "metadata": {},
   "source": [
    "### eta = 4"
   ]
  },
  {
   "cell_type": "markdown",
   "metadata": {},
   "source": [
    "### Removing seasonal component"
   ]
  },
  {
   "cell_type": "code",
   "execution_count": 30,
   "metadata": {},
   "outputs": [],
   "source": [
    "def gain_1_da_eta4(c_1_da_no_risk, c_1_da_risk):\n",
    "    eta = 4\n",
    "    gain = np.zeros(1000)\n",
    "    for i in range(1000):\n",
    "        gain[i] = (sum(np.power(0.99, range(1,481))*np.power(c_1_da_no_risk[i],(1-eta)/(1-eta)))/  sum(np.power(0.99, range(1,481))*np.power(c_1_da_risk[i],(1-eta)/(1-eta))) )**(1/(1-eta))-1 #-sum(np.power(0.99, range(1,481))*(c_1_da_eta2risk[i])**(1-eta)/(1-eta))/sum(np.power(0.99, range(1,481))))-1\n",
    "    return gain"
   ]
  },
  {
   "cell_type": "code",
   "execution_count": 31,
   "metadata": {},
   "outputs": [],
   "source": [
    "#high   \n",
    "gain_1_da_eta4_high = gain_1_da_eta4(c_1_a_no_risk_high, c_1_a_risk_high)\n",
    "\n",
    "# middle            \n",
    "gain_1_da_eta4_middle = gain_1_da_eta4(c_1_a_no_risk_middle, c_1_a_risk_middle)\n",
    "\n",
    "# low      \n",
    "gain_1_da_eta4_low = gain_1_da_eta4(c_1_a_no_risk_low, c_1_a_risk_low)"
   ]
  },
  {
   "cell_type": "code",
   "execution_count": 44,
   "metadata": {},
   "outputs": [
    {
     "data": {
      "image/png": "[encoded data removed]",
      "text/plain": [
       "<Figure size 432x288 with 1 Axes>"
      ]
     },
     "metadata": {},
     "output_type": "display_data"
    }
   ],
   "source": [
    "# plot histograms\n",
    "plt.hist(gain_1_da_eta4_high, label=\"high degree\", bins=30)\n",
    "plt.hist(gain_1_da_eta4_middle, label=\"middle degree\",bins=30)\n",
    "plt.hist(gain_1_da_eta4_low, label=\"low degree\",bins=30)\n",
    "plt.legend()\n",
    "plt.title(\"Q1.d) Welfare gains of removing the seasonal component by degree of seasonality, eta = 4\")\n",
    "plt.show()"
   ]
  },
  {
   "cell_type": "markdown",
   "metadata": {},
   "source": [
    "### Removing nonseasonal component"
   ]
  },
  {
   "cell_type": "code",
   "execution_count": 35,
   "metadata": {},
   "outputs": [],
   "source": [
    "def gain_1_db_eta4(c_1_no_risk, c_1_risk):\n",
    "    eta=4\n",
    "    gain = np.zeros(1000)\n",
    "    for i in range(1000):\n",
    "        gain[i] = np.exp(((sum(np.power(0.99, range(1,481))*(c_1_no_risk[i])**(1-eta)/(1-eta)))-sum(np.power(0.99, range(1,481))*(c_1_risk[i])**(1-eta)/(1-eta)))/sum(np.power(0.99, range(1,481))))-1\n",
    "    return gain"
   ]
  },
  {
   "cell_type": "code",
   "execution_count": 36,
   "metadata": {},
   "outputs": [],
   "source": [
    "# middle \n",
    "gain_1_db_eta4 = gain_1_db_eta4(c_1_b_no_risk, c_1_b_risk)"
   ]
  },
  {
   "cell_type": "code",
   "execution_count": 45,
   "metadata": {},
   "outputs": [
    {
     "data": {
      "image/png": "[encoded data removed]",
      "text/plain": [
       "<Figure size 432x288 with 1 Axes>"
      ]
     },
     "metadata": {},
     "output_type": "display_data"
    }
   ],
   "source": [
    "# plot histograms\n",
    "plt.hist(gain_1_db_eta4, bins=60)\n",
    "plt.title(\"Q1.d) Welfare gains of removing the nonseasonal component eta = 4\")\n",
    "plt.show()"
   ]
  },
  {
   "cell_type": "markdown",
   "metadata": {},
   "source": [
    "## Compare eta 1, 2, 4"
   ]
  },
  {
   "cell_type": "code",
   "execution_count": 69,
   "metadata": {},
   "outputs": [
    {
     "data": {
      "text/plain": [
       "<matplotlib.legend.Legend at 0x23f3f889d68>"
      ]
     },
     "execution_count": 69,
     "metadata": {},
     "output_type": "execute_result"
    },
    {
     "data": {
      "image/png": "[encoded data removed]",
      "text/plain": [
       "<Figure size 432x288 with 1 Axes>"
      ]
     },
     "metadata": {},
     "output_type": "display_data"
    }
   ],
   "source": [
    "plt.hist(gain_1_a_high, label=\"eta 1\")\n",
    "plt.hist(gain_1_da_eta2_high, label=\"eta 2\")\n",
    "plt.hist(gain_1_da_eta4_high, label=\"eta 4\")\n",
    "#plt.xlim(0.01, 0.025)\n",
    "plt.legend()"
   ]
  },
  {
   "cell_type": "code",
   "execution_count": 50,
   "metadata": {},
   "outputs": [
    {
     "data": {
      "image/png": "[encoded data removed]",
      "text/plain": [
       "<Figure size 432x288 with 1 Axes>"
      ]
     },
     "metadata": {},
     "output_type": "display_data"
    }
   ],
   "source": [
    "plt.hist(gain_1_a_high, label=\"eta 1\", bins=4)\n",
    "plt.show()"
   ]
  },
  {
   "cell_type": "code",
   "execution_count": 65,
   "metadata": {},
   "outputs": [
    {
     "data": {
      "text/plain": [
       "0.018863275071624976"
      ]
     },
     "execution_count": 65,
     "metadata": {},
     "output_type": "execute_result"
    }
   ],
   "source": [
    "np.mean(gain_1_a_high)"
   ]
  },
  {
   "cell_type": "markdown",
   "metadata": {},
   "source": [
    "## Question 1.2. a)"
   ]
  },
  {
   "cell_type": "markdown",
   "metadata": {},
   "source": [
    "### removing Stochastic Seasonal Component"
   ]
  },
  {
   "cell_type": "code",
   "execution_count": 3,
   "metadata": {},
   "outputs": [],
   "source": [
    "def c_1_2_a(g_level, var_m_level):\n",
    "    c_no_risk = np.zeros(shape=(1000, 40*12))\n",
    "    c_risk = np.zeros(shape=(1000, 40*12))\n",
    "    g_deter = g(g_level)\n",
    "    var_m_stoch = var_m(var_m_level)\n",
    "    ln_em = np.random.normal(0,var_m_stoch, size=(1000,40,12))\n",
    "    \n",
    "    for i in range(1000):\n",
    "        for o in range(40*12):\n",
    "            c_no_risk[i][o] = np.exp(-var_u/2)*np.exp(ln_z[i])*np.exp(-var_e/2)*np.exp(ln_e[i][math.floor(o/12)][o%12])\n",
    "            c_risk[i][o] = np.exp(-var_u/2)*np.exp(ln_z[i])*np.exp(g_deter[o%12])*np.exp(-var_e/2)*np.exp(ln_e[i][math.floor(o/12)][o%12])*np.exp(-var_m_stoch[o%12]/2)*np.exp(ln_em[i][math.floor(o/12)][o%12]) \n",
    "    return c_no_risk, c_risk\n",
    "\n",
    "def gain_1_2_a(c_1_a_no_risk, c_1_a_risk):\n",
    "    gain = np.zeros(1000)\n",
    "    for i in range(1000):\n",
    "        gain[i] = np.exp((sum(np.power(0.99, range(1,481))*np.log(c_1_a_no_risk[i]))-sum(np.power(0.99, range(1,481))*np.log(c_1_a_risk[i])))/sum(np.power(0.99, range(1,481))))-1\n",
    "    return gain"
   ]
  },
  {
   "cell_type": "markdown",
   "metadata": {},
   "source": [
    "#### for Deterministic Seasonal Component on high degree"
   ]
  },
  {
   "cell_type": "code",
   "execution_count": 9,
   "metadata": {},
   "outputs": [],
   "source": [
    "# high seasonal deterministic, high stochastic seasonas component\n",
    "c_1_2_a_no_risk_high_high, c_1_2_a_risk_high_high = c_1_2_a('high', 'high')         \n",
    "gain_1_2_a_high_high = gain_1_2_a(c_1_2_a_no_risk_high_high, c_1_2_a_risk_high_high)\n",
    "\n",
    "# high seasonal deterministic, middle stochastic seasonas component\n",
    "c_1_2_a_no_risk_high_middle, c_1_2_a_risk_high_middle = c_1_2_a('high', 'middle')               \n",
    "gain_1_2_a_high_middle = gain_1_2_a(c_1_2_a_no_risk_high_middle, c_1_2_a_risk_high_middle)\n",
    "\n",
    "# high seasonal deterministic, low stochastic seasonas component\n",
    "c_1_2_a_no_risk_high_low, c_1_2_a_risk_high_low = c_1_2_a('high', 'low')          \n",
    "gain_1_2_a_high_low = gain_1_2_a(c_1_2_a_no_risk_high_low, c_1_2_a_risk_high_low)"
   ]
  },
  {
   "cell_type": "code",
   "execution_count": 10,
   "metadata": {
    "scrolled": true
   },
   "outputs": [
    {
     "data": {
      "text/plain": [
       "Text(0.5,1,'Gain of removal of seasonal components. Deterministic seasonal component fixed at high degree')"
      ]
     },
     "execution_count": 10,
     "metadata": {},
     "output_type": "execute_result"
    },
    {
     "data": {
      "image/png": "[encoded data removed]",
      "text/plain": [
       "<Figure size 432x288 with 1 Axes>"
      ]
     },
     "metadata": {},
     "output_type": "display_data"
    }
   ],
   "source": [
    "plt.hist(gain_1_2_a_high_high, label=\"high - stochastic seasonal\")\n",
    "plt.hist(gain_1_2_a_high_middle, label=\"middle - stochastic seasonal\")\n",
    "plt.hist(gain_1_2_a_high_low, label=\"low - stochastic seasonal\")\n",
    "#plt.xlim(0.01, 0.025)\n",
    "plt.legend()\n",
    "plt.title(\"Gain of removal of seasonal components. Deterministic seasonal component fixed at high degree\")"
   ]
  },
  {
   "cell_type": "markdown",
   "metadata": {},
   "source": [
    "#### for Deterministic Seasonal Component on middle degree"
   ]
  },
  {
   "cell_type": "code",
   "execution_count": 11,
   "metadata": {},
   "outputs": [],
   "source": [
    "# middle seasonal deterministic, high stochastic seasonas component\n",
    "c_1_2_a_no_risk_middle_high, c_1_2_a_risk_middle_high = c_1_2_a('middle', 'high')         \n",
    "gain_1_2_a_middle_high = gain_1_2_a(c_1_2_a_no_risk_middle_high, c_1_2_a_risk_middle_high)\n",
    "\n",
    "# middle seasonal deterministic, middle stochastic seasonas component\n",
    "c_1_2_a_no_risk_middle_middle, c_1_2_a_risk_middle_middle = c_1_2_a('middle', 'middle')               \n",
    "gain_1_2_a_middle_middle = gain_1_2_a(c_1_2_a_no_risk_middle_middle, c_1_2_a_risk_middle_middle)\n",
    "\n",
    "# middle seasonal deterministic, low stochastic seasonas component\n",
    "c_1_2_a_no_risk_middle_low, c_1_2_a_risk_middle_low = c_1_2_a('middle', 'low')          \n",
    "gain_1_2_a_middle_low = gain_1_2_a(c_1_2_a_no_risk_middle_low, c_1_2_a_risk_middle_low)"
   ]
  },
  {
   "cell_type": "code",
   "execution_count": 12,
   "metadata": {},
   "outputs": [
    {
     "data": {
      "text/plain": [
       "Text(0.5,1,'Gain of removal of seasonal components. Deterministic component fixed at middle degree')"
      ]
     },
     "execution_count": 12,
     "metadata": {},
     "output_type": "execute_result"
    },
    {
     "data": {
      "image/png": "[encoded data removed]",
      "text/plain": [
       "<Figure size 432x288 with 1 Axes>"
      ]
     },
     "metadata": {},
     "output_type": "display_data"
    }
   ],
   "source": [
    "plt.hist(gain_1_2_a_middle_high, label=\"high - stochastic seasonal\")\n",
    "plt.hist(gain_1_2_a_middle_middle, label=\"middle - stochastic seasonal\")\n",
    "plt.hist(gain_1_2_a_middle_low, label=\"low - stochastic seasonal\")\n",
    "plt.legend()\n",
    "plt.title(\"Gain of removal of seasonal components. Deterministic component fixed at middle degree\")"
   ]
  },
  {
   "cell_type": "markdown",
   "metadata": {},
   "source": [
    "#### for Deterministic Seasonal Component on low degree"
   ]
  },
  {
   "cell_type": "code",
   "execution_count": 4,
   "metadata": {},
   "outputs": [],
   "source": [
    "# low seasonal deterministic, high stochastic seasonas component\n",
    "c_1_2_a_no_risk_low_high, c_1_2_a_risk_low_high = c_1_2_a('low', 'high')         \n",
    "gain_1_2_a_low_high = gain_1_2_a(c_1_2_a_no_risk_low_high, c_1_2_a_risk_low_high)\n",
    "\n",
    "# low seasonal deterministic, middle stochastic seasonas component\n",
    "c_1_2_a_no_risk_low_middle, c_1_2_a_risk_low_middle = c_1_2_a('low', 'middle')               \n",
    "gain_1_2_a_low_middle = gain_1_2_a(c_1_2_a_no_risk_low_middle, c_1_2_a_risk_low_middle)\n",
    "\n",
    "# low seasonal deterministic, low stochastic seasonas component\n",
    "c_1_2_a_no_risk_low_low, c_1_2_a_risk_low_low = c_1_2_a('low', 'low')          \n",
    "gain_1_2_a_low_low = gain_1_2_a(c_1_2_a_no_risk_low_low, c_1_2_a_risk_low_low)"
   ]
  },
  {
   "cell_type": "code",
   "execution_count": 5,
   "metadata": {},
   "outputs": [
    {
     "data": {
      "text/plain": [
       "Text(0.5,1,'Gain of removal of stochastic seasonal component. Deterministic seasonal component has low degree')"
      ]
     },
     "execution_count": 5,
     "metadata": {},
     "output_type": "execute_result"
    },
    {
     "data": {
      "image/png": "[encoded data removed]",
      "text/plain": [
       "<Figure size 432x288 with 1 Axes>"
      ]
     },
     "metadata": {},
     "output_type": "display_data"
    }
   ],
   "source": [
    "plt.hist(gain_1_2_a_low_high, label=\"high stochastic seasonal\")\n",
    "plt.hist(gain_1_2_a_low_middle, label=\"middle stochastic seasonal\")\n",
    "plt.hist(gain_1_2_a_low_low, label=\"low stochastic seasonal\")\n",
    "plt.legend()\n",
    "plt.title(\"Gain of removal of stochastic seasonal component. Deterministic seasonal component has low degree\")"
   ]
  },
  {
   "cell_type": "markdown",
   "metadata": {},
   "source": [
    "#### Compare pairs (deterministic, stochastic): (high, high), (middle, middle), (low, low)"
   ]
  },
  {
   "cell_type": "code",
   "execution_count": 13,
   "metadata": {},
   "outputs": [
    {
     "data": {
      "text/plain": [
       "Text(0.5,1,'Gain of removal of stochastic seasonal component. Deterministic seasonal component has low degree')"
      ]
     },
     "execution_count": 13,
     "metadata": {},
     "output_type": "execute_result"
    },
    {
     "data": {
      "image/png": "[encoded data removed]",
      "text/plain": [
       "<Figure size 432x288 with 1 Axes>"
      ]
     },
     "metadata": {},
     "output_type": "display_data"
    }
   ],
   "source": [
    "plt.hist(gain_1_2_a_high_high, label=\"high-high\")\n",
    "plt.hist(gain_1_2_a_middle_middle, label=\"middle-middle\")\n",
    "plt.hist(gain_1_2_a_low_low, label=\"low-low\")\n",
    "plt.legend()\n",
    "plt.title(\"Gain of removal of stochastic seasonal component. Deterministic seasonal component has low degree\")"
   ]
  },
  {
   "cell_type": "markdown",
   "metadata": {},
   "source": [
    "## Question 1.2. b) Removing nonseasonal stochastic component"
   ]
  },
  {
   "cell_type": "markdown",
   "metadata": {},
   "source": [
    "### eta = 1"
   ]
  },
  {
   "cell_type": "code",
   "execution_count": 14,
   "metadata": {},
   "outputs": [],
   "source": [
    "def c_1_2_b(g_level, var_m_level):\n",
    "    c_no_risk = np.zeros(shape=(1000, 40*12))\n",
    "    c_risk = np.zeros(shape=(1000, 40*12))\n",
    "    g_deter = g(g_level)\n",
    "    var_m_stoch = var_m(var_m_level)\n",
    "    ln_em = np.random.normal(0,var_m_stoch, size=(1000,40,12))\n",
    "    for i in range(1000):\n",
    "        for o in range(40*12):\n",
    "            c_no_risk[i][o] = np.exp(-var_u/2)*np.exp(ln_z[i])*np.exp(g_deter[o%12])*np.exp(-var_m_stoch[o%12]/2)*np.exp(ln_em[i][math.floor(o/12)][o%12])\n",
    "            c_risk[i][o] = np.exp(-var_u/2)*np.exp(ln_z[i])*np.exp(g_deter[o%12])*np.exp(-var_e/2)*np.exp(ln_e[i][math.floor(o/12)][o%12])*np.exp(-var_m_stoch[o%12]/2)*np.exp(ln_em[i][math.floor(o/12)][o%12]) \n",
    "    return c_no_risk, c_risk\n",
    "\n",
    "def gain_1_2_b(c_1_a_no_risk, c_1_a_risk):\n",
    "    gain = np.zeros(1000)\n",
    "    for i in range(1000):\n",
    "        gain[i] = np.exp((sum(np.power(0.99, range(1,481))*np.log(c_1_a_no_risk[i]))-sum(np.power(0.99, range(1,481))*np.log(c_1_a_risk[i])))/sum(np.power(0.99, range(1,481))))-1\n",
    "    return gain"
   ]
  },
  {
   "cell_type": "code",
   "execution_count": 15,
   "metadata": {},
   "outputs": [],
   "source": [
    "# middle seasonal deterministic, middle stochastic seasonas component\n",
    "c_1_2_b_no_risk_middle_middle, c_1_2_b_risk_middle_middle = c_1_2_b('middle', 'middle')               \n",
    "gain_1_2_b_middle_middle = gain_1_2_b(c_1_2_b_no_risk_middle_middle, c_1_2_b_risk_middle_middle)"
   ]
  },
  {
   "cell_type": "code",
   "execution_count": 16,
   "metadata": {},
   "outputs": [
    {
     "data": {
      "text/plain": [
       "Text(0.5,1,'Gain of removal of stochastic nonseasonal component. Seasonal components on middle degree')"
      ]
     },
     "execution_count": 16,
     "metadata": {},
     "output_type": "execute_result"
    },
    {
     "data": {
      "image/png": "[encoded data removed]",
      "text/plain": [
       "<Figure size 432x288 with 1 Axes>"
      ]
     },
     "metadata": {},
     "output_type": "display_data"
    }
   ],
   "source": [
    "plt.hist(gain_1_2_b_middle_middle, label=\"middle-middle\")\n",
    "plt.legend()\n",
    "plt.title(\"Gain of removal of stochastic nonseasonal component. Seasonal components on middle degree\")"
   ]
  },
  {
   "cell_type": "markdown",
   "metadata": {},
   "source": [
    "### Compare 1.1. b) and 1.2. b)"
   ]
  },
  {
   "cell_type": "code",
   "execution_count": 31,
   "metadata": {},
   "outputs": [
    {
     "data": {
      "text/plain": [
       "Text(0.5,1,'Gain of removal of stochastic nonseasonal component. Seasonal components on middle degree')"
      ]
     },
     "execution_count": 31,
     "metadata": {},
     "output_type": "execute_result"
    },
    {
     "data": {
      "image/png": "[encoded data removed]",
      "text/plain": [
       "<Figure size 432x288 with 1 Axes>"
      ]
     },
     "metadata": {},
     "output_type": "display_data"
    }
   ],
   "source": [
    "plt.hist(gain_1_b_middle, bins = 60, label=\"middle 1.1. b)\")\n",
    "plt.hist(gain_1_2_b_middle_middle, bins=60, label=\"middle-middle 1.2. b)\")\n",
    "plt.legend()\n",
    "plt.title(\"Gain of removal of stochastic nonseasonal component. Seasonal components on middle degree\")"
   ]
  },
  {
   "cell_type": "markdown",
   "metadata": {},
   "source": [
    "# Question 1.2. d) "
   ]
  },
  {
   "cell_type": "markdown",
   "metadata": {},
   "source": [
    "## eta = 4"
   ]
  },
  {
   "cell_type": "code",
   "execution_count": 32,
   "metadata": {},
   "outputs": [],
   "source": [
    "def gain_1_2_d(c_1_a_no_risk, c_1_a_risk):\n",
    "    eta = 4\n",
    "    gain = np.zeros(1000)\n",
    "    for i in range(1000):\n",
    "        gain[i] = (sum(np.power(0.99, range(1,481))*np.power(c_1_da_no_risk[i],(1-eta)/(1-eta)))/  sum(np.power(0.99, range(1,481))*np.power(c_1_da_risk[i],(1-eta)/(1-eta))) )**(1/(1-eta))-1 #-sum(np.power(0.99, range(1,481))*(c_1_da_eta2risk[i])**(1-eta)/(1-eta))/sum(np.power(0.99, range(1,481))))-1\n",
    "    return gain"
   ]
  },
  {
   "cell_type": "markdown",
   "metadata": {},
   "source": [
    "#### for Deterministic Seasonal Component on high degree"
   ]
  },
  {
   "cell_type": "code",
   "execution_count": 33,
   "metadata": {},
   "outputs": [
    {
     "ename": "NameError",
     "evalue": "name 'c_1_da_no_risk' is not defined",
     "output_type": "error",
     "traceback": [
      "\u001b[1;31m---------------------------------------------------------------------------\u001b[0m",
      "\u001b[1;31mNameError\u001b[0m                                 Traceback (most recent call last)",
      "\u001b[1;32m<ipython-input-33-fdf0e9a47073>\u001b[0m in \u001b[0;36m<module>\u001b[1;34m()\u001b[0m\n\u001b[0;32m      1\u001b[0m \u001b[1;31m# high seasonal deterministic, high stochastic seasonas component\u001b[0m\u001b[1;33m\u001b[0m\u001b[1;33m\u001b[0m\u001b[0m\n\u001b[0;32m      2\u001b[0m \u001b[0mc_1_2_d_no_risk_high_high\u001b[0m\u001b[1;33m,\u001b[0m \u001b[0mc_1_2_d_risk_high_high\u001b[0m \u001b[1;33m=\u001b[0m \u001b[0mc_1_2_a\u001b[0m\u001b[1;33m(\u001b[0m\u001b[1;34m'high'\u001b[0m\u001b[1;33m,\u001b[0m \u001b[1;34m'high'\u001b[0m\u001b[1;33m)\u001b[0m\u001b[1;33m\u001b[0m\u001b[0m\n\u001b[1;32m----> 3\u001b[1;33m \u001b[0mgain_1_2_d_high_high\u001b[0m \u001b[1;33m=\u001b[0m \u001b[0mgain_1_2_d\u001b[0m\u001b[1;33m(\u001b[0m\u001b[0mc_1_2_d_no_risk_high_high\u001b[0m\u001b[1;33m,\u001b[0m \u001b[0mc_1_2_d_risk_high_high\u001b[0m\u001b[1;33m)\u001b[0m\u001b[1;33m\u001b[0m\u001b[0m\n\u001b[0m\u001b[0;32m      4\u001b[0m \u001b[1;33m\u001b[0m\u001b[0m\n\u001b[0;32m      5\u001b[0m \u001b[1;31m# high seasonal deterministic, middle stochastic seasonas component\u001b[0m\u001b[1;33m\u001b[0m\u001b[1;33m\u001b[0m\u001b[0m\n",
      "\u001b[1;32m<ipython-input-32-805e48794b2c>\u001b[0m in \u001b[0;36mgain_1_2_d\u001b[1;34m(c_1_a_no_risk, c_1_a_risk)\u001b[0m\n\u001b[0;32m      3\u001b[0m     \u001b[0mgain\u001b[0m \u001b[1;33m=\u001b[0m \u001b[0mnp\u001b[0m\u001b[1;33m.\u001b[0m\u001b[0mzeros\u001b[0m\u001b[1;33m(\u001b[0m\u001b[1;36m1000\u001b[0m\u001b[1;33m)\u001b[0m\u001b[1;33m\u001b[0m\u001b[0m\n\u001b[0;32m      4\u001b[0m     \u001b[1;32mfor\u001b[0m \u001b[0mi\u001b[0m \u001b[1;32min\u001b[0m \u001b[0mrange\u001b[0m\u001b[1;33m(\u001b[0m\u001b[1;36m1000\u001b[0m\u001b[1;33m)\u001b[0m\u001b[1;33m:\u001b[0m\u001b[1;33m\u001b[0m\u001b[0m\n\u001b[1;32m----> 5\u001b[1;33m         \u001b[0mgain\u001b[0m\u001b[1;33m[\u001b[0m\u001b[0mi\u001b[0m\u001b[1;33m]\u001b[0m \u001b[1;33m=\u001b[0m \u001b[1;33m(\u001b[0m\u001b[0msum\u001b[0m\u001b[1;33m(\u001b[0m\u001b[0mnp\u001b[0m\u001b[1;33m.\u001b[0m\u001b[0mpower\u001b[0m\u001b[1;33m(\u001b[0m\u001b[1;36m0.99\u001b[0m\u001b[1;33m,\u001b[0m \u001b[0mrange\u001b[0m\u001b[1;33m(\u001b[0m\u001b[1;36m1\u001b[0m\u001b[1;33m,\u001b[0m\u001b[1;36m481\u001b[0m\u001b[1;33m)\u001b[0m\u001b[1;33m)\u001b[0m\u001b[1;33m*\u001b[0m\u001b[0mnp\u001b[0m\u001b[1;33m.\u001b[0m\u001b[0mpower\u001b[0m\u001b[1;33m(\u001b[0m\u001b[0mc_1_da_no_risk\u001b[0m\u001b[1;33m[\u001b[0m\u001b[0mi\u001b[0m\u001b[1;33m]\u001b[0m\u001b[1;33m,\u001b[0m\u001b[1;33m(\u001b[0m\u001b[1;36m1\u001b[0m\u001b[1;33m-\u001b[0m\u001b[0meta\u001b[0m\u001b[1;33m)\u001b[0m\u001b[1;33m/\u001b[0m\u001b[1;33m(\u001b[0m\u001b[1;36m1\u001b[0m\u001b[1;33m-\u001b[0m\u001b[0meta\u001b[0m\u001b[1;33m)\u001b[0m\u001b[1;33m)\u001b[0m\u001b[1;33m)\u001b[0m\u001b[1;33m/\u001b[0m  \u001b[0msum\u001b[0m\u001b[1;33m(\u001b[0m\u001b[0mnp\u001b[0m\u001b[1;33m.\u001b[0m\u001b[0mpower\u001b[0m\u001b[1;33m(\u001b[0m\u001b[1;36m0.99\u001b[0m\u001b[1;33m,\u001b[0m \u001b[0mrange\u001b[0m\u001b[1;33m(\u001b[0m\u001b[1;36m1\u001b[0m\u001b[1;33m,\u001b[0m\u001b[1;36m481\u001b[0m\u001b[1;33m)\u001b[0m\u001b[1;33m)\u001b[0m\u001b[1;33m*\u001b[0m\u001b[0mnp\u001b[0m\u001b[1;33m.\u001b[0m\u001b[0mpower\u001b[0m\u001b[1;33m(\u001b[0m\u001b[0mc_1_da_risk\u001b[0m\u001b[1;33m[\u001b[0m\u001b[0mi\u001b[0m\u001b[1;33m]\u001b[0m\u001b[1;33m,\u001b[0m\u001b[1;33m(\u001b[0m\u001b[1;36m1\u001b[0m\u001b[1;33m-\u001b[0m\u001b[0meta\u001b[0m\u001b[1;33m)\u001b[0m\u001b[1;33m/\u001b[0m\u001b[1;33m(\u001b[0m\u001b[1;36m1\u001b[0m\u001b[1;33m-\u001b[0m\u001b[0meta\u001b[0m\u001b[1;33m)\u001b[0m\u001b[1;33m)\u001b[0m\u001b[1;33m)\u001b[0m \u001b[1;33m)\u001b[0m\u001b[1;33m**\u001b[0m\u001b[1;33m(\u001b[0m\u001b[1;36m1\u001b[0m\u001b[1;33m/\u001b[0m\u001b[1;33m(\u001b[0m\u001b[1;36m1\u001b[0m\u001b[1;33m-\u001b[0m\u001b[0meta\u001b[0m\u001b[1;33m)\u001b[0m\u001b[1;33m)\u001b[0m\u001b[1;33m-\u001b[0m\u001b[1;36m1\u001b[0m \u001b[1;31m#-sum(np.power(0.99, range(1,481))*(c_1_da_eta2risk[i])**(1-eta)/(1-eta))/sum(np.power(0.99, range(1,481))))-1\u001b[0m\u001b[1;33m\u001b[0m\u001b[0m\n\u001b[0m\u001b[0;32m      6\u001b[0m     \u001b[1;32mreturn\u001b[0m \u001b[0mgain\u001b[0m\u001b[1;33m\u001b[0m\u001b[0m\n",
      "\u001b[1;31mNameError\u001b[0m: name 'c_1_da_no_risk' is not defined"
     ]
    }
   ],
   "source": [
    "# high seasonal deterministic, high stochastic seasonas component\n",
    "c_1_2_d_no_risk_high_high, c_1_2_d_risk_high_high = c_1_2_a('high', 'high')         \n",
    "gain_1_2_d_high_high = gain_1_2_d(c_1_2_d_no_risk_high_high, c_1_2_d_risk_high_high)\n",
    "\n",
    "# high seasonal deterministic, middle stochastic seasonas component\n",
    "c_1_2_d_no_risk_high_middle, c_1_2_d_risk_high_middle = c_1_2_d('high', 'middle')               \n",
    "gain_1_2_d_high_middle = gain_1_2_d(c_1_2_d_no_risk_high_middle, c_1_2_d_risk_high_middle)\n",
    "\n",
    "# high seasonal deterministic, low stochastic seasonas component\n",
    "c_1_2_d_no_risk_high_low, c_1_2_d_risk_high_low = c_1_2_d('high', 'low')          \n",
    "gain_1_2_d_high_low = gain_1_2_d(c_1_2_d_no_risk_high_low, c_1_2_d_risk_high_low)"
   ]
  },
  {
   "cell_type": "code",
   "execution_count": null,
   "metadata": {
    "scrolled": true
   },
   "outputs": [],
   "source": [
    "plt.hist(gain_1_2_d_high_high, label=\"high - stochastic seasonal\")\n",
    "plt.hist(gain_1_2_d_high_middle, label=\"middle - stochastic seasonal\")\n",
    "plt.hist(gain_1_2_d_high_low, label=\"low - stochastic seasonal\")\n",
    "#plt.xlim(0.01, 0.025)\n",
    "plt.legend()\n",
    "plt.title(\"Gain of removal of seasonal components. Deterministic seasonal component fixed at high degree\")"
   ]
  },
  {
   "cell_type": "markdown",
   "metadata": {},
   "source": [
    "#### for Deterministic Seasonal Component on middle degree"
   ]
  },
  {
   "cell_type": "code",
   "execution_count": 11,
   "metadata": {},
   "outputs": [],
   "source": [
    "# middle seasonal deterministic, high stochastic seasonas component\n",
    "c_1_2_d_no_risk_middle_high, c_1_2_d_risk_middle_high = c_1_2_d('middle', 'high')         \n",
    "gain_1_2_d_middle_high = gain_1_2_d(c_1_2_d_no_risk_middle_high, c_1_2_d_risk_middle_high)\n",
    "\n",
    "# middle seasonal deterministic, middle stochastic seasonas component\n",
    "c_1_2_d_no_risk_middle_middle, c_1_2_d_risk_middle_middle = c_1_2_d('middle', 'middle')               \n",
    "gain_1_2_d_middle_middle = gain_1_2_d(c_1_2_d_no_risk_middle_middle, c_1_2_d_risk_middle_middle)\n",
    "\n",
    "# middle seasonal deterministic, low stochastic seasonas component\n",
    "c_1_2_d_no_risk_middle_low, c_1_2_d_risk_middle_low = c_1_2_d('middle', 'low')          \n",
    "gain_1_2_d_middle_low = gain_1_2_d(c_1_2_d_no_risk_middle_low, c_1_2_d_risk_middle_low)"
   ]
  },
  {
   "cell_type": "code",
   "execution_count": 12,
   "metadata": {},
   "outputs": [
    {
     "data": {
      "text/plain": [
       "Text(0.5,1,'Gain of removal of seasonal components. Deterministic component fixed at middle degree')"
      ]
     },
     "execution_count": 12,
     "metadata": {},
     "output_type": "execute_result"
    },
    {
     "data": {
      "image/png": "[encoded data removed]",
      "text/plain": [
       "<Figure size 432x288 with 1 Axes>"
      ]
     },
     "metadata": {},
     "output_type": "display_data"
    }
   ],
   "source": [
    "plt.hist(gain_1_2_d_middle_high, label=\"high - stochastic seasonal\")\n",
    "plt.hist(gain_1_2_d_middle_middle, label=\"middle - stochastic seasonal\")\n",
    "plt.hist(gain_1_2_d_middle_low, label=\"low - stochastic seasonal\")\n",
    "plt.legend()\n",
    "plt.title(\"Gain of removal of seasonal components. Deterministic component fixed at middle degree\")"
   ]
  },
  {
   "cell_type": "markdown",
   "metadata": {},
   "source": [
    "#### for Deterministic Seasonal Component on low degree"
   ]
  },
  {
   "cell_type": "code",
   "execution_count": 45,
   "metadata": {},
   "outputs": [
    {
     "ename": "NameError",
     "evalue": "name 'c_1_2_d' is not defined",
     "output_type": "error",
     "traceback": [
      "\u001b[1;31m---------------------------------------------------------------------------\u001b[0m",
      "\u001b[1;31mNameError\u001b[0m                                 Traceback (most recent call last)",
      "\u001b[1;32m<ipython-input-45-41f3b243426b>\u001b[0m in \u001b[0;36m<module>\u001b[1;34m()\u001b[0m\n\u001b[0;32m      1\u001b[0m \u001b[1;31m# low seasonal deterministic, high stochastic seasonas component\u001b[0m\u001b[1;33m\u001b[0m\u001b[1;33m\u001b[0m\u001b[0m\n\u001b[1;32m----> 2\u001b[1;33m \u001b[0mc_1_2_d_no_risk_low_high\u001b[0m\u001b[1;33m,\u001b[0m \u001b[0mc_1_2_d_risk_low_high\u001b[0m \u001b[1;33m=\u001b[0m \u001b[0mc_1_2_d\u001b[0m\u001b[1;33m(\u001b[0m\u001b[1;34m'low'\u001b[0m\u001b[1;33m,\u001b[0m \u001b[1;34m'high'\u001b[0m\u001b[1;33m)\u001b[0m\u001b[1;33m\u001b[0m\u001b[0m\n\u001b[0m\u001b[0;32m      3\u001b[0m \u001b[0mgain_1_2_d_low_high\u001b[0m \u001b[1;33m=\u001b[0m \u001b[0mgain_1_2_d\u001b[0m\u001b[1;33m(\u001b[0m\u001b[0mc_1_2_d_no_risk_low_high\u001b[0m\u001b[1;33m,\u001b[0m \u001b[0mc_1_2_d_risk_low_high\u001b[0m\u001b[1;33m)\u001b[0m\u001b[1;33m\u001b[0m\u001b[0m\n\u001b[0;32m      4\u001b[0m \u001b[1;33m\u001b[0m\u001b[0m\n\u001b[0;32m      5\u001b[0m \u001b[1;31m# low seasonal deterministic, middle stochastic seasonas component\u001b[0m\u001b[1;33m\u001b[0m\u001b[1;33m\u001b[0m\u001b[0m\n",
      "\u001b[1;31mNameError\u001b[0m: name 'c_1_2_d' is not defined"
     ]
    }
   ],
   "source": [
    "# low seasonal deterministic, high stochastic seasonas component\n",
    "c_1_2_d_no_risk_low_high, c_1_2_d_risk_low_high = c_1_2_d('low', 'high')         \n",
    "gain_1_2_d_low_high = gain_1_2_d(c_1_2_d_no_risk_low_high, c_1_2_d_risk_low_high)\n",
    "\n",
    "# low seasonal deterministic, middle stochastic seasonas component\n",
    "c_1_2_d_no_risk_low_middle, c_1_2_d_risk_low_middle = c_1_2_d('low', 'middle')               \n",
    "gain_1_2_d_low_middle = gain_1_2_d(c_1_2_d_no_risk_low_middle, c_1_2_d_risk_low_middle)\n",
    "\n",
    "# low seasonal deterministic, low stochastic seasonas component\n",
    "c_1_2_d_no_risk_low_low, c_1_2_d_risk_low_low = c_1_2_d('low', 'low')          \n",
    "gain_1_2_d_low_low = gain_1_2_d(c_1_2_d_no_risk_low_low, c_1_2_d_risk_low_low)"
   ]
  },
  {
   "cell_type": "code",
   "execution_count": 5,
   "metadata": {},
   "outputs": [
    {
     "data": {
      "text/plain": [
       "Text(0.5,1,'Gain of removal of stochastic seasonal component. Deterministic seasonal component has low degree')"
      ]
     },
     "execution_count": 5,
     "metadata": {},
     "output_type": "execute_result"
    },
    {
     "data": {
      "image/png": "[encoded data removed]",
      "text/plain": [
       "<Figure size 432x288 with 1 Axes>"
      ]
     },
     "metadata": {},
     "output_type": "display_data"
    }
   ],
   "source": [
    "plt.hist(gain_1_2_d_low_high, label=\"high stochastic seasonal\")\n",
    "plt.hist(gain_1_2_d_low_middle, label=\"middle stochastic seasonal\")\n",
    "plt.hist(gain_1_2_d_low_low, label=\"low stochastic seasonal\")\n",
    "plt.legend()\n",
    "plt.title(\"Gain of removal of stochastic seasonal component. Deterministic seasonal component has low degree\")"
   ]
  },
  {
   "cell_type": "markdown",
   "metadata": {},
   "source": [
    "#### Compare pairs (deterministic, stochastic): (high, high), (middle, middle), (low, low)"
   ]
  },
  {
   "cell_type": "code",
   "execution_count": 13,
   "metadata": {},
   "outputs": [
    {
     "data": {
      "text/plain": [
       "Text(0.5,1,'Gain of removal of stochastic seasonal component. Deterministic seasonal component has low degree')"
      ]
     },
     "execution_count": 13,
     "metadata": {},
     "output_type": "execute_result"
    },
    {
     "data": {
      "image/png": "[encoded data removed]",
      "text/plain": [
       "<Figure size 432x288 with 1 Axes>"
      ]
     },
     "metadata": {},
     "output_type": "display_data"
    }
   ],
   "source": [
    "plt.hist(gain_1_2_d_high_high, label=\"high-high\")\n",
    "plt.hist(gain_1_2_d_middle_middle, label=\"middle-middle\")\n",
    "plt.hist(gain_1_2_d_low_low, label=\"low-low\")\n",
    "plt.legend()\n",
    "plt.title(\"Gain of removal of stochastic seasonal component. Deterministic seasonal component has low degree\")"
   ]
  },
  {
   "cell_type": "markdown",
   "metadata": {},
   "source": [
    "## Question 1.2. d) (b) Removing nonseasonal stochastic component"
   ]
  },
  {
   "cell_type": "markdown",
   "metadata": {},
   "source": [
    "### eta = 4"
   ]
  },
  {
   "cell_type": "code",
   "execution_count": 40,
   "metadata": {},
   "outputs": [],
   "source": [
    "def gain_1_2_d(c_1_a_no_risk, c_1_a_risk):\n",
    "    eta = 4\n",
    "    gain = np.zeros(1000)\n",
    "    for i in range(1000):\n",
    "        gain[i] = (sum(np.power(0.99, range(1,481))*np.power(c_1_a_no_risk[i],(1-eta)/(1-eta)))/  sum(np.power(0.99, range(1,481))*np.power(c_1_a_risk[i],(1-eta)/(1-eta))) )**(1/(1-eta))-1 #-sum(np.power(0.99, range(1,481))*(c_1_da_eta2risk[i])**(1-eta)/(1-eta))/sum(np.power(0.99, range(1,481))))-1\n",
    "    return gain"
   ]
  },
  {
   "cell_type": "code",
   "execution_count": 41,
   "metadata": {},
   "outputs": [],
   "source": [
    "# middle seasonal deterministic, middle stochastic seasonas component\n",
    "c_1_2_d_no_risk_middle_middle, c_1_2_d_risk_middle_middle = c_1_2_b('middle', 'middle')               \n",
    "gain_1_2_d_middle_middle = gain_1_2_d(c_1_2_d_no_risk_middle_middle, c_1_2_d_risk_middle_middle)"
   ]
  },
  {
   "cell_type": "code",
   "execution_count": 42,
   "metadata": {},
   "outputs": [
    {
     "data": {
      "text/plain": [
       "Text(0.5,1,'Gain of removal of stochastic nonseasonal component. Seasonal components on middle degree')"
      ]
     },
     "execution_count": 42,
     "metadata": {},
     "output_type": "execute_result"
    },
    {
     "data": {
      "image/png": "[encoded data removed]",
      "text/plain": [
       "<Figure size 432x288 with 1 Axes>"
      ]
     },
     "metadata": {},
     "output_type": "display_data"
    }
   ],
   "source": [
    "plt.hist(gain_1_2_d_middle_middle, label=\"middle-middle\")\n",
    "plt.legend()\n",
    "plt.title(\"Gain of removal of stochastic nonseasonal component. Seasonal components on middle degree\")"
   ]
  },
  {
   "cell_type": "code",
   "execution_count": 44,
   "metadata": {},
   "outputs": [
    {
     "ename": "NameError",
     "evalue": "name 'c_1_2_d_risk_low_low' is not defined",
     "output_type": "error",
     "traceback": [
      "\u001b[1;31m---------------------------------------------------------------------------\u001b[0m",
      "\u001b[1;31mNameError\u001b[0m                                 Traceback (most recent call last)",
      "\u001b[1;32m<ipython-input-44-925d6f2fecc7>\u001b[0m in \u001b[0;36m<module>\u001b[1;34m()\u001b[0m\n\u001b[1;32m----> 1\u001b[1;33m \u001b[0mplt\u001b[0m\u001b[1;33m.\u001b[0m\u001b[0mplot\u001b[0m\u001b[1;33m(\u001b[0m\u001b[0mc_1_2_d_risk_low_low\u001b[0m\u001b[1;33m)\u001b[0m\u001b[1;33m\u001b[0m\u001b[0m\n\u001b[0m",
      "\u001b[1;31mNameError\u001b[0m: name 'c_1_2_d_risk_low_low' is not defined"
     ]
    }
   ],
   "source": [
    "plt.plot(c_1_2_d_risk_low_low)"
   ]
  },
  {
   "cell_type": "code",
   "execution_count": null,
   "metadata": {},
   "outputs": [],
   "source": []
  },
  {
   "cell_type": "markdown",
   "metadata": {},
   "source": [
    "# Question 2."
   ]
  },
  {
   "cell_type": "markdown",
   "metadata": {},
   "source": [
    "Assume model:\n",
    "$$ max_{c_t, h_t} E_0 ( \\sum_{t=0}^{\\inf} \\beta^t  \\frac{c_t^{1-\\eta}}{1-\\eta}  - \\kappa \\frac{h_t^{1+\\frac{1}{v}}}{1+\\frac{1}{v}}    )  $$\n",
    "such that:\n",
    "$$ c_t + a_{t+1} = w_t h_t + (1+r_t - \\delta) a_{t} $$\n",
    "\n",
    "moreover assuming cobb - douglas production function ( $ \\alpha = 0.66 $) and perfect competition\n",
    "$$ w_t = 0.66 \\frac{c_t}{h_t} $$\n"
   ]
  },
  {
   "cell_type": "markdown",
   "metadata": {},
   "source": [
    "Welfare gain is defined as $ g $ such that:\n",
    "$$ W((1+g)c_a) = W(c_b) $$\n",
    "In this the case of eta = 1 (logarithmic utility function), gain is such that:\n",
    "$$ E{ \\sum^{40}_{t=1} \\beta^{12(t-1)} [ \\sum^{12}_{m=1} \\beta^{m-1}[\\log(1+g)c_{m,t}^{Risk} - \\kappa \\frac{(h_t^{Risk})^{1+\\frac{1}{v}}}{1+\\frac{1}{v}} ]] }= \\sum^{40}_{t=1} \\beta^{12(t-1)} [ \\sum^{12}_{m=1} \\beta^{m-1}[\\log c_{m,t}^{No Risk}- \\kappa \\frac{(h_t^{No Risk})^{1+\\frac{1}{v}}}{1+\\frac{1}{v}}]] $$\n",
    "thus,\n",
    "$$ \\sum^{40}_{t=1} \\beta^{12(t-1)} \\sum^{12}_{m=1} \\beta^{m-1} \\log (1+g) + E\\sum^{40}_{t=1} \\beta^{12(t-1)} \\sum^{12}_{m=1} \\beta^{m-1}( \\log c_{m,t}^{Risk}- \\kappa \\frac{(h_t^{Risk})^{1+\\frac{1}{v}}}{1+\\frac{1}{v}}) = \\sum^{40}_{t=1} \\beta^{12(t-1)} [ \\sum^{12}_{m=1} \\beta^{m-1}[\\log c_{m,t}^{No Risk}- \\kappa \\frac{(h_t^{No Risk})^{1+\\frac{1}{v}}}{1+\\frac{1}{v}}]]$$\n",
    "\n",
    "and,\n",
    "$$  \\log(1+g) = \\frac{\\sum^{40}_{t=1} \\beta^{12(t-1)} [ \\sum^{12}_{m=1} \\beta^{m-1}[\\log c_{m,t}^{No Risk}- \\kappa \\frac{(h_t^{No Risk})^{1+\\frac{1}{v}}}{1+\\frac{1}{v}}]] - E\\sum^{40}_{t=1} \\beta^{12(t-1)} \\sum^{12}_{m=1} \\beta^{m-1} \\log c_{m,t}^{Risk} - \\kappa \\frac{(h_t^{Risk})^{1+\\frac{1}{v}}}{1+\\frac{1}{v}}}{\\sum^{40}_{t=1} \\beta^{12(t-1)} \\sum^{12}_{m=1} \\beta^{m-1}} $$\n",
    "\n",
    "so, \n",
    "\n",
    "$$ g = \\exp({\\frac{\\sum^{40}_{t=1} \\beta^{12(t-1)} [ \\sum^{12}_{m=1} \\beta^{m-1}[\\log c_{m,t}^{No Risk}- \\kappa \\frac{(h_t^{No Risk})^{1+\\frac{1}{v}}}{1+\\frac{1}{v}}]] - E\\sum^{40}_{t=1} \\beta^{12(t-1)} \\sum^{12}_{m=1} \\beta^{m-1} \\log c_{m,t}^{Risk}- \\kappa \\frac{(h_t^{Risk})^{1+\\frac{1}{v}}}{1+\\frac{1}{v}}}{\\sum^{40}_{t=1} \\beta^{12(t-1)} \\sum^{12}_{m=1} \\beta^{m-1}}}) - 1$$"
   ]
  },
  {
   "cell_type": "code",
   "execution_count": 16,
   "metadata": {},
   "outputs": [],
   "source": [
    "def ch_2_a(g_level, var_m_level):\n",
    "    alpha = 0.7\n",
    "    c_no_risk = np.zeros(shape=(1000, 40*12))\n",
    "    c_risk = np.zeros(shape=(1000, 40*12))\n",
    "    h_no_risk = np.zeros(shape=(1000, 40*12))\n",
    "    h_risk = np.zeros(shape=(1000, 40*12))\n",
    "    g_deter = g(g_level)\n",
    "    var_m_stoch = var_m(var_m_level)\n",
    "    ln_em = np.random.normal(0,var_m_stoch, size=(1000,40,12))\n",
    "    #create stochastic seasonal component for labor that is correlated with its counterpart from consumption\n",
    "    ln_em_h = alpha*ln_em + (1-alpha)*np.random.normal(0,var_m_stoch, size=(1000,40,12))\n",
    "    \n",
    "    for i in range(1000):\n",
    "        for o in range(40*12):\n",
    "            c_no_risk[i][o] = np.exp(-var_u/2)*np.exp(ln_z[i])*np.exp(-var_e/2)*np.exp(ln_e[i][math.floor(o/12)][o%12])\n",
    "            c_risk[i][o] = np.exp(-var_u/2)*np.exp(ln_z[i])*np.exp(g_deter[o%12])*np.exp(-var_e/2)*np.exp(ln_e[i][math.floor(o/12)][o%12])*np.exp(-var_m_stoch[o%12]/2)*np.exp(ln_em[i][math.floor(o/12)][o%12]) \n",
    "            h_no_risk[i][o] = np.exp(-var_u/2)*np.exp(ln_z[i])*np.exp(-var_e/2)*np.exp(ln_e[i][math.floor(o/12)][o%12])\n",
    "            h_risk[i][o] = np.exp(-var_u/2)*np.exp(ln_z[i])*np.exp(g_deter[o%12])*np.exp(-var_e/2)*np.exp(ln_e[i][math.floor(o/12)][o%12])*np.exp(-var_m_stoch[o%12]/2)*np.exp(ln_em_h[i][math.floor(o/12)][o%12]) \n",
    "    return c_no_risk, c_risk, h_no_risk, h_risk\n",
    "\n",
    "def gain_2_a(c_no_risk, c_risk, h_no_risk, h_risk):\n",
    "    kappa=1\n",
    "    gain = np.zeros(1000)\n",
    "    for i in range(1000):\n",
    "        gain[i] = np.exp((sum(np.power(0.99, range(1,481))*(np.log(c_no_risk[i])-kappa*h_no_risk[i]**(2)/2))-sum(np.power(0.99, range(1,481))*(np.log(c_risk[i])-kappa*h_no_risk[i]**(2)/2)))/sum(np.power(0.99, range(1,481))))-1\n",
    "    return gain"
   ]
  },
  {
   "cell_type": "code",
   "execution_count": null,
   "metadata": {},
   "outputs": [],
   "source": []
  },
  {
   "cell_type": "code",
   "execution_count": 18,
   "metadata": {},
   "outputs": [],
   "source": [
    "# high seasonal deterministic, high stochastic seasonas component\n",
    "c_2_a_no_risk_low_high, c_2_a_risk_low_high, h_2_a_no_risk_low_high, h_2_a_risk_low_high = ch_2_a('high', 'high')         \n",
    "gain_2_a_low_high = gain_2_a(c_2_a_no_risk_low_high, c_2_a_risk_low_high, h_2_a_no_risk_low_high, h_2_a_risk_low_high)\n",
    "\n",
    "# middle seasonal deterministic, middle stochastic seasonas component\n",
    "c_2_a_no_risk_low_middle, c_2_a_risk_low_middle, h_2_a_no_risk_low_middle, h_2_a_risk_low_middle = ch_2_a('middle', 'middle')               \n",
    "gain_2_a_low_middle = gain_2_a(c_2_a_no_risk_low_middle, c_2_a_risk_low_middle, h_2_a_no_risk_low_middle, h_2_a_risk_low_middle)\n",
    "\n",
    "# low seasonal deterministic, low stochastic seasonas component\n",
    "c_2_a_no_risk_low_low, c_2_a_risk_low_low, h_2_a_no_risk_low_low, h_2_a_risk_low_low = ch_2_a('low', 'low')          \n",
    "gain_2_a_low_low = gain_2_a(c_2_a_no_risk_low_low, c_2_a_risk_low_low, h_2_a_no_risk_low_low, h_2_a_risk_low_low)"
   ]
  },
  {
   "cell_type": "code",
   "execution_count": 22,
   "metadata": {},
   "outputs": [
    {
     "data": {
      "text/plain": [
       "<matplotlib.legend.Legend at 0x25219642dd8>"
      ]
     },
     "execution_count": 22,
     "metadata": {},
     "output_type": "execute_result"
    },
    {
     "data": {
      "image/png": "[encoded data removed]",
      "text/plain": [
       "<Figure size 432x288 with 1 Axes>"
      ]
     },
     "metadata": {},
     "output_type": "display_data"
    }
   ],
   "source": [
    "plt.hist(gain_2_a_low_high, label=\"high degree\")\n",
    "plt.title(\"Q1.a)\")\n",
    "plt.legend()\n",
    "\n",
    "#Actually all HHs get the same welfare gain which is negligible"
   ]
  },
  {
   "cell_type": "code",
   "execution_count": 21,
   "metadata": {},
   "outputs": [
    {
     "data": {
      "text/plain": [
       "Text(0.5,1,'Gain of removal of stochastic seasonal component. Deterministic seasonal component has low degree')"
      ]
     },
     "execution_count": 21,
     "metadata": {},
     "output_type": "execute_result"
    },
    {
     "data": {
      "image/png": "[encoded data removed]",
      "text/plain": [
       "<Figure size 432x288 with 1 Axes>"
      ]
     },
     "metadata": {},
     "output_type": "display_data"
    }
   ],
   "source": [
    "plt.hist(gain_2_a_low_high, label=\"high-high\")\n",
    "plt.hist(gain_2_a_low_middle, label=\"middle-middle\")\n",
    "plt.hist(gain_2_a_low_low, label=\"low-low\")\n",
    "plt.legend()\n",
    "plt.title(\"Gain of removal of stochastic seasonal component. Deterministic seasonal component has low degree\")"
   ]
  },
  {
   "cell_type": "code",
   "execution_count": null,
   "metadata": {},
   "outputs": [],
   "source": []
  },
  {
   "cell_type": "markdown",
   "metadata": {},
   "source": [
    "# Question 3."
   ]
  },
  {
   "cell_type": "code",
   "execution_count": 1,
   "metadata": {},
   "outputs": [],
   "source": [
    "#import pandas as pd\n",
    "#import numpy as np\n",
    "import statsmodels.formula.api as sm"
   ]
  },
  {
   "cell_type": "code",
   "execution_count": 4,
   "metadata": {},
   "outputs": [
    {
     "name": "stderr",
     "output_type": "stream",
     "text": [
      "C:\\Users\\adamw\\Anaconda3\\lib\\site-packages\\ipykernel_launcher.py:4: RuntimeWarning: divide by zero encountered in log\n",
      "  after removing the cwd from sys.path.\n"
     ]
    }
   ],
   "source": [
    "data = pd.read_stata('C:/Users/adamw/Desktop/Development/PS2/dataUGA.dta')\n",
    "\n",
    "data['log_wage'] = np.log(data[\"wage_total\"])\n",
    "data['log_consum'] = np.log(data[\"ctotal\"])"
   ]
  },
  {
   "cell_type": "code",
   "execution_count": 10,
   "metadata": {},
   "outputs": [
    {
     "data": {
      "text/plain": [
       "Index(['age', 'age_sq', '_aggregate', 'agr_share', 'bednet', 'bs_profit',\n",
       "       'bus_share', 'businessman', 'cfood', 'classeduc', 'climate', 'cnodur',\n",
       "       'ctotal', 'ctotal_dur', 'ctotal_gift', 'd_aggregate', 'd_climate',\n",
       "       'd_health', 'd_idiosyn', 'd_job', 'd_pests', 'd_prices', 'd_shock',\n",
       "       'ethnic', 'familysize', 'farmer', 'father_educ', 'father_ocup',\n",
       "       'female', 'health', 'hh', 'idiosyn', 'illdays', 'inctotal',\n",
       "       'inctotal_trans', 'index', 'inflation', 'job', 'lnbs_profit', 'lnc',\n",
       "       'lncfood', 'lncnodur', 'lnctotal_dur', 'lnctotal_gift',\n",
       "       'lninctotal_trans', 'lnother_net', 'lnprofit_agr', 'lnprofit_agrb',\n",
       "       'lnprofit_ls', 'lntotal_agrls', 'lnwage_total', 'lny', 'month',\n",
       "       'ocupation', 'other_inc', 'other_net', 'pests', 'prices', 'profit_agr',\n",
       "       'profit_agrb', 'profit_ls', 'region', 'region2', 'region3', 'region4',\n",
       "       'sex', 'shock', 'sregion', 'total_agrls', 'u_c', 'u_y', 'urban',\n",
       "       'w_share', 'wage_total', 'wave', 'worker', 'writeread', 'year', 'avgc',\n",
       "       'counthh', 'lnc_nogift', 'log_wage', 'log_consum'],\n",
       "      dtype='object')"
      ]
     },
     "execution_count": 10,
     "metadata": {},
     "output_type": "execute_result"
    }
   ],
   "source": [
    "data.columns"
   ]
  },
  {
   "cell_type": "code",
   "execution_count": 11,
   "metadata": {},
   "outputs": [
    {
     "data": {
      "text/html": [
       "<div>\n",
       "<style scoped>\n",
       "    .dataframe tbody tr th:only-of-type {\n",
       "        vertical-align: middle;\n",
       "    }\n",
       "\n",
       "    .dataframe tbody tr th {\n",
       "        vertical-align: top;\n",
       "    }\n",
       "\n",
       "    .dataframe thead th {\n",
       "        text-align: right;\n",
       "    }\n",
       "</style>\n",
       "<table border=\"1\" class=\"dataframe\">\n",
       "  <thead>\n",
       "    <tr style=\"text-align: right;\">\n",
       "      <th></th>\n",
       "      <th>age</th>\n",
       "      <th>age_sq</th>\n",
       "      <th>_aggregate</th>\n",
       "      <th>agr_share</th>\n",
       "      <th>bednet</th>\n",
       "      <th>bs_profit</th>\n",
       "      <th>bus_share</th>\n",
       "      <th>businessman</th>\n",
       "      <th>cfood</th>\n",
       "      <th>classeduc</th>\n",
       "      <th>...</th>\n",
       "      <th>wage_total</th>\n",
       "      <th>wave</th>\n",
       "      <th>worker</th>\n",
       "      <th>writeread</th>\n",
       "      <th>year</th>\n",
       "      <th>avgc</th>\n",
       "      <th>counthh</th>\n",
       "      <th>lnc_nogift</th>\n",
       "      <th>log_wage</th>\n",
       "      <th>log_consum</th>\n",
       "    </tr>\n",
       "  </thead>\n",
       "  <tbody>\n",
       "    <tr>\n",
       "      <th>0</th>\n",
       "      <td>44.0</td>\n",
       "      <td>1936.0</td>\n",
       "      <td>0.0</td>\n",
       "      <td>NaN</td>\n",
       "      <td>1.0</td>\n",
       "      <td>NaN</td>\n",
       "      <td>NaN</td>\n",
       "      <td>NaN</td>\n",
       "      <td>1159.316322</td>\n",
       "      <td>13.0</td>\n",
       "      <td>...</td>\n",
       "      <td>NaN</td>\n",
       "      <td>2009-2010</td>\n",
       "      <td>NaN</td>\n",
       "      <td>0.0</td>\n",
       "      <td>2009.0</td>\n",
       "      <td>7.227382</td>\n",
       "      <td>4</td>\n",
       "      <td>7.336252</td>\n",
       "      <td>NaN</td>\n",
       "      <td>7.336252</td>\n",
       "    </tr>\n",
       "    <tr>\n",
       "      <th>1</th>\n",
       "      <td>34.0</td>\n",
       "      <td>1156.0</td>\n",
       "      <td>0.0</td>\n",
       "      <td>NaN</td>\n",
       "      <td>0.0</td>\n",
       "      <td>NaN</td>\n",
       "      <td>NaN</td>\n",
       "      <td>NaN</td>\n",
       "      <td>1039.792053</td>\n",
       "      <td>15.0</td>\n",
       "      <td>...</td>\n",
       "      <td>NaN</td>\n",
       "      <td>2009-2010</td>\n",
       "      <td>NaN</td>\n",
       "      <td>0.0</td>\n",
       "      <td>2009.0</td>\n",
       "      <td>7.227382</td>\n",
       "      <td>4</td>\n",
       "      <td>7.170604</td>\n",
       "      <td>NaN</td>\n",
       "      <td>7.223137</td>\n",
       "    </tr>\n",
       "    <tr>\n",
       "      <th>2</th>\n",
       "      <td>38.0</td>\n",
       "      <td>1444.0</td>\n",
       "      <td>0.0</td>\n",
       "      <td>-0.019425</td>\n",
       "      <td>1.0</td>\n",
       "      <td>405.796317</td>\n",
       "      <td>0.369075</td>\n",
       "      <td>1.0</td>\n",
       "      <td>888.480357</td>\n",
       "      <td>17.0</td>\n",
       "      <td>...</td>\n",
       "      <td>715.055826</td>\n",
       "      <td>2009-2010</td>\n",
       "      <td>1.0</td>\n",
       "      <td>0.0</td>\n",
       "      <td>2010.0</td>\n",
       "      <td>7.227382</td>\n",
       "      <td>3</td>\n",
       "      <td>7.087835</td>\n",
       "      <td>6.572361</td>\n",
       "      <td>7.119439</td>\n",
       "    </tr>\n",
       "    <tr>\n",
       "      <th>3</th>\n",
       "      <td>31.0</td>\n",
       "      <td>961.0</td>\n",
       "      <td>0.0</td>\n",
       "      <td>NaN</td>\n",
       "      <td>0.0</td>\n",
       "      <td>NaN</td>\n",
       "      <td>NaN</td>\n",
       "      <td>0.0</td>\n",
       "      <td>63.859526</td>\n",
       "      <td>15.0</td>\n",
       "      <td>...</td>\n",
       "      <td>208.557949</td>\n",
       "      <td>2009-2010</td>\n",
       "      <td>1.0</td>\n",
       "      <td>1.0</td>\n",
       "      <td>2010.0</td>\n",
       "      <td>7.227382</td>\n",
       "      <td>1</td>\n",
       "      <td>5.213175</td>\n",
       "      <td>5.340217</td>\n",
       "      <td>5.213175</td>\n",
       "    </tr>\n",
       "    <tr>\n",
       "      <th>4</th>\n",
       "      <td>39.0</td>\n",
       "      <td>1521.0</td>\n",
       "      <td>0.0</td>\n",
       "      <td>0.000000</td>\n",
       "      <td>0.0</td>\n",
       "      <td>427.419696</td>\n",
       "      <td>0.117192</td>\n",
       "      <td>0.0</td>\n",
       "      <td>4440.997495</td>\n",
       "      <td>36.0</td>\n",
       "      <td>...</td>\n",
       "      <td>3219.752569</td>\n",
       "      <td>2009-2010</td>\n",
       "      <td>1.0</td>\n",
       "      <td>0.0</td>\n",
       "      <td>2010.0</td>\n",
       "      <td>7.227382</td>\n",
       "      <td>2</td>\n",
       "      <td>9.256837</td>\n",
       "      <td>8.077060</td>\n",
       "      <td>9.425398</td>\n",
       "    </tr>\n",
       "  </tbody>\n",
       "</table>\n",
       "<p>5 rows × 83 columns</p>\n",
       "</div>"
      ],
      "text/plain": [
       "    age  age_sq  _aggregate  agr_share  bednet   bs_profit  bus_share  \\\n",
       "0  44.0  1936.0         0.0        NaN     1.0         NaN        NaN   \n",
       "1  34.0  1156.0         0.0        NaN     0.0         NaN        NaN   \n",
       "2  38.0  1444.0         0.0  -0.019425     1.0  405.796317   0.369075   \n",
       "3  31.0   961.0         0.0        NaN     0.0         NaN        NaN   \n",
       "4  39.0  1521.0         0.0   0.000000     0.0  427.419696   0.117192   \n",
       "\n",
       "   businessman        cfood  classeduc     ...       wage_total       wave  \\\n",
       "0          NaN  1159.316322       13.0     ...              NaN  2009-2010   \n",
       "1          NaN  1039.792053       15.0     ...              NaN  2009-2010   \n",
       "2          1.0   888.480357       17.0     ...       715.055826  2009-2010   \n",
       "3          0.0    63.859526       15.0     ...       208.557949  2009-2010   \n",
       "4          0.0  4440.997495       36.0     ...      3219.752569  2009-2010   \n",
       "\n",
       "   worker  writeread    year      avgc  counthh  lnc_nogift  log_wage  \\\n",
       "0     NaN        0.0  2009.0  7.227382        4    7.336252       NaN   \n",
       "1     NaN        0.0  2009.0  7.227382        4    7.170604       NaN   \n",
       "2     1.0        0.0  2010.0  7.227382        3    7.087835  6.572361   \n",
       "3     1.0        1.0  2010.0  7.227382        1    5.213175  5.340217   \n",
       "4     1.0        0.0  2010.0  7.227382        2    9.256837  8.077060   \n",
       "\n",
       "   log_consum  \n",
       "0    7.336252  \n",
       "1    7.223137  \n",
       "2    7.119439  \n",
       "3    5.213175  \n",
       "4    9.425398  \n",
       "\n",
       "[5 rows x 83 columns]"
      ]
     },
     "execution_count": 11,
     "metadata": {},
     "output_type": "execute_result"
    }
   ],
   "source": [
    "data.head()"
   ]
  },
  {
   "cell_type": "markdown",
   "metadata": {},
   "source": [
    "# MEAN"
   ]
  },
  {
   "cell_type": "code",
   "execution_count": 5,
   "metadata": {},
   "outputs": [],
   "source": [
    "\n",
    "data_grouped = data.groupby(['age', 'year', 'month'])[['log_wage', 'log_consum', 'age', 'year', 'month']].mean()\n",
    "\n",
    "# creating dummies for age 15-25, 26-45, 46-99\n",
    "data_grouped['age15_25'] = ((data_grouped[\"age\"] >=15) & (data_grouped[\"age\"] <=25)).astype(int)\n",
    "data_grouped['age26_45'] = ((data_grouped[\"age\"] >=26) & (data_grouped[\"age\"] <=45)).astype(int)\n",
    "data_grouped['age46_99'] = ((data_grouped[\"age\"] >=46) & (data_grouped[\"age\"] <=99)).astype(int)\n",
    "\n",
    "# creating dummies for months 1-3, 4-6, 7-9, 10-12\n",
    "data_grouped['month1_3'] = ((data_grouped[\"month\"] >=1) & (data_grouped[\"month\"] <=3)).astype(int)\n",
    "data_grouped['month4_6'] = ((data_grouped[\"month\"] >=4) & (data_grouped[\"month\"] <=6)).astype(int)\n",
    "data_grouped['month7_9'] = ((data_grouped[\"month\"] >=7) & (data_grouped[\"month\"] <=9)).astype(int)\n",
    "data_grouped['month10_12'] = ((data_grouped[\"month\"] >=10) & (data_grouped[\"month\"] <=12)).astype(int)\n",
    "\n",
    "# creating dummies for years 2009-2014\n",
    "data_grouped['year2009'] = ((data_grouped[\"year\"] >=2009) & (data_grouped[\"year\"] <=2009)).astype(int)\n",
    "data_grouped['year2010'] = ((data_grouped[\"year\"] >=2010) & (data_grouped[\"year\"] <=2010)).astype(int)\n",
    "data_grouped['year2011'] = ((data_grouped[\"year\"] >=2011) & (data_grouped[\"year\"] <=2011)).astype(int)\n",
    "data_grouped['year2012'] = ((data_grouped[\"year\"] >=2012) & (data_grouped[\"year\"] <=2012)).astype(int)\n",
    "data_grouped['year2013'] = ((data_grouped[\"year\"] >=2013) & (data_grouped[\"year\"] <=2013)).astype(int)\n",
    "data_grouped['year2014'] = ((data_grouped[\"year\"] >=2014) & (data_grouped[\"year\"] <=2014)).astype(int)"
   ]
  },
  {
   "cell_type": "code",
   "execution_count": 8,
   "metadata": {},
   "outputs": [
    {
     "name": "stdout",
     "output_type": "stream",
     "text": [
      "                            OLS Regression Results                            \n",
      "==============================================================================\n",
      "Dep. Variable:               log_wage   R-squared:                       0.047\n",
      "Model:                            OLS   Adj. R-squared:                  0.042\n",
      "Method:                 Least Squares   F-statistic:                     9.472\n",
      "Date:                Thu, 07 Feb 2019   Prob (F-statistic):           1.59e-15\n",
      "Time:                        19:03:58   Log-Likelihood:                -3363.7\n",
      "No. Observations:                1936   AIC:                             6749.\n",
      "Df Residuals:                    1925   BIC:                             6811.\n",
      "Df Model:                          10                                         \n",
      "Covariance Type:            nonrobust                                         \n",
      "==============================================================================\n",
      "                 coef    std err          t      P>|t|      [0.025      0.975]\n",
      "------------------------------------------------------------------------------\n",
      "Intercept      5.5130      0.180     30.712      0.000       5.161       5.865\n",
      "age26_45       0.4137      0.125      3.301      0.001       0.168       0.659\n",
      "age46_99       0.0456      0.124      0.367      0.714      -0.198       0.290\n",
      "month4_6      -0.1495      0.091     -1.647      0.100      -0.327       0.028\n",
      "month7_9       0.0372      0.091      0.409      0.683      -0.141       0.216\n",
      "month10_12     0.1736      0.100      1.738      0.082      -0.022       0.369\n",
      "year2010       0.1535      0.128      1.196      0.232      -0.098       0.405\n",
      "year2011       0.0924      0.133      0.692      0.489      -0.169       0.354\n",
      "year2012       0.4637      0.132      3.508      0.000       0.204       0.723\n",
      "year2013       0.3775      0.161      2.338      0.020       0.061       0.694\n",
      "year2014       0.7069      0.147      4.797      0.000       0.418       0.996\n",
      "==============================================================================\n",
      "Omnibus:                       89.424   Durbin-Watson:                   1.857\n",
      "Prob(Omnibus):                  0.000   Jarque-Bera (JB):              113.956\n",
      "Skew:                          -0.466   Prob(JB):                     1.80e-25\n",
      "Kurtosis:                       3.737   Cond. No.                         13.0\n",
      "==============================================================================\n",
      "\n",
      "Warnings:\n",
      "[1] Standard Errors assume that the covariance matrix of the errors is correctly specified.\n"
     ]
    }
   ],
   "source": [
    "# OLS for log_wage\n",
    "result = sm.ols(formula=\"log_wage ~  age26_45 + age46_99 + month4_6 + month7_9 +month10_12 +year2010 + year2011 + year2012 +year2013 +year2014\", data=data_grouped).fit()\n",
    "print(result.summary())"
   ]
  },
  {
   "cell_type": "code",
   "execution_count": 9,
   "metadata": {},
   "outputs": [
    {
     "name": "stdout",
     "output_type": "stream",
     "text": [
      "                            OLS Regression Results                            \n",
      "==============================================================================\n",
      "Dep. Variable:             log_consum   R-squared:                       0.031\n",
      "Model:                            OLS   Adj. R-squared:                  0.027\n",
      "Method:                 Least Squares   F-statistic:                     9.009\n",
      "Date:                Thu, 07 Feb 2019   Prob (F-statistic):           9.20e-15\n",
      "Time:                        19:04:25   Log-Likelihood:                -2700.9\n",
      "No. Observations:                2857   AIC:                             5424.\n",
      "Df Residuals:                    2846   BIC:                             5489.\n",
      "Df Model:                          10                                         \n",
      "Covariance Type:            nonrobust                                         \n",
      "==============================================================================\n",
      "                 coef    std err          t      P>|t|      [0.025      0.975]\n",
      "------------------------------------------------------------------------------\n",
      "Intercept      6.9061      0.066    104.851      0.000       6.777       7.035\n",
      "age26_45       0.3667      0.046      7.941      0.000       0.276       0.457\n",
      "age46_99       0.2568      0.044      5.793      0.000       0.170       0.344\n",
      "month4_6       0.0071      0.034      0.210      0.834      -0.060       0.074\n",
      "month7_9       0.0159      0.034      0.468      0.639      -0.051       0.082\n",
      "month10_12     0.0237      0.037      0.642      0.521      -0.049       0.096\n",
      "year2010      -0.0807      0.050     -1.618      0.106      -0.179       0.017\n",
      "year2011      -0.1048      0.050     -2.078      0.038      -0.204      -0.006\n",
      "year2012      -0.0588      0.050     -1.172      0.241      -0.157       0.040\n",
      "year2013      -0.0817      0.059     -1.374      0.170      -0.198       0.035\n",
      "year2014       0.0554      0.055      1.013      0.311      -0.052       0.163\n",
      "==============================================================================\n",
      "Omnibus:                     1425.892   Durbin-Watson:                   1.904\n",
      "Prob(Omnibus):                  0.000   Jarque-Bera (JB):            41838.968\n",
      "Skew:                          -1.776   Prob(JB):                         0.00\n",
      "Kurtosis:                      21.408   Cond. No.                         13.3\n",
      "==============================================================================\n",
      "\n",
      "Warnings:\n",
      "[1] Standard Errors assume that the covariance matrix of the errors is correctly specified.\n"
     ]
    }
   ],
   "source": [
    "# OLS for log_consum\n",
    "data_grouped['log_consum'] = data_grouped['log_consum'].mask(data_grouped['log_consum'] < 0, 0)\n",
    "result1 = sm.ols(formula=\"log_consum ~  age26_45 + age46_99 + month4_6 + month7_9 +month10_12 +year2010 + year2011 + year2012 +year2013 +year2014\", data=data_grouped).fit()\n",
    "print(result1.summary())"
   ]
  },
  {
   "cell_type": "code",
   "execution_count": null,
   "metadata": {},
   "outputs": [],
   "source": []
  }
 ],
 "metadata": {
  "kernelspec": {
   "display_name": "Python 3",
   "language": "python",
   "name": "python3"
  },
  "language_info": {
   "codemirror_mode": {
    "name": "ipython",
    "version": 3
   },
   "file_extension": ".py",
   "mimetype": "text/x-python",
   "name": "python",
   "nbconvert_exporter": "python",
   "pygments_lexer": "ipython3",
   "version": "3.7.1"
  }
 },
 "nbformat": 4,
 "nbformat_minor": 2
}
